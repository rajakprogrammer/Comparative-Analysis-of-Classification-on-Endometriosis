{
 "cells": [
  {
   "cell_type": "code",
   "execution_count": 1,
   "metadata": {},
   "outputs": [
    {
     "name": "stdout",
     "output_type": "stream",
     "text": [
      "Dataset split completed and organized into train, val, and test folders.\n"
     ]
    }
   ],
   "source": [
    "import os\n",
    "import shutil\n",
    "from sklearn.model_selection import train_test_split\n",
    "\n",
    "# Define paths\n",
    "data_dir = r'D:\\Engineering\\SEM7\\COMPUTER VISION\\proj_imp\\DATASET\\histopathological_img_dataset'  \n",
    "output_dir = r'D:\\Engineering\\SEM7\\COMPUTER VISION\\proj_imp\\DATASET\\org_datahistopath_img_data'\n",
    "\n",
    "# Create base directories for train, val, and test\n",
    "os.makedirs(output_dir, exist_ok=True)\n",
    "os.makedirs(f'{output_dir}/train', exist_ok=True)\n",
    "os.makedirs(f'{output_dir}/val', exist_ok=True)\n",
    "os.makedirs(f'{output_dir}/test', exist_ok=True)\n",
    "\n",
    "# Process each folder, treating each subfolder as its own class\n",
    "for main_class_name in os.listdir(data_dir):\n",
    "    main_class_path = os.path.join(data_dir, main_class_name)\n",
    "    \n",
    "    if os.path.isdir(main_class_path):\n",
    "        # Check for subdirectories within the main class folder\n",
    "        subdirs = [d for d in os.listdir(main_class_path) if os.path.isdir(os.path.join(main_class_path, d))]\n",
    "        \n",
    "        if subdirs:\n",
    "            # If subfolders exist, treat each subfolder as a distinct class\n",
    "            for subdir in subdirs:\n",
    "                subdir_path = os.path.join(main_class_path, subdir)\n",
    "                class_name = f\"{main_class_name}_{subdir}\"  # Unique class name, e.g., \"NE_Follicular\"\n",
    "                images = os.listdir(subdir_path)\n",
    "\n",
    "                # Skip if there are not enough images to split\n",
    "                if len(images) < 4:\n",
    "                    print(f\"Skipping class '{class_name}' as it has fewer than 4 images.\")\n",
    "                    continue\n",
    "\n",
    "                # Split into train (70%), val (15%), and test (15%)\n",
    "                train_images, temp_images = train_test_split(images, test_size=0.3, random_state=42)\n",
    "                if len(temp_images) >= 2:\n",
    "                    val_images, test_images = train_test_split(temp_images, test_size=0.5, random_state=42)\n",
    "                else:\n",
    "                    val_images, test_images = temp_images, []\n",
    "\n",
    "                # Create class directories within train, val, and test folders\n",
    "                for split in ['train', 'val', 'test']:\n",
    "                    os.makedirs(f'{output_dir}/{split}/{class_name}', exist_ok=True)\n",
    "\n",
    "                # Copy images to the respective split folders\n",
    "                for image in train_images:\n",
    "                    shutil.copy(os.path.join(subdir_path, image), f'{output_dir}/train/{class_name}/{image}')\n",
    "                \n",
    "                for image in val_images:\n",
    "                    shutil.copy(os.path.join(subdir_path, image), f'{output_dir}/val/{class_name}/{image}')\n",
    "                \n",
    "                for image in test_images:\n",
    "                    shutil.copy(os.path.join(subdir_path, image), f'{output_dir}/test/{class_name}/{image}')\n",
    "        else:\n",
    "            # No subfolders; treat main folder as a single class\n",
    "            class_name = main_class_name\n",
    "            images = os.listdir(main_class_path)\n",
    "\n",
    "            # Split into train (70%), val (15%), and test (15%)\n",
    "            train_images, temp_images = train_test_split(images, test_size=0.3, random_state=42)\n",
    "            if len(temp_images) >= 2:\n",
    "                val_images, test_images = train_test_split(temp_images, test_size=0.5, random_state=42)\n",
    "            else:\n",
    "                val_images, test_images = temp_images, []\n",
    "\n",
    "            # Create class directories within train, val, and test folders\n",
    "            for split in ['train', 'val', 'test']:\n",
    "                os.makedirs(f'{output_dir}/{split}/{class_name}', exist_ok=True)\n",
    "\n",
    "            # Copy images to the respective split folders\n",
    "            for image in train_images:\n",
    "                shutil.copy(os.path.join(main_class_path, image), f'{output_dir}/train/{class_name}/{image}')\n",
    "            \n",
    "            for image in val_images:\n",
    "                shutil.copy(os.path.join(main_class_path, image), f'{output_dir}/val/{class_name}/{image}')\n",
    "            \n",
    "            for image in test_images:\n",
    "                shutil.copy(os.path.join(main_class_path, image), f'{output_dir}/test/{class_name}/{image}')\n",
    "\n",
    "print(\"Dataset split completed and organized into train, val, and test folders.\")\n"
   ]
  },
  {
   "cell_type": "code",
   "execution_count": 3,
   "metadata": {},
   "outputs": [
    {
     "name": "stdout",
     "output_type": "stream",
     "text": [
      "Image shape: torch.Size([1, 3, 480, 640])\n"
     ]
    }
   ],
   "source": [
    "from torch.utils.data import DataLoader\n",
    "from torchvision import datasets, transforms\n",
    "\n",
    "# Dataset example\n",
    "dataset = datasets.ImageFolder(\n",
    "    root=r\"D:\\Engineering\\SEM7\\COMPUTER VISION\\proj_imp\\DATASET\\org_datahistopath_img_data\",\n",
    "    transform=transforms.ToTensor()\n",
    ")\n",
    "\n",
    "# Create DataLoader\n",
    "dataloader = DataLoader(dataset, batch_size=1, shuffle=True)\n",
    "\n",
    "# Get a sample image\n",
    "data_iter = iter(dataloader)\n",
    "image, label = next(data_iter)\n",
    "\n",
    "# Print image shape\n",
    "print(f\"Image shape: {image.shape}\")  # (Batch, Channels, Height, Width)\n"
   ]
  },
  {
   "cell_type": "code",
   "execution_count": 10,
   "metadata": {},
   "outputs": [
    {
     "name": "stdout",
     "output_type": "stream",
     "text": [
      "Number of classes: 6\n",
      "Class names: ['EA', 'EH_Complex', 'EH_Simple', 'EP', 'NE_Follicular', 'NE_Luteal']\n"
     ]
    }
   ],
   "source": [
    "import torch\n",
    "import torchvision.transforms as transforms\n",
    "from torchvision.datasets import ImageFolder\n",
    "from torch.utils.data import DataLoader\n",
    "from sklearn.metrics import classification_report, confusion_matrix\n",
    "\n",
    "# Define paths\n",
    "train_dir = r'D:\\Engineering\\SEM7\\COMPUTER VISION\\proj_imp\\DATASET\\org_datahistopath_img_data\\train'\n",
    "val_dir = r'D:\\Engineering\\SEM7\\COMPUTER VISION\\proj_imp\\DATASET\\org_datahistopath_img_data\\val'\n",
    "test_dir = r'D:\\Engineering\\SEM7\\COMPUTER VISION\\proj_imp\\DATASET\\org_datahistopath_img_data\\test'\n",
    "\n",
    "# Define transforms (adjust these as needed)\n",
    "transform = transforms.Compose([\n",
    "    transforms.Resize((224, 224)),  # Resizing to fit ResNet50 input\n",
    "    transforms.ToTensor(),\n",
    "    transforms.Normalize(mean=[0.485, 0.456, 0.406], std=[0.229, 0.224, 0.225])  # Standard ImageNet normalization\n",
    "])\n",
    "\n",
    "# Load datasets\n",
    "train_dataset = ImageFolder(root=train_dir, transform=transform)\n",
    "val_dataset = ImageFolder(root=val_dir, transform=transform)\n",
    "test_dataset = ImageFolder(root=test_dir, transform=transform)\n",
    "\n",
    "# Create data loaders\n",
    "train_loader = DataLoader(train_dataset, batch_size=32, shuffle=True)\n",
    "val_loader = DataLoader(val_dataset, batch_size=32, shuffle=False)\n",
    "test_loader = DataLoader(test_dataset, batch_size=32, shuffle=False)\n",
    "\n",
    "# Check the number of classes\n",
    "num_classes = len(train_dataset.classes)\n",
    "print(f\"Number of classes: {num_classes}\")\n",
    "print(\"Class names:\", train_dataset.classes)\n"
   ]
  },
  {
   "cell_type": "markdown",
   "metadata": {},
   "source": [
    "# DENSENET"
   ]
  },
  {
   "cell_type": "code",
   "execution_count": 11,
   "metadata": {},
   "outputs": [
    {
     "name": "stdout",
     "output_type": "stream",
     "text": [
      "Number of classes: 6\n",
      "Class names: ['EA', 'EH_Complex', 'EH_Simple', 'EP', 'NE_Follicular', 'NE_Luteal']\n"
     ]
    }
   ],
   "source": [
    "import torch\n",
    "import torchvision.transforms as transforms\n",
    "from torchvision.datasets import ImageFolder\n",
    "from torch.utils.data import DataLoader\n",
    "from sklearn.metrics import classification_report, confusion_matrix\n",
    "\n",
    "# Define paths\n",
    "train_dir = r'D:\\Engineering\\SEM7\\COMPUTER VISION\\proj_imp\\DATASET\\org_datahistopath_img_data\\test'\n",
    "val_dir = r'D:\\Engineering\\SEM7\\COMPUTER VISION\\proj_imp\\DATASET\\org_datahistopath_img_data\\val'\n",
    "test_dir = r'D:\\Engineering\\SEM7\\COMPUTER VISION\\proj_imp\\DATASET\\org_datahistopath_img_data\\test'\n",
    "\n",
    "# Define transforms (adjust these as needed)\n",
    "transform = transforms.Compose([\n",
    "    transforms.Resize((224, 224)),  # Resizing to fit DenseNet input\n",
    "    transforms.ToTensor(),\n",
    "    transforms.Normalize(mean=[0.485, 0.456, 0.406], std=[0.229, 0.224, 0.225])  # Standard ImageNet normalization\n",
    "])\n",
    "\n",
    "# Load datasets\n",
    "train_dataset = ImageFolder(root=train_dir, transform=transform)\n",
    "val_dataset = ImageFolder(root=val_dir, transform=transform)\n",
    "test_dataset = ImageFolder(root=test_dir, transform=transform)\n",
    "\n",
    "# Create data loaders\n",
    "train_loader = DataLoader(train_dataset, batch_size=32, shuffle=True)\n",
    "val_loader = DataLoader(val_dataset, batch_size=32, shuffle=False)\n",
    "test_loader = DataLoader(test_dataset, batch_size=32, shuffle=False)\n",
    "\n",
    "# Check the number of classes\n",
    "num_classes = len(train_dataset.classes)\n",
    "print(f\"Number of classes: {num_classes}\")\n",
    "print(\"Class names:\", train_dataset.classes)\n"
   ]
  },
  {
   "cell_type": "code",
   "execution_count": 12,
   "metadata": {},
   "outputs": [
    {
     "name": "stderr",
     "output_type": "stream",
     "text": [
      "c:\\Python312\\Lib\\site-packages\\torchvision\\models\\_utils.py:208: UserWarning: The parameter 'pretrained' is deprecated since 0.13 and may be removed in the future, please use 'weights' instead.\n",
      "  warnings.warn(\n",
      "c:\\Python312\\Lib\\site-packages\\torchvision\\models\\_utils.py:223: UserWarning: Arguments other than a weight enum or `None` for 'weights' are deprecated since 0.13 and may be removed in the future. The current behavior is equivalent to passing `weights=DenseNet121_Weights.IMAGENET1K_V1`. You can also use `weights=DenseNet121_Weights.DEFAULT` to get the most up-to-date weights.\n",
      "  warnings.warn(msg)\n"
     ]
    },
    {
     "name": "stdout",
     "output_type": "stream",
     "text": [
      "True\n"
     ]
    }
   ],
   "source": [
    "import torch.nn as nn\n",
    "import torchvision.models as models\n",
    "\n",
    "# Load DenseNet121 and modify the classifier layer to match the number of classes\n",
    "model = models.densenet121(pretrained=True)\n",
    "num_features = model.classifier.in_features\n",
    "model.classifier = nn.Linear(num_features, num_classes)\n",
    "\n",
    "# Move model to GPU if available\n",
    "device = torch.device('cuda' if torch.cuda.is_available() else 'cpu')\n",
    "model = model.to(device)\n",
    "print( torch.cuda.is_available())"
   ]
  },
  {
   "cell_type": "code",
   "execution_count": 13,
   "metadata": {},
   "outputs": [
    {
     "name": "stdout",
     "output_type": "stream",
     "text": [
      "Epoch [1/100], Train Loss: 1.3867, Val Loss: 5.7194, Val Accuracy: 32.32%\n",
      "Model saved at epoch 1 with Validation Accuracy: 32.32%\n",
      "Epoch [2/100], Train Loss: 0.8994, Val Loss: 2.9321, Val Accuracy: 41.06%\n",
      "Model saved at epoch 2 with Validation Accuracy: 41.06%\n",
      "Epoch [3/100], Train Loss: 0.7109, Val Loss: 1.9759, Val Accuracy: 48.78%\n",
      "Model saved at epoch 3 with Validation Accuracy: 48.78%\n",
      "Epoch [4/100], Train Loss: 0.5749, Val Loss: 1.5012, Val Accuracy: 57.11%\n",
      "Model saved at epoch 4 with Validation Accuracy: 57.11%\n",
      "Epoch [5/100], Train Loss: 0.5479, Val Loss: 1.5892, Val Accuracy: 53.25%\n",
      "Epoch [6/100], Train Loss: 0.4216, Val Loss: 2.1845, Val Accuracy: 51.42%\n",
      "Epoch [7/100], Train Loss: 0.3732, Val Loss: 1.9263, Val Accuracy: 52.44%\n",
      "Epoch [8/100], Train Loss: 0.2775, Val Loss: 1.2530, Val Accuracy: 60.57%\n",
      "Model saved at epoch 8 with Validation Accuracy: 60.57%\n",
      "Epoch [9/100], Train Loss: 0.1927, Val Loss: 1.4569, Val Accuracy: 60.57%\n",
      "Epoch [10/100], Train Loss: 0.2286, Val Loss: 1.5349, Val Accuracy: 56.10%\n",
      "Epoch [11/100], Train Loss: 0.1542, Val Loss: 1.5853, Val Accuracy: 59.35%\n",
      "Epoch [12/100], Train Loss: 0.1372, Val Loss: 1.4018, Val Accuracy: 60.98%\n",
      "Model saved at epoch 12 with Validation Accuracy: 60.98%\n",
      "Epoch [13/100], Train Loss: 0.1281, Val Loss: 1.4218, Val Accuracy: 64.43%\n",
      "Model saved at epoch 13 with Validation Accuracy: 64.43%\n",
      "Epoch [14/100], Train Loss: 0.1742, Val Loss: 1.7591, Val Accuracy: 58.94%\n",
      "Epoch [15/100], Train Loss: 0.1453, Val Loss: 3.4510, Val Accuracy: 47.56%\n",
      "Epoch [16/100], Train Loss: 0.0890, Val Loss: 1.3281, Val Accuracy: 61.99%\n",
      "Epoch [17/100], Train Loss: 0.0936, Val Loss: 1.5799, Val Accuracy: 59.35%\n",
      "Epoch [18/100], Train Loss: 0.1877, Val Loss: 1.6800, Val Accuracy: 60.37%\n",
      "Epoch [19/100], Train Loss: 0.1688, Val Loss: 2.0629, Val Accuracy: 52.24%\n",
      "Epoch [20/100], Train Loss: 0.1637, Val Loss: 2.0528, Val Accuracy: 54.88%\n",
      "Epoch [21/100], Train Loss: 0.1899, Val Loss: 1.4897, Val Accuracy: 58.94%\n",
      "Epoch [22/100], Train Loss: 0.1593, Val Loss: 2.8518, Val Accuracy: 45.53%\n",
      "Epoch [23/100], Train Loss: 0.1074, Val Loss: 1.8180, Val Accuracy: 55.28%\n",
      "Epoch [24/100], Train Loss: 0.0989, Val Loss: 1.7298, Val Accuracy: 60.16%\n",
      "Epoch [25/100], Train Loss: 0.1071, Val Loss: 1.3218, Val Accuracy: 64.23%\n",
      "Epoch [26/100], Train Loss: 0.0806, Val Loss: 1.8282, Val Accuracy: 59.15%\n",
      "Epoch [27/100], Train Loss: 0.0381, Val Loss: 1.4924, Val Accuracy: 61.38%\n",
      "Epoch [28/100], Train Loss: 0.0323, Val Loss: 1.3131, Val Accuracy: 65.24%\n",
      "Model saved at epoch 28 with Validation Accuracy: 65.24%\n",
      "Epoch [29/100], Train Loss: 0.0399, Val Loss: 1.3535, Val Accuracy: 65.65%\n",
      "Model saved at epoch 29 with Validation Accuracy: 65.65%\n",
      "Epoch [30/100], Train Loss: 0.0432, Val Loss: 1.4013, Val Accuracy: 65.85%\n",
      "Model saved at epoch 30 with Validation Accuracy: 65.85%\n",
      "Epoch [31/100], Train Loss: 0.0577, Val Loss: 1.6264, Val Accuracy: 61.18%\n",
      "Epoch [32/100], Train Loss: 0.0797, Val Loss: 2.4993, Val Accuracy: 56.10%\n",
      "Epoch [33/100], Train Loss: 0.0808, Val Loss: 1.9564, Val Accuracy: 59.15%\n",
      "Epoch [34/100], Train Loss: 0.0855, Val Loss: 1.9960, Val Accuracy: 57.32%\n",
      "Epoch [35/100], Train Loss: 0.1107, Val Loss: 3.1035, Val Accuracy: 51.22%\n",
      "Epoch [36/100], Train Loss: 0.0683, Val Loss: 2.1220, Val Accuracy: 58.33%\n",
      "Epoch [37/100], Train Loss: 0.0581, Val Loss: 1.7619, Val Accuracy: 58.33%\n",
      "Epoch [38/100], Train Loss: 0.0880, Val Loss: 1.8694, Val Accuracy: 58.33%\n",
      "Epoch [39/100], Train Loss: 0.1519, Val Loss: 3.0530, Val Accuracy: 52.24%\n",
      "Epoch [40/100], Train Loss: 0.1039, Val Loss: 2.0787, Val Accuracy: 57.52%\n",
      "Epoch [41/100], Train Loss: 0.0607, Val Loss: 1.8296, Val Accuracy: 56.91%\n",
      "Epoch [42/100], Train Loss: 0.0796, Val Loss: 2.5605, Val Accuracy: 54.47%\n",
      "Epoch [43/100], Train Loss: 0.0822, Val Loss: 1.8678, Val Accuracy: 62.20%\n",
      "Epoch [44/100], Train Loss: 0.1036, Val Loss: 1.8926, Val Accuracy: 57.11%\n",
      "Epoch [45/100], Train Loss: 0.1387, Val Loss: 1.6098, Val Accuracy: 61.59%\n",
      "Epoch [46/100], Train Loss: 0.0909, Val Loss: 1.9153, Val Accuracy: 60.57%\n",
      "Epoch [47/100], Train Loss: 0.0637, Val Loss: 1.5748, Val Accuracy: 59.55%\n",
      "Epoch [48/100], Train Loss: 0.0295, Val Loss: 1.7443, Val Accuracy: 60.98%\n",
      "Epoch [49/100], Train Loss: 0.0210, Val Loss: 1.5102, Val Accuracy: 64.63%\n",
      "Epoch [50/100], Train Loss: 0.0187, Val Loss: 1.4979, Val Accuracy: 64.23%\n",
      "Epoch [51/100], Train Loss: 0.0184, Val Loss: 1.6958, Val Accuracy: 63.01%\n",
      "Epoch [52/100], Train Loss: 0.0366, Val Loss: 1.9874, Val Accuracy: 59.15%\n",
      "Epoch [53/100], Train Loss: 0.1061, Val Loss: 2.0371, Val Accuracy: 56.30%\n",
      "Epoch [54/100], Train Loss: 0.1681, Val Loss: 2.0298, Val Accuracy: 55.89%\n",
      "Epoch [55/100], Train Loss: 0.0492, Val Loss: 1.7943, Val Accuracy: 60.37%\n",
      "Epoch [56/100], Train Loss: 0.0553, Val Loss: 1.6709, Val Accuracy: 63.62%\n",
      "Epoch [57/100], Train Loss: 0.0247, Val Loss: 1.8909, Val Accuracy: 58.33%\n",
      "Epoch [58/100], Train Loss: 0.0463, Val Loss: 1.6063, Val Accuracy: 65.04%\n",
      "Epoch [59/100], Train Loss: 0.0372, Val Loss: 1.7251, Val Accuracy: 63.82%\n",
      "Epoch [60/100], Train Loss: 0.0595, Val Loss: 1.9109, Val Accuracy: 62.40%\n",
      "Epoch [61/100], Train Loss: 0.0431, Val Loss: 1.6201, Val Accuracy: 62.80%\n",
      "Epoch [62/100], Train Loss: 0.0344, Val Loss: 1.4895, Val Accuracy: 63.01%\n",
      "Epoch [63/100], Train Loss: 0.0249, Val Loss: 1.8380, Val Accuracy: 58.94%\n",
      "Epoch [64/100], Train Loss: 0.0471, Val Loss: 1.7634, Val Accuracy: 63.41%\n",
      "Epoch [65/100], Train Loss: 0.0378, Val Loss: 2.2076, Val Accuracy: 58.33%\n",
      "Epoch [66/100], Train Loss: 0.0534, Val Loss: 1.7691, Val Accuracy: 59.55%\n",
      "Epoch [67/100], Train Loss: 0.0340, Val Loss: 1.8374, Val Accuracy: 61.18%\n",
      "Epoch [68/100], Train Loss: 0.0040, Val Loss: 1.6116, Val Accuracy: 65.85%\n",
      "Epoch [69/100], Train Loss: 0.0126, Val Loss: 1.5576, Val Accuracy: 67.28%\n",
      "Model saved at epoch 69 with Validation Accuracy: 67.28%\n",
      "Epoch [70/100], Train Loss: 0.0160, Val Loss: 1.6249, Val Accuracy: 61.79%\n",
      "Epoch [71/100], Train Loss: 0.0104, Val Loss: 1.6866, Val Accuracy: 62.80%\n",
      "Epoch [72/100], Train Loss: 0.0120, Val Loss: 1.4704, Val Accuracy: 64.63%\n",
      "Epoch [73/100], Train Loss: 0.0243, Val Loss: 1.6776, Val Accuracy: 64.43%\n",
      "Epoch [74/100], Train Loss: 0.1053, Val Loss: 2.9136, Val Accuracy: 57.93%\n",
      "Epoch [75/100], Train Loss: 0.0804, Val Loss: 2.4585, Val Accuracy: 54.07%\n",
      "Epoch [76/100], Train Loss: 0.0760, Val Loss: 2.7984, Val Accuracy: 55.89%\n",
      "Epoch [77/100], Train Loss: 0.1401, Val Loss: 2.3706, Val Accuracy: 54.67%\n",
      "Epoch [78/100], Train Loss: 0.1096, Val Loss: 2.1868, Val Accuracy: 56.50%\n",
      "Epoch [79/100], Train Loss: 0.0981, Val Loss: 2.2461, Val Accuracy: 59.35%\n",
      "Epoch [80/100], Train Loss: 0.0950, Val Loss: 2.0298, Val Accuracy: 59.55%\n",
      "Epoch [81/100], Train Loss: 0.0512, Val Loss: 1.9959, Val Accuracy: 60.77%\n",
      "Epoch [82/100], Train Loss: 0.0366, Val Loss: 1.7449, Val Accuracy: 60.37%\n",
      "Epoch [83/100], Train Loss: 0.0163, Val Loss: 1.6442, Val Accuracy: 61.18%\n",
      "Epoch [84/100], Train Loss: 0.0108, Val Loss: 1.6128, Val Accuracy: 63.01%\n",
      "Epoch [85/100], Train Loss: 0.0053, Val Loss: 1.5818, Val Accuracy: 62.80%\n",
      "Epoch [86/100], Train Loss: 0.0036, Val Loss: 1.6231, Val Accuracy: 60.77%\n",
      "Epoch [87/100], Train Loss: 0.0029, Val Loss: 1.5892, Val Accuracy: 63.41%\n",
      "Epoch [88/100], Train Loss: 0.0024, Val Loss: 1.5699, Val Accuracy: 63.41%\n",
      "Epoch [89/100], Train Loss: 0.0012, Val Loss: 1.5638, Val Accuracy: 64.84%\n",
      "Epoch [90/100], Train Loss: 0.0016, Val Loss: 1.5664, Val Accuracy: 64.02%\n",
      "Epoch [91/100], Train Loss: 0.0280, Val Loss: 1.6713, Val Accuracy: 62.40%\n",
      "Epoch [92/100], Train Loss: 0.0205, Val Loss: 1.9251, Val Accuracy: 59.15%\n",
      "Epoch [93/100], Train Loss: 0.0153, Val Loss: 1.9888, Val Accuracy: 59.96%\n",
      "Epoch [94/100], Train Loss: 0.0134, Val Loss: 1.8464, Val Accuracy: 63.01%\n",
      "Epoch [95/100], Train Loss: 0.0101, Val Loss: 1.7683, Val Accuracy: 62.40%\n",
      "Epoch [96/100], Train Loss: 0.0024, Val Loss: 1.7298, Val Accuracy: 63.82%\n",
      "Epoch [97/100], Train Loss: 0.0015, Val Loss: 1.6911, Val Accuracy: 64.02%\n",
      "Epoch [98/100], Train Loss: 0.0152, Val Loss: 1.8759, Val Accuracy: 61.79%\n",
      "Epoch [99/100], Train Loss: 0.0034, Val Loss: 1.8574, Val Accuracy: 60.98%\n",
      "Epoch [100/100], Train Loss: 0.0028, Val Loss: 1.8771, Val Accuracy: 59.96%\n",
      "Training complete\n"
     ]
    }
   ],
   "source": [
    "import torch.optim as optim\n",
    "import torch.nn as nn\n",
    "import torch\n",
    "\n",
    "# Define loss function and optimizer\n",
    "criterion = nn.CrossEntropyLoss()\n",
    "optimizer = optim.Adam(model.parameters(), lr=0.001)\n",
    "\n",
    "# Paths to save the model\n",
    "model_save_path = \"densenet.pth\"\n",
    "\n",
    "# Initialize variables for best model saving\n",
    "best_val_accuracy = 0.0\n",
    "\n",
    "# Training loop\n",
    "epochs = 100  # Adjust based on dataset size and performance\n",
    "for epoch in range(epochs):\n",
    "    model.train()\n",
    "    running_loss = 0.0\n",
    "    for inputs, labels in train_loader:\n",
    "        inputs, labels = inputs.to(device), labels.to(device)\n",
    "        optimizer.zero_grad()\n",
    "        outputs = model(inputs)\n",
    "        loss = criterion(outputs, labels)\n",
    "        loss.backward()\n",
    "        optimizer.step()\n",
    "        running_loss += loss.item()\n",
    "    \n",
    "    # Validation step\n",
    "    model.eval()\n",
    "    val_loss = 0.0\n",
    "    correct = 0\n",
    "    total = 0\n",
    "    with torch.no_grad():\n",
    "        for inputs, labels in val_loader:\n",
    "            inputs, labels = inputs.to(device), labels.to(device)\n",
    "            outputs = model(inputs)\n",
    "            loss = criterion(outputs, labels)\n",
    "            val_loss += loss.item()\n",
    "            _, predicted = torch.max(outputs, 1)\n",
    "            total += labels.size(0)\n",
    "            correct += (predicted == labels).sum().item()\n",
    "    \n",
    "    val_accuracy = 100 * correct / total\n",
    "    print(f\"Epoch [{epoch+1}/{epochs}], Train Loss: {running_loss/len(train_loader):.4f}, \"\n",
    "          f\"Val Loss: {val_loss/len(val_loader):.4f}, \"\n",
    "          f\"Val Accuracy: {val_accuracy:.2f}%\")\n",
    "    \n",
    "    # Save the model if it achieves the best validation accuracy so far\n",
    "    if val_accuracy > best_val_accuracy:\n",
    "        best_val_accuracy = val_accuracy\n",
    "        torch.save(model.state_dict(), model_save_path)\n",
    "        print(f\"Model saved at epoch {epoch+1} with Validation Accuracy: {val_accuracy:.2f}%\")\n",
    "\n",
    "print(\"Training complete\")\n"
   ]
  },
  {
   "cell_type": "code",
   "execution_count": 15,
   "metadata": {},
   "outputs": [
    {
     "name": "stderr",
     "output_type": "stream",
     "text": [
      "C:\\Users\\user\\AppData\\Local\\Temp\\ipykernel_2876\\754930847.py:8: FutureWarning: You are using `torch.load` with `weights_only=False` (the current default value), which uses the default pickle module implicitly. It is possible to construct malicious pickle data which will execute arbitrary code during unpickling (See https://github.com/pytorch/pytorch/blob/main/SECURITY.md#untrusted-models for more details). In a future release, the default value for `weights_only` will be flipped to `True`. This limits the functions that could be executed during unpickling. Arbitrary objects will no longer be allowed to be loaded via this mode unless they are explicitly allowlisted by the user via `torch.serialization.add_safe_globals`. We recommend you start setting `weights_only=True` for any use case where you don't have full control of the loaded file. Please open an issue on GitHub for any issues related to this experimental feature.\n",
      "  model.load_state_dict(torch.load(\"densenet.pth\"))\n"
     ]
    },
    {
     "name": "stdout",
     "output_type": "stream",
     "text": [
      "Test Loss: 0.0006\n",
      "Test Accuracy: 1.00\n",
      "Classification Report:\n",
      "               precision    recall  f1-score   support\n",
      "\n",
      "           EA       1.00      1.00      1.00        80\n",
      "   EH_Complex       1.00      1.00      1.00        43\n",
      "    EH_Simple       1.00      1.00      1.00        78\n",
      "           EP       1.00      1.00      1.00        96\n",
      "NE_Follicular       1.00      1.00      1.00       107\n",
      "    NE_Luteal       1.00      1.00      1.00        91\n",
      "\n",
      "     accuracy                           1.00       495\n",
      "    macro avg       1.00      1.00      1.00       495\n",
      " weighted avg       1.00      1.00      1.00       495\n",
      "\n"
     ]
    },
    {
     "data": {
      "image/png": "[encoded data removed]",
      "text/plain": [
       "<Figure size 1000x800 with 2 Axes>"
      ]
     },
     "metadata": {},
     "output_type": "display_data"
    }
   ],
   "source": [
    "import torch\n",
    "import torch.nn as nn\n",
    "from sklearn.metrics import confusion_matrix, classification_report, accuracy_score\n",
    "import seaborn as sns\n",
    "import matplotlib.pyplot as plt\n",
    "\n",
    "# Load the model architecture and state dictionary\n",
    "model.load_state_dict(torch.load(\"densenet.pth\"))\n",
    "model.to(device)\n",
    "model.eval()\n",
    "\n",
    "# Initialize variables for evaluation\n",
    "all_labels = []\n",
    "all_predictions = []\n",
    "\n",
    "criterion = nn.CrossEntropyLoss()  # Define the same loss function used during training\n",
    "\n",
    "test_loss = 0.0\n",
    "\n",
    "# Evaluation loop\n",
    "with torch.no_grad():\n",
    "    for inputs, labels in test_loader:  # Replace `test_loader` with your DataLoader for test data\n",
    "        inputs, labels = inputs.to(device), labels.to(device)\n",
    "        outputs = model(inputs)\n",
    "        loss = criterion(outputs, labels)\n",
    "        test_loss += loss.item()\n",
    "        _, predicted = torch.max(outputs, 1)\n",
    "        all_labels.extend(labels.cpu().numpy())\n",
    "        all_predictions.extend(predicted.cpu().numpy())\n",
    "\n",
    "# Calculate metrics\n",
    "test_accuracy = accuracy_score(all_labels, all_predictions)\n",
    "conf_matrix = confusion_matrix(all_labels, all_predictions)\n",
    "class_report = classification_report(all_labels, all_predictions, target_names=['EA', 'EH_Complex', 'EH_Simple', 'EP', 'NE_Follicular', 'NE_Luteal'])  # Replace `class_names` with your class labels\n",
    "\n",
    "# Print metrics\n",
    "print(f\"Test Loss: {test_loss/len(test_loader):.4f}\")\n",
    "print(f\"Test Accuracy: {test_accuracy:.2f}\")\n",
    "print(\"Classification Report:\")\n",
    "print(class_report)\n",
    "\n",
    "# Plot confusion matrix\n",
    "plt.figure(figsize=(10, 8))\n",
    "sns.heatmap(conf_matrix, annot=True, fmt='d', cmap='Blues', xticklabels=['EA', 'EH_Complex', 'EH_Simple', 'EP', 'NE_Follicular', 'NE_Luteal'], yticklabels=['EA', 'EH_Complex', 'EH_Simple', 'EP', 'NE_Follicular', 'NE_Luteal'])\n",
    "plt.xlabel(\"Predicted Labels\")\n",
    "plt.ylabel(\"True Labels\")\n",
    "plt.title(\"Confusion Matrix\")\n",
    "plt.show()\n"
   ]
  },
  {
   "cell_type": "markdown",
   "metadata": {},
   "source": [
    "# SWIN"
   ]
  },
  {
   "cell_type": "code",
   "execution_count": 16,
   "metadata": {},
   "outputs": [
    {
     "name": "stdout",
     "output_type": "stream",
     "text": [
      "Number of classes: 6\n",
      "Class names: ['EA', 'EH_Complex', 'EH_Simple', 'EP', 'NE_Follicular', 'NE_Luteal']\n"
     ]
    }
   ],
   "source": [
    "import torch\n",
    "from torchvision import transforms\n",
    "from torchvision.datasets import ImageFolder\n",
    "from torch.utils.data import DataLoader\n",
    "\n",
    "# Define paths\n",
    "train_dir = r'D:\\Engineering\\SEM7\\COMPUTER VISION\\proj_imp\\DATASET\\org_datahistopath_img_data\\train'\n",
    "val_dir = r'D:\\Engineering\\SEM7\\COMPUTER VISION\\proj_imp\\DATASET\\org_datahistopath_img_data\\val'\n",
    "test_dir = r'D:\\Engineering\\SEM7\\COMPUTER VISION\\proj_imp\\DATASET\\org_datahistopath_img_data\\test'\n",
    "\n",
    "# Define transformations\n",
    "transform = transforms.Compose([\n",
    "    transforms.Resize((224, 224)),\n",
    "    transforms.ToTensor(),\n",
    "    transforms.Normalize(mean=[0.485, 0.456, 0.406], std=[0.229, 0.224, 0.225])  # Standard normalization\n",
    "])\n",
    "\n",
    "# Load datasets\n",
    "train_dataset = ImageFolder(root=train_dir, transform=transform)\n",
    "val_dataset = ImageFolder(root=val_dir, transform=transform)\n",
    "test_dataset = ImageFolder(root=test_dir, transform=transform)\n",
    "\n",
    "# Create data loaders\n",
    "train_loader = DataLoader(train_dataset, batch_size=32, shuffle=True)\n",
    "val_loader = DataLoader(val_dataset, batch_size=32, shuffle=False)\n",
    "test_loader = DataLoader(test_dataset, batch_size=32, shuffle=False)\n",
    "\n",
    "# Check the number of classes\n",
    "num_classes = len(train_dataset.classes)\n",
    "print(f\"Number of classes: {num_classes}\")\n",
    "print(\"Class names:\", train_dataset.classes)\n"
   ]
  },
  {
   "cell_type": "code",
   "execution_count": 17,
   "metadata": {},
   "outputs": [
    {
     "name": "stderr",
     "output_type": "stream",
     "text": [
      "c:\\Python312\\Lib\\site-packages\\tqdm\\auto.py:21: TqdmWarning: IProgress not found. Please update jupyter and ipywidgets. See https://ipywidgets.readthedocs.io/en/stable/user_install.html\n",
      "  from .autonotebook import tqdm as notebook_tqdm\n",
      "Some weights of SwinForImageClassification were not initialized from the model checkpoint at microsoft/swin-tiny-patch4-window7-224 and are newly initialized because the shapes did not match:\n",
      "- classifier.bias: found shape torch.Size([1000]) in the checkpoint and torch.Size([6]) in the model instantiated\n",
      "- classifier.weight: found shape torch.Size([1000, 768]) in the checkpoint and torch.Size([6, 768]) in the model instantiated\n",
      "You should probably TRAIN this model on a down-stream task to be able to use it for predictions and inference.\n"
     ]
    }
   ],
   "source": [
    "from transformers import SwinForImageClassification\n",
    "\n",
    "# Load the pretrained Swin Transformer model and modify for our number of classes\n",
    "model = SwinForImageClassification.from_pretrained(\n",
    "    \"microsoft/swin-tiny-patch4-window7-224\", \n",
    "    num_labels=num_classes,\n",
    "    ignore_mismatched_sizes=True  # Ignore size mismatch for the classifier layer\n",
    ")\n",
    "\n",
    "# Move model to GPU if available\n",
    "device = torch.device(\"cuda\" if torch.cuda.is_available() else \"cpu\")\n",
    "model = model.to(device)\n"
   ]
  },
  {
   "cell_type": "code",
   "execution_count": 18,
   "metadata": {},
   "outputs": [
    {
     "name": "stdout",
     "output_type": "stream",
     "text": [
      "Epoch [1/100], Train Loss: 1.2520, Val Loss: 0.8057, Val Accuracy: 68.70%\n",
      "Epoch [2/100], Train Loss: 0.7511, Val Loss: 0.6949, Val Accuracy: 72.15%\n",
      "Epoch [3/100], Train Loss: 0.5951, Val Loss: 0.6414, Val Accuracy: 73.58%\n",
      "Epoch [4/100], Train Loss: 0.4730, Val Loss: 0.5897, Val Accuracy: 74.80%\n",
      "Epoch [5/100], Train Loss: 0.3774, Val Loss: 0.6186, Val Accuracy: 74.19%\n",
      "Epoch [6/100], Train Loss: 0.3258, Val Loss: 0.5591, Val Accuracy: 78.86%\n",
      "Epoch [7/100], Train Loss: 0.2399, Val Loss: 0.5397, Val Accuracy: 79.88%\n",
      "Epoch [8/100], Train Loss: 0.1801, Val Loss: 0.5049, Val Accuracy: 80.28%\n",
      "Epoch [9/100], Train Loss: 0.1481, Val Loss: 0.5382, Val Accuracy: 81.91%\n",
      "Epoch [10/100], Train Loss: 0.1406, Val Loss: 0.5583, Val Accuracy: 79.88%\n",
      "Epoch [11/100], Train Loss: 0.1040, Val Loss: 0.6302, Val Accuracy: 79.47%\n",
      "Epoch [12/100], Train Loss: 0.0874, Val Loss: 0.6016, Val Accuracy: 79.27%\n",
      "Epoch [13/100], Train Loss: 0.0792, Val Loss: 0.6909, Val Accuracy: 80.28%\n",
      "Epoch [14/100], Train Loss: 0.0638, Val Loss: 0.6578, Val Accuracy: 80.08%\n",
      "Epoch [15/100], Train Loss: 0.0584, Val Loss: 0.7060, Val Accuracy: 80.49%\n",
      "Epoch [16/100], Train Loss: 0.0549, Val Loss: 0.7620, Val Accuracy: 78.86%\n",
      "Epoch [17/100], Train Loss: 0.0515, Val Loss: 0.6804, Val Accuracy: 79.67%\n",
      "Epoch [18/100], Train Loss: 0.0548, Val Loss: 0.6861, Val Accuracy: 80.49%\n",
      "Epoch [19/100], Train Loss: 0.0545, Val Loss: 0.6965, Val Accuracy: 81.30%\n",
      "Epoch [20/100], Train Loss: 0.0589, Val Loss: 0.7763, Val Accuracy: 77.24%\n",
      "Epoch [21/100], Train Loss: 0.0364, Val Loss: 0.7326, Val Accuracy: 80.28%\n",
      "Epoch [22/100], Train Loss: 0.0366, Val Loss: 0.8045, Val Accuracy: 80.69%\n",
      "Epoch [23/100], Train Loss: 0.0394, Val Loss: 0.7557, Val Accuracy: 80.49%\n",
      "Epoch [24/100], Train Loss: 0.0259, Val Loss: 0.7270, Val Accuracy: 79.67%\n",
      "Epoch [25/100], Train Loss: 0.0322, Val Loss: 0.8199, Val Accuracy: 78.46%\n",
      "Epoch [26/100], Train Loss: 0.0329, Val Loss: 0.8065, Val Accuracy: 79.67%\n",
      "Epoch [27/100], Train Loss: 0.0277, Val Loss: 0.7835, Val Accuracy: 80.89%\n",
      "Epoch [28/100], Train Loss: 0.0395, Val Loss: 0.8571, Val Accuracy: 78.86%\n",
      "Epoch [29/100], Train Loss: 0.0239, Val Loss: 0.9164, Val Accuracy: 77.85%\n",
      "Epoch [30/100], Train Loss: 0.0288, Val Loss: 0.8718, Val Accuracy: 80.08%\n",
      "Epoch [31/100], Train Loss: 0.0279, Val Loss: 0.9203, Val Accuracy: 79.07%\n",
      "Epoch [32/100], Train Loss: 0.0165, Val Loss: 0.9267, Val Accuracy: 79.88%\n",
      "Epoch [33/100], Train Loss: 0.0363, Val Loss: 0.9639, Val Accuracy: 79.88%\n",
      "Epoch [34/100], Train Loss: 0.0205, Val Loss: 0.8897, Val Accuracy: 76.63%\n",
      "Epoch [35/100], Train Loss: 0.0389, Val Loss: 0.9096, Val Accuracy: 78.25%\n",
      "Epoch [36/100], Train Loss: 0.0326, Val Loss: 0.8273, Val Accuracy: 78.25%\n",
      "Epoch [37/100], Train Loss: 0.0230, Val Loss: 0.8850, Val Accuracy: 80.69%\n",
      "Epoch [38/100], Train Loss: 0.0196, Val Loss: 0.9052, Val Accuracy: 79.47%\n",
      "Epoch [39/100], Train Loss: 0.0117, Val Loss: 0.8297, Val Accuracy: 79.47%\n",
      "Epoch [40/100], Train Loss: 0.0190, Val Loss: 0.9513, Val Accuracy: 78.25%\n",
      "Epoch [41/100], Train Loss: 0.0252, Val Loss: 0.7926, Val Accuracy: 80.08%\n",
      "Epoch [42/100], Train Loss: 0.0199, Val Loss: 0.9378, Val Accuracy: 77.24%\n",
      "Epoch [43/100], Train Loss: 0.0251, Val Loss: 0.9074, Val Accuracy: 77.64%\n",
      "Epoch [44/100], Train Loss: 0.0340, Val Loss: 0.8828, Val Accuracy: 77.85%\n",
      "Epoch [45/100], Train Loss: 0.0302, Val Loss: 0.8352, Val Accuracy: 78.86%\n",
      "Epoch [46/100], Train Loss: 0.0199, Val Loss: 0.8090, Val Accuracy: 80.69%\n",
      "Epoch [47/100], Train Loss: 0.0191, Val Loss: 0.8288, Val Accuracy: 81.91%\n",
      "Epoch [48/100], Train Loss: 0.0168, Val Loss: 0.9415, Val Accuracy: 79.67%\n",
      "Epoch [49/100], Train Loss: 0.0324, Val Loss: 0.9477, Val Accuracy: 79.47%\n",
      "Epoch [50/100], Train Loss: 0.0330, Val Loss: 0.8051, Val Accuracy: 78.46%\n",
      "Epoch [51/100], Train Loss: 0.0282, Val Loss: 0.8542, Val Accuracy: 80.28%\n",
      "Epoch [52/100], Train Loss: 0.0148, Val Loss: 0.8437, Val Accuracy: 79.88%\n",
      "Epoch [53/100], Train Loss: 0.0138, Val Loss: 0.8629, Val Accuracy: 79.88%\n",
      "Epoch [54/100], Train Loss: 0.0200, Val Loss: 0.8713, Val Accuracy: 78.46%\n",
      "Epoch [55/100], Train Loss: 0.0135, Val Loss: 0.8621, Val Accuracy: 82.11%\n",
      "Epoch [56/100], Train Loss: 0.0187, Val Loss: 0.8282, Val Accuracy: 81.10%\n",
      "Epoch [57/100], Train Loss: 0.0187, Val Loss: 0.9898, Val Accuracy: 76.83%\n",
      "Epoch [58/100], Train Loss: 0.0159, Val Loss: 0.9229, Val Accuracy: 78.86%\n",
      "Epoch [59/100], Train Loss: 0.0167, Val Loss: 0.9636, Val Accuracy: 80.49%\n",
      "Epoch [60/100], Train Loss: 0.0135, Val Loss: 0.9607, Val Accuracy: 80.08%\n",
      "Epoch [61/100], Train Loss: 0.0134, Val Loss: 0.9520, Val Accuracy: 80.49%\n",
      "Epoch [62/100], Train Loss: 0.0264, Val Loss: 0.9947, Val Accuracy: 79.67%\n",
      "Epoch [63/100], Train Loss: 0.0368, Val Loss: 1.0019, Val Accuracy: 79.07%\n",
      "Epoch [64/100], Train Loss: 0.0259, Val Loss: 1.0114, Val Accuracy: 75.81%\n",
      "Epoch [65/100], Train Loss: 0.0177, Val Loss: 0.9071, Val Accuracy: 80.49%\n",
      "Epoch [66/100], Train Loss: 0.0104, Val Loss: 0.9025, Val Accuracy: 79.07%\n",
      "Epoch [67/100], Train Loss: 0.0155, Val Loss: 0.9198, Val Accuracy: 79.47%\n",
      "Epoch [68/100], Train Loss: 0.0091, Val Loss: 0.8939, Val Accuracy: 79.47%\n",
      "Epoch [69/100], Train Loss: 0.0108, Val Loss: 0.9605, Val Accuracy: 78.86%\n",
      "Epoch [70/100], Train Loss: 0.0146, Val Loss: 1.0339, Val Accuracy: 79.27%\n",
      "Epoch [71/100], Train Loss: 0.0198, Val Loss: 0.9994, Val Accuracy: 80.49%\n",
      "Epoch [72/100], Train Loss: 0.0343, Val Loss: 1.0190, Val Accuracy: 78.86%\n",
      "Epoch [73/100], Train Loss: 0.0158, Val Loss: 1.0056, Val Accuracy: 79.67%\n",
      "Epoch [74/100], Train Loss: 0.0106, Val Loss: 0.9333, Val Accuracy: 79.67%\n",
      "Epoch [75/100], Train Loss: 0.0103, Val Loss: 0.9778, Val Accuracy: 79.07%\n",
      "Epoch [76/100], Train Loss: 0.0114, Val Loss: 0.8818, Val Accuracy: 80.69%\n",
      "Epoch [77/100], Train Loss: 0.0082, Val Loss: 1.0600, Val Accuracy: 79.47%\n",
      "Epoch [78/100], Train Loss: 0.0148, Val Loss: 0.9670, Val Accuracy: 79.07%\n",
      "Epoch [79/100], Train Loss: 0.0090, Val Loss: 0.9439, Val Accuracy: 79.47%\n",
      "Epoch [80/100], Train Loss: 0.0085, Val Loss: 1.0188, Val Accuracy: 80.89%\n",
      "Epoch [81/100], Train Loss: 0.0074, Val Loss: 0.9481, Val Accuracy: 79.07%\n",
      "Epoch [82/100], Train Loss: 0.0069, Val Loss: 1.0504, Val Accuracy: 79.88%\n",
      "Epoch [83/100], Train Loss: 0.0123, Val Loss: 1.0546, Val Accuracy: 79.47%\n",
      "Epoch [84/100], Train Loss: 0.0096, Val Loss: 0.9063, Val Accuracy: 81.30%\n",
      "Epoch [85/100], Train Loss: 0.0249, Val Loss: 1.4988, Val Accuracy: 77.64%\n",
      "Epoch [86/100], Train Loss: 0.0399, Val Loss: 0.9606, Val Accuracy: 78.86%\n",
      "Epoch [87/100], Train Loss: 0.0338, Val Loss: 1.0115, Val Accuracy: 78.25%\n",
      "Epoch [88/100], Train Loss: 0.0179, Val Loss: 0.8770, Val Accuracy: 80.49%\n",
      "Epoch [89/100], Train Loss: 0.0170, Val Loss: 0.9451, Val Accuracy: 80.49%\n",
      "Epoch [90/100], Train Loss: 0.0147, Val Loss: 0.9952, Val Accuracy: 77.85%\n",
      "Epoch [91/100], Train Loss: 0.0079, Val Loss: 1.3281, Val Accuracy: 76.22%\n",
      "Epoch [92/100], Train Loss: 0.0121, Val Loss: 0.9840, Val Accuracy: 79.27%\n",
      "Epoch [93/100], Train Loss: 0.0111, Val Loss: 1.0674, Val Accuracy: 76.63%\n",
      "Epoch [94/100], Train Loss: 0.0075, Val Loss: 0.9953, Val Accuracy: 78.25%\n",
      "Epoch [95/100], Train Loss: 0.0067, Val Loss: 0.9788, Val Accuracy: 78.25%\n",
      "Epoch [96/100], Train Loss: 0.0081, Val Loss: 1.0104, Val Accuracy: 78.86%\n",
      "Epoch [97/100], Train Loss: 0.0206, Val Loss: 0.9845, Val Accuracy: 79.88%\n",
      "Epoch [98/100], Train Loss: 0.0147, Val Loss: 1.0808, Val Accuracy: 77.64%\n",
      "Epoch [99/100], Train Loss: 0.0305, Val Loss: 1.0601, Val Accuracy: 79.27%\n",
      "Epoch [100/100], Train Loss: 0.0153, Val Loss: 0.9666, Val Accuracy: 78.66%\n",
      "Training complete\n"
     ]
    }
   ],
   "source": [
    "import torch.nn as nn\n",
    "import torch.optim as optim\n",
    "\n",
    "# Define loss function and optimizer\n",
    "criterion = nn.CrossEntropyLoss()\n",
    "optimizer = optim.AdamW(model.parameters(), lr=2e-5)\n",
    "\n",
    "# Training loop\n",
    "epochs = 100  # Adjust based on dataset size and performance\n",
    "for epoch in range(epochs):\n",
    "    model.train()\n",
    "    running_loss = 0.0\n",
    "    for inputs, labels in train_loader:\n",
    "        inputs, labels = inputs.to(device), labels.to(device)\n",
    "        optimizer.zero_grad()\n",
    "        outputs = model(pixel_values=inputs).logits\n",
    "        loss = criterion(outputs, labels)\n",
    "        loss.backward()\n",
    "        optimizer.step()\n",
    "        running_loss += loss.item()\n",
    "    \n",
    "    # Validation step\n",
    "    model.eval()\n",
    "    val_loss = 0.0\n",
    "    correct = 0\n",
    "    total = 0\n",
    "    with torch.no_grad():\n",
    "        for inputs, labels in val_loader:\n",
    "            inputs, labels = inputs.to(device), labels.to(device)\n",
    "            outputs = model(pixel_values=inputs).logits\n",
    "            loss = criterion(outputs, labels)\n",
    "            val_loss += loss.item()\n",
    "            _, predicted = torch.max(outputs, 1)\n",
    "            total += labels.size(0)\n",
    "            correct += (predicted == labels).sum().item()\n",
    "    \n",
    "    print(f\"Epoch [{epoch+1}/{epochs}], Train Loss: {running_loss/len(train_loader):.4f}, \"\n",
    "          f\"Val Loss: {val_loss/len(val_loader):.4f}, \"\n",
    "          f\"Val Accuracy: {100 * correct / total:.2f}%\")\n",
    "\n",
    "print(\"Training complete\")\n"
   ]
  },
  {
   "cell_type": "code",
   "execution_count": 19,
   "metadata": {},
   "outputs": [
    {
     "name": "stdout",
     "output_type": "stream",
     "text": [
      "Test Accuracy: 81.21%\n",
      "Precision: 0.81\n",
      "Recall: 0.81\n",
      "F1 Score: 0.81\n",
      "\n",
      "Classification Report:\n",
      "                precision    recall  f1-score   support\n",
      "\n",
      "           EA       0.95      0.94      0.94        80\n",
      "   EH_Complex       0.85      0.79      0.82        43\n",
      "    EH_Simple       0.86      0.78      0.82        78\n",
      "           EP       0.67      0.68      0.67        96\n",
      "NE_Follicular       0.75      0.78      0.76       107\n",
      "    NE_Luteal       0.86      0.92      0.89        91\n",
      "\n",
      "     accuracy                           0.81       495\n",
      "    macro avg       0.82      0.81      0.82       495\n",
      " weighted avg       0.81      0.81      0.81       495\n",
      "\n",
      "\n",
      "Confusion Matrix:\n",
      " [[75  3  0  0  0  2]\n",
      " [ 3 34  2  1  0  3]\n",
      " [ 0  3 61  5  4  5]\n",
      " [ 0  0  6 65 22  3]\n",
      " [ 0  0  2 21 83  1]\n",
      " [ 1  0  0  5  1 84]]\n"
     ]
    }
   ],
   "source": [
    "import numpy as np\n",
    "from sklearn.metrics import accuracy_score, precision_recall_fscore_support, classification_report, confusion_matrix\n",
    "\n",
    "# Evaluation on the test set\n",
    "model.eval()\n",
    "all_preds = []\n",
    "all_labels = []\n",
    "\n",
    "with torch.no_grad():\n",
    "    for inputs, labels in test_loader:\n",
    "        inputs, labels = inputs.to(device), labels.to(device)\n",
    "        outputs = model(pixel_values=inputs).logits\n",
    "        _, predicted = torch.max(outputs, 1)\n",
    "        all_preds.extend(predicted.cpu().numpy())\n",
    "        all_labels.extend(labels.cpu().numpy())\n",
    "\n",
    "# Convert lists to numpy arrays for metric calculation\n",
    "all_preds = np.array(all_preds)\n",
    "all_labels = np.array(all_labels)\n",
    "\n",
    "# Calculate metrics\n",
    "accuracy = accuracy_score(all_labels, all_preds)\n",
    "precision, recall, f1, _ = precision_recall_fscore_support(all_labels, all_preds, average='weighted')\n",
    "classification_rep = classification_report(all_labels, all_preds, target_names=train_dataset.classes)\n",
    "conf_matrix = confusion_matrix(all_labels, all_preds)\n",
    "\n",
    "print(f\"Test Accuracy: {accuracy * 100:.2f}%\")\n",
    "print(f\"Precision: {precision:.2f}\")\n",
    "print(f\"Recall: {recall:.2f}\")\n",
    "print(f\"F1 Score: {f1:.2f}\")\n",
    "print(\"\\nClassification Report:\\n\", classification_rep)\n",
    "print(\"\\nConfusion Matrix:\\n\", conf_matrix)\n"
   ]
  },
  {
   "cell_type": "markdown",
   "metadata": {},
   "source": [
    "# RESNET50 TRY-2"
   ]
  },
  {
   "cell_type": "code",
   "execution_count": 20,
   "metadata": {},
   "outputs": [
    {
     "name": "stdout",
     "output_type": "stream",
     "text": [
      "Classes: ['EA', 'EH_Complex', 'EH_Simple', 'EP', 'NE_Follicular', 'NE_Luteal']\n"
     ]
    },
    {
     "name": "stderr",
     "output_type": "stream",
     "text": [
      "c:\\Python312\\Lib\\site-packages\\torchvision\\models\\_utils.py:208: UserWarning: The parameter 'pretrained' is deprecated since 0.13 and may be removed in the future, please use 'weights' instead.\n",
      "  warnings.warn(\n",
      "c:\\Python312\\Lib\\site-packages\\torchvision\\models\\_utils.py:223: UserWarning: Arguments other than a weight enum or `None` for 'weights' are deprecated since 0.13 and may be removed in the future. The current behavior is equivalent to passing `weights=ResNet50_Weights.IMAGENET1K_V1`. You can also use `weights=ResNet50_Weights.DEFAULT` to get the most up-to-date weights.\n",
      "  warnings.warn(msg)\n"
     ]
    },
    {
     "name": "stdout",
     "output_type": "stream",
     "text": [
      "Epoch 0/99\n",
      "----------\n"
     ]
    },
    {
     "name": "stderr",
     "output_type": "stream",
     "text": [
      "100%|██████████| 72/72 [00:31<00:00,  2.26it/s]\n"
     ]
    },
    {
     "name": "stdout",
     "output_type": "stream",
     "text": [
      "train Loss: 1.4475 Acc: 0.4298\n"
     ]
    },
    {
     "name": "stderr",
     "output_type": "stream",
     "text": [
      "100%|██████████| 16/16 [00:04<00:00,  3.34it/s]\n"
     ]
    },
    {
     "name": "stdout",
     "output_type": "stream",
     "text": [
      "val Loss: 0.9936 Acc: 0.5976\n",
      "\n",
      "Epoch 1/99\n",
      "----------\n"
     ]
    },
    {
     "name": "stderr",
     "output_type": "stream",
     "text": [
      "100%|██████████| 72/72 [00:26<00:00,  2.69it/s]\n"
     ]
    },
    {
     "name": "stdout",
     "output_type": "stream",
     "text": [
      "train Loss: 1.0259 Acc: 0.6068\n"
     ]
    },
    {
     "name": "stderr",
     "output_type": "stream",
     "text": [
      "100%|██████████| 16/16 [00:04<00:00,  3.48it/s]\n"
     ]
    },
    {
     "name": "stdout",
     "output_type": "stream",
     "text": [
      "val Loss: 0.7769 Acc: 0.6951\n",
      "\n",
      "Epoch 2/99\n",
      "----------\n"
     ]
    },
    {
     "name": "stderr",
     "output_type": "stream",
     "text": [
      "100%|██████████| 72/72 [00:26<00:00,  2.67it/s]\n"
     ]
    },
    {
     "name": "stdout",
     "output_type": "stream",
     "text": [
      "train Loss: 0.8743 Acc: 0.6452\n"
     ]
    },
    {
     "name": "stderr",
     "output_type": "stream",
     "text": [
      "100%|██████████| 16/16 [00:04<00:00,  3.46it/s]\n"
     ]
    },
    {
     "name": "stdout",
     "output_type": "stream",
     "text": [
      "val Loss: 0.7073 Acc: 0.7154\n",
      "\n",
      "Epoch 3/99\n",
      "----------\n"
     ]
    },
    {
     "name": "stderr",
     "output_type": "stream",
     "text": [
      "100%|██████████| 72/72 [00:26<00:00,  2.67it/s]\n"
     ]
    },
    {
     "name": "stdout",
     "output_type": "stream",
     "text": [
      "train Loss: 0.7781 Acc: 0.6949\n"
     ]
    },
    {
     "name": "stderr",
     "output_type": "stream",
     "text": [
      "100%|██████████| 16/16 [00:04<00:00,  3.50it/s]\n"
     ]
    },
    {
     "name": "stdout",
     "output_type": "stream",
     "text": [
      "val Loss: 0.7227 Acc: 0.6890\n",
      "\n",
      "Epoch 4/99\n",
      "----------\n"
     ]
    },
    {
     "name": "stderr",
     "output_type": "stream",
     "text": [
      "100%|██████████| 72/72 [00:26<00:00,  2.69it/s]\n"
     ]
    },
    {
     "name": "stdout",
     "output_type": "stream",
     "text": [
      "train Loss: 0.7759 Acc: 0.6949\n"
     ]
    },
    {
     "name": "stderr",
     "output_type": "stream",
     "text": [
      "100%|██████████| 16/16 [00:04<00:00,  3.49it/s]\n"
     ]
    },
    {
     "name": "stdout",
     "output_type": "stream",
     "text": [
      "val Loss: 0.6431 Acc: 0.7358\n",
      "\n",
      "Epoch 5/99\n",
      "----------\n"
     ]
    },
    {
     "name": "stderr",
     "output_type": "stream",
     "text": [
      "100%|██████████| 72/72 [00:26<00:00,  2.68it/s]\n"
     ]
    },
    {
     "name": "stdout",
     "output_type": "stream",
     "text": [
      "train Loss: 0.6975 Acc: 0.7306\n"
     ]
    },
    {
     "name": "stderr",
     "output_type": "stream",
     "text": [
      "100%|██████████| 16/16 [00:04<00:00,  3.49it/s]\n"
     ]
    },
    {
     "name": "stdout",
     "output_type": "stream",
     "text": [
      "val Loss: 0.5896 Acc: 0.7785\n",
      "\n",
      "Epoch 6/99\n",
      "----------\n"
     ]
    },
    {
     "name": "stderr",
     "output_type": "stream",
     "text": [
      "100%|██████████| 72/72 [00:26<00:00,  2.67it/s]\n"
     ]
    },
    {
     "name": "stdout",
     "output_type": "stream",
     "text": [
      "train Loss: 0.6639 Acc: 0.7432\n"
     ]
    },
    {
     "name": "stderr",
     "output_type": "stream",
     "text": [
      "100%|██████████| 16/16 [00:04<00:00,  3.46it/s]\n"
     ]
    },
    {
     "name": "stdout",
     "output_type": "stream",
     "text": [
      "val Loss: 0.5621 Acc: 0.7825\n",
      "\n",
      "Epoch 7/99\n",
      "----------\n"
     ]
    },
    {
     "name": "stderr",
     "output_type": "stream",
     "text": [
      "100%|██████████| 72/72 [00:26<00:00,  2.67it/s]\n"
     ]
    },
    {
     "name": "stdout",
     "output_type": "stream",
     "text": [
      "train Loss: 0.6103 Acc: 0.7624\n"
     ]
    },
    {
     "name": "stderr",
     "output_type": "stream",
     "text": [
      "100%|██████████| 16/16 [00:04<00:00,  3.51it/s]\n"
     ]
    },
    {
     "name": "stdout",
     "output_type": "stream",
     "text": [
      "val Loss: 0.5664 Acc: 0.7805\n",
      "\n",
      "Epoch 8/99\n",
      "----------\n"
     ]
    },
    {
     "name": "stderr",
     "output_type": "stream",
     "text": [
      "100%|██████████| 72/72 [00:26<00:00,  2.68it/s]\n"
     ]
    },
    {
     "name": "stdout",
     "output_type": "stream",
     "text": [
      "train Loss: 0.6057 Acc: 0.7594\n"
     ]
    },
    {
     "name": "stderr",
     "output_type": "stream",
     "text": [
      "100%|██████████| 16/16 [00:04<00:00,  3.45it/s]\n"
     ]
    },
    {
     "name": "stdout",
     "output_type": "stream",
     "text": [
      "val Loss: 0.5552 Acc: 0.8028\n",
      "\n",
      "Epoch 9/99\n",
      "----------\n"
     ]
    },
    {
     "name": "stderr",
     "output_type": "stream",
     "text": [
      "100%|██████████| 72/72 [00:26<00:00,  2.68it/s]\n"
     ]
    },
    {
     "name": "stdout",
     "output_type": "stream",
     "text": [
      "train Loss: 0.5519 Acc: 0.7886\n"
     ]
    },
    {
     "name": "stderr",
     "output_type": "stream",
     "text": [
      "100%|██████████| 16/16 [00:04<00:00,  3.50it/s]\n"
     ]
    },
    {
     "name": "stdout",
     "output_type": "stream",
     "text": [
      "val Loss: 0.5623 Acc: 0.7866\n",
      "\n",
      "Epoch 10/99\n",
      "----------\n"
     ]
    },
    {
     "name": "stderr",
     "output_type": "stream",
     "text": [
      "100%|██████████| 72/72 [00:26<00:00,  2.68it/s]\n"
     ]
    },
    {
     "name": "stdout",
     "output_type": "stream",
     "text": [
      "train Loss: 0.5032 Acc: 0.8134\n"
     ]
    },
    {
     "name": "stderr",
     "output_type": "stream",
     "text": [
      "100%|██████████| 16/16 [00:04<00:00,  3.44it/s]\n"
     ]
    },
    {
     "name": "stdout",
     "output_type": "stream",
     "text": [
      "val Loss: 0.5598 Acc: 0.7825\n",
      "\n",
      "Epoch 11/99\n",
      "----------\n"
     ]
    },
    {
     "name": "stderr",
     "output_type": "stream",
     "text": [
      "100%|██████████| 72/72 [00:26<00:00,  2.67it/s]\n"
     ]
    },
    {
     "name": "stdout",
     "output_type": "stream",
     "text": [
      "train Loss: 0.4827 Acc: 0.8152\n"
     ]
    },
    {
     "name": "stderr",
     "output_type": "stream",
     "text": [
      "100%|██████████| 16/16 [00:04<00:00,  3.52it/s]\n"
     ]
    },
    {
     "name": "stdout",
     "output_type": "stream",
     "text": [
      "val Loss: 0.5500 Acc: 0.7866\n",
      "\n",
      "Epoch 12/99\n",
      "----------\n"
     ]
    },
    {
     "name": "stderr",
     "output_type": "stream",
     "text": [
      "100%|██████████| 72/72 [00:26<00:00,  2.68it/s]\n"
     ]
    },
    {
     "name": "stdout",
     "output_type": "stream",
     "text": [
      "train Loss: 0.4642 Acc: 0.8152\n"
     ]
    },
    {
     "name": "stderr",
     "output_type": "stream",
     "text": [
      "100%|██████████| 16/16 [00:04<00:00,  3.44it/s]\n"
     ]
    },
    {
     "name": "stdout",
     "output_type": "stream",
     "text": [
      "val Loss: 0.5408 Acc: 0.7866\n",
      "\n",
      "Epoch 13/99\n",
      "----------\n"
     ]
    },
    {
     "name": "stderr",
     "output_type": "stream",
     "text": [
      "100%|██████████| 72/72 [00:26<00:00,  2.67it/s]\n"
     ]
    },
    {
     "name": "stdout",
     "output_type": "stream",
     "text": [
      "train Loss: 0.4338 Acc: 0.8309\n"
     ]
    },
    {
     "name": "stderr",
     "output_type": "stream",
     "text": [
      "100%|██████████| 16/16 [00:04<00:00,  3.48it/s]\n"
     ]
    },
    {
     "name": "stdout",
     "output_type": "stream",
     "text": [
      "val Loss: 0.5312 Acc: 0.7967\n",
      "\n",
      "Epoch 14/99\n",
      "----------\n"
     ]
    },
    {
     "name": "stderr",
     "output_type": "stream",
     "text": [
      "100%|██████████| 72/72 [00:26<00:00,  2.69it/s]\n"
     ]
    },
    {
     "name": "stdout",
     "output_type": "stream",
     "text": [
      "train Loss: 0.4430 Acc: 0.8326\n"
     ]
    },
    {
     "name": "stderr",
     "output_type": "stream",
     "text": [
      "100%|██████████| 16/16 [00:04<00:00,  3.45it/s]\n"
     ]
    },
    {
     "name": "stdout",
     "output_type": "stream",
     "text": [
      "val Loss: 0.5682 Acc: 0.8008\n",
      "\n",
      "Epoch 15/99\n",
      "----------\n"
     ]
    },
    {
     "name": "stderr",
     "output_type": "stream",
     "text": [
      "100%|██████████| 72/72 [00:26<00:00,  2.69it/s]\n"
     ]
    },
    {
     "name": "stdout",
     "output_type": "stream",
     "text": [
      "train Loss: 0.4064 Acc: 0.8479\n"
     ]
    },
    {
     "name": "stderr",
     "output_type": "stream",
     "text": [
      "100%|██████████| 16/16 [00:04<00:00,  3.46it/s]\n"
     ]
    },
    {
     "name": "stdout",
     "output_type": "stream",
     "text": [
      "val Loss: 0.6254 Acc: 0.7683\n",
      "\n",
      "Epoch 16/99\n",
      "----------\n"
     ]
    },
    {
     "name": "stderr",
     "output_type": "stream",
     "text": [
      "100%|██████████| 72/72 [00:26<00:00,  2.67it/s]\n"
     ]
    },
    {
     "name": "stdout",
     "output_type": "stream",
     "text": [
      "train Loss: 0.4106 Acc: 0.8396\n"
     ]
    },
    {
     "name": "stderr",
     "output_type": "stream",
     "text": [
      "100%|██████████| 16/16 [00:04<00:00,  3.46it/s]\n"
     ]
    },
    {
     "name": "stdout",
     "output_type": "stream",
     "text": [
      "val Loss: 0.5555 Acc: 0.7967\n",
      "\n",
      "Epoch 17/99\n",
      "----------\n"
     ]
    },
    {
     "name": "stderr",
     "output_type": "stream",
     "text": [
      "100%|██████████| 72/72 [00:26<00:00,  2.69it/s]\n"
     ]
    },
    {
     "name": "stdout",
     "output_type": "stream",
     "text": [
      "train Loss: 0.3791 Acc: 0.8544\n"
     ]
    },
    {
     "name": "stderr",
     "output_type": "stream",
     "text": [
      "100%|██████████| 16/16 [00:04<00:00,  3.47it/s]\n"
     ]
    },
    {
     "name": "stdout",
     "output_type": "stream",
     "text": [
      "val Loss: 0.5997 Acc: 0.7886\n",
      "\n",
      "Epoch 18/99\n",
      "----------\n"
     ]
    },
    {
     "name": "stderr",
     "output_type": "stream",
     "text": [
      "100%|██████████| 72/72 [00:26<00:00,  2.68it/s]\n"
     ]
    },
    {
     "name": "stdout",
     "output_type": "stream",
     "text": [
      "train Loss: 0.3489 Acc: 0.8614\n"
     ]
    },
    {
     "name": "stderr",
     "output_type": "stream",
     "text": [
      "100%|██████████| 16/16 [00:04<00:00,  3.47it/s]\n"
     ]
    },
    {
     "name": "stdout",
     "output_type": "stream",
     "text": [
      "val Loss: 0.5269 Acc: 0.8008\n",
      "\n",
      "Epoch 19/99\n",
      "----------\n"
     ]
    },
    {
     "name": "stderr",
     "output_type": "stream",
     "text": [
      "100%|██████████| 72/72 [00:26<00:00,  2.69it/s]\n"
     ]
    },
    {
     "name": "stdout",
     "output_type": "stream",
     "text": [
      "train Loss: 0.3888 Acc: 0.8509\n"
     ]
    },
    {
     "name": "stderr",
     "output_type": "stream",
     "text": [
      "100%|██████████| 16/16 [00:04<00:00,  3.39it/s]\n"
     ]
    },
    {
     "name": "stdout",
     "output_type": "stream",
     "text": [
      "val Loss: 0.5726 Acc: 0.8089\n",
      "\n",
      "Epoch 20/99\n",
      "----------\n"
     ]
    },
    {
     "name": "stderr",
     "output_type": "stream",
     "text": [
      "100%|██████████| 72/72 [00:26<00:00,  2.68it/s]\n"
     ]
    },
    {
     "name": "stdout",
     "output_type": "stream",
     "text": [
      "train Loss: 0.3357 Acc: 0.8819\n"
     ]
    },
    {
     "name": "stderr",
     "output_type": "stream",
     "text": [
      "100%|██████████| 16/16 [00:04<00:00,  3.45it/s]\n"
     ]
    },
    {
     "name": "stdout",
     "output_type": "stream",
     "text": [
      "val Loss: 0.6351 Acc: 0.7744\n",
      "\n",
      "Epoch 21/99\n",
      "----------\n"
     ]
    },
    {
     "name": "stderr",
     "output_type": "stream",
     "text": [
      "100%|██████████| 72/72 [00:26<00:00,  2.69it/s]\n"
     ]
    },
    {
     "name": "stdout",
     "output_type": "stream",
     "text": [
      "train Loss: 0.3335 Acc: 0.8827\n"
     ]
    },
    {
     "name": "stderr",
     "output_type": "stream",
     "text": [
      "100%|██████████| 16/16 [00:04<00:00,  3.40it/s]\n"
     ]
    },
    {
     "name": "stdout",
     "output_type": "stream",
     "text": [
      "val Loss: 0.6325 Acc: 0.8008\n",
      "\n",
      "Epoch 22/99\n",
      "----------\n"
     ]
    },
    {
     "name": "stderr",
     "output_type": "stream",
     "text": [
      "100%|██████████| 72/72 [00:26<00:00,  2.68it/s]\n"
     ]
    },
    {
     "name": "stdout",
     "output_type": "stream",
     "text": [
      "train Loss: 0.3341 Acc: 0.8701\n"
     ]
    },
    {
     "name": "stderr",
     "output_type": "stream",
     "text": [
      "100%|██████████| 16/16 [00:04<00:00,  3.47it/s]\n"
     ]
    },
    {
     "name": "stdout",
     "output_type": "stream",
     "text": [
      "val Loss: 0.6358 Acc: 0.8028\n",
      "\n",
      "Epoch 23/99\n",
      "----------\n"
     ]
    },
    {
     "name": "stderr",
     "output_type": "stream",
     "text": [
      "100%|██████████| 72/72 [00:26<00:00,  2.69it/s]\n"
     ]
    },
    {
     "name": "stdout",
     "output_type": "stream",
     "text": [
      "train Loss: 0.3137 Acc: 0.8888\n"
     ]
    },
    {
     "name": "stderr",
     "output_type": "stream",
     "text": [
      "100%|██████████| 16/16 [00:04<00:00,  3.40it/s]\n"
     ]
    },
    {
     "name": "stdout",
     "output_type": "stream",
     "text": [
      "val Loss: 0.6159 Acc: 0.8171\n",
      "\n",
      "Epoch 24/99\n",
      "----------\n"
     ]
    },
    {
     "name": "stderr",
     "output_type": "stream",
     "text": [
      "100%|██████████| 72/72 [00:26<00:00,  2.68it/s]\n"
     ]
    },
    {
     "name": "stdout",
     "output_type": "stream",
     "text": [
      "train Loss: 0.2981 Acc: 0.8923\n"
     ]
    },
    {
     "name": "stderr",
     "output_type": "stream",
     "text": [
      "100%|██████████| 16/16 [00:04<00:00,  3.47it/s]\n"
     ]
    },
    {
     "name": "stdout",
     "output_type": "stream",
     "text": [
      "val Loss: 0.6198 Acc: 0.8089\n",
      "\n",
      "Epoch 25/99\n",
      "----------\n"
     ]
    },
    {
     "name": "stderr",
     "output_type": "stream",
     "text": [
      "100%|██████████| 72/72 [00:26<00:00,  2.69it/s]\n"
     ]
    },
    {
     "name": "stdout",
     "output_type": "stream",
     "text": [
      "train Loss: 0.2821 Acc: 0.8928\n"
     ]
    },
    {
     "name": "stderr",
     "output_type": "stream",
     "text": [
      "100%|██████████| 16/16 [00:04<00:00,  3.39it/s]\n"
     ]
    },
    {
     "name": "stdout",
     "output_type": "stream",
     "text": [
      "val Loss: 0.6703 Acc: 0.7947\n",
      "\n",
      "Epoch 26/99\n",
      "----------\n"
     ]
    },
    {
     "name": "stderr",
     "output_type": "stream",
     "text": [
      "100%|██████████| 72/72 [00:26<00:00,  2.68it/s]\n"
     ]
    },
    {
     "name": "stdout",
     "output_type": "stream",
     "text": [
      "train Loss: 0.3062 Acc: 0.8806\n"
     ]
    },
    {
     "name": "stderr",
     "output_type": "stream",
     "text": [
      "100%|██████████| 16/16 [00:04<00:00,  3.47it/s]\n"
     ]
    },
    {
     "name": "stdout",
     "output_type": "stream",
     "text": [
      "val Loss: 0.6994 Acc: 0.7785\n",
      "\n",
      "Epoch 27/99\n",
      "----------\n"
     ]
    },
    {
     "name": "stderr",
     "output_type": "stream",
     "text": [
      "100%|██████████| 72/72 [00:26<00:00,  2.69it/s]\n"
     ]
    },
    {
     "name": "stdout",
     "output_type": "stream",
     "text": [
      "train Loss: 0.2847 Acc: 0.8928\n"
     ]
    },
    {
     "name": "stderr",
     "output_type": "stream",
     "text": [
      "100%|██████████| 16/16 [00:04<00:00,  3.38it/s]\n"
     ]
    },
    {
     "name": "stdout",
     "output_type": "stream",
     "text": [
      "val Loss: 0.6643 Acc: 0.7988\n",
      "\n",
      "Epoch 28/99\n",
      "----------\n"
     ]
    },
    {
     "name": "stderr",
     "output_type": "stream",
     "text": [
      "100%|██████████| 72/72 [00:26<00:00,  2.68it/s]\n"
     ]
    },
    {
     "name": "stdout",
     "output_type": "stream",
     "text": [
      "train Loss: 0.2851 Acc: 0.8967\n"
     ]
    },
    {
     "name": "stderr",
     "output_type": "stream",
     "text": [
      "100%|██████████| 16/16 [00:04<00:00,  3.47it/s]\n"
     ]
    },
    {
     "name": "stdout",
     "output_type": "stream",
     "text": [
      "val Loss: 0.6399 Acc: 0.8028\n",
      "\n",
      "Epoch 29/99\n",
      "----------\n"
     ]
    },
    {
     "name": "stderr",
     "output_type": "stream",
     "text": [
      "100%|██████████| 72/72 [00:26<00:00,  2.69it/s]\n"
     ]
    },
    {
     "name": "stdout",
     "output_type": "stream",
     "text": [
      "train Loss: 0.2762 Acc: 0.9050\n"
     ]
    },
    {
     "name": "stderr",
     "output_type": "stream",
     "text": [
      "100%|██████████| 16/16 [00:04<00:00,  3.49it/s]\n"
     ]
    },
    {
     "name": "stdout",
     "output_type": "stream",
     "text": [
      "val Loss: 0.6510 Acc: 0.8069\n",
      "\n",
      "Epoch 30/99\n",
      "----------\n"
     ]
    },
    {
     "name": "stderr",
     "output_type": "stream",
     "text": [
      "100%|██████████| 72/72 [00:26<00:00,  2.69it/s]\n"
     ]
    },
    {
     "name": "stdout",
     "output_type": "stream",
     "text": [
      "train Loss: 0.2511 Acc: 0.9085\n"
     ]
    },
    {
     "name": "stderr",
     "output_type": "stream",
     "text": [
      "100%|██████████| 16/16 [00:04<00:00,  3.47it/s]\n"
     ]
    },
    {
     "name": "stdout",
     "output_type": "stream",
     "text": [
      "val Loss: 0.5760 Acc: 0.8333\n",
      "\n",
      "Epoch 31/99\n",
      "----------\n"
     ]
    },
    {
     "name": "stderr",
     "output_type": "stream",
     "text": [
      "100%|██████████| 72/72 [00:26<00:00,  2.69it/s]\n"
     ]
    },
    {
     "name": "stdout",
     "output_type": "stream",
     "text": [
      "train Loss: 0.2344 Acc: 0.9189\n"
     ]
    },
    {
     "name": "stderr",
     "output_type": "stream",
     "text": [
      "100%|██████████| 16/16 [00:04<00:00,  3.47it/s]\n"
     ]
    },
    {
     "name": "stdout",
     "output_type": "stream",
     "text": [
      "val Loss: 0.6306 Acc: 0.7947\n",
      "\n",
      "Epoch 32/99\n",
      "----------\n"
     ]
    },
    {
     "name": "stderr",
     "output_type": "stream",
     "text": [
      "100%|██████████| 72/72 [00:26<00:00,  2.69it/s]\n"
     ]
    },
    {
     "name": "stdout",
     "output_type": "stream",
     "text": [
      "train Loss: 0.2542 Acc: 0.9093\n"
     ]
    },
    {
     "name": "stderr",
     "output_type": "stream",
     "text": [
      "100%|██████████| 16/16 [00:04<00:00,  3.40it/s]\n"
     ]
    },
    {
     "name": "stdout",
     "output_type": "stream",
     "text": [
      "val Loss: 0.7059 Acc: 0.7825\n",
      "\n",
      "Epoch 33/99\n",
      "----------\n"
     ]
    },
    {
     "name": "stderr",
     "output_type": "stream",
     "text": [
      "100%|██████████| 72/72 [00:26<00:00,  2.68it/s]\n"
     ]
    },
    {
     "name": "stdout",
     "output_type": "stream",
     "text": [
      "train Loss: 0.2485 Acc: 0.9146\n"
     ]
    },
    {
     "name": "stderr",
     "output_type": "stream",
     "text": [
      "100%|██████████| 16/16 [00:04<00:00,  3.48it/s]\n"
     ]
    },
    {
     "name": "stdout",
     "output_type": "stream",
     "text": [
      "val Loss: 0.6088 Acc: 0.8130\n",
      "\n",
      "Epoch 34/99\n",
      "----------\n"
     ]
    },
    {
     "name": "stderr",
     "output_type": "stream",
     "text": [
      "100%|██████████| 72/72 [00:26<00:00,  2.69it/s]\n"
     ]
    },
    {
     "name": "stdout",
     "output_type": "stream",
     "text": [
      "train Loss: 0.2296 Acc: 0.9128\n"
     ]
    },
    {
     "name": "stderr",
     "output_type": "stream",
     "text": [
      "100%|██████████| 16/16 [00:04<00:00,  3.39it/s]\n"
     ]
    },
    {
     "name": "stdout",
     "output_type": "stream",
     "text": [
      "val Loss: 0.6414 Acc: 0.7846\n",
      "\n",
      "Epoch 35/99\n",
      "----------\n"
     ]
    },
    {
     "name": "stderr",
     "output_type": "stream",
     "text": [
      "100%|██████████| 72/72 [00:26<00:00,  2.68it/s]\n"
     ]
    },
    {
     "name": "stdout",
     "output_type": "stream",
     "text": [
      "train Loss: 0.2489 Acc: 0.9141\n"
     ]
    },
    {
     "name": "stderr",
     "output_type": "stream",
     "text": [
      "100%|██████████| 16/16 [00:04<00:00,  3.47it/s]\n"
     ]
    },
    {
     "name": "stdout",
     "output_type": "stream",
     "text": [
      "val Loss: 0.6599 Acc: 0.8049\n",
      "\n",
      "Epoch 36/99\n",
      "----------\n"
     ]
    },
    {
     "name": "stderr",
     "output_type": "stream",
     "text": [
      "100%|██████████| 72/72 [00:26<00:00,  2.69it/s]\n"
     ]
    },
    {
     "name": "stdout",
     "output_type": "stream",
     "text": [
      "train Loss: 0.2339 Acc: 0.9150\n"
     ]
    },
    {
     "name": "stderr",
     "output_type": "stream",
     "text": [
      "100%|██████████| 16/16 [00:04<00:00,  3.40it/s]\n"
     ]
    },
    {
     "name": "stdout",
     "output_type": "stream",
     "text": [
      "val Loss: 0.7018 Acc: 0.7947\n",
      "\n",
      "Epoch 37/99\n",
      "----------\n"
     ]
    },
    {
     "name": "stderr",
     "output_type": "stream",
     "text": [
      "100%|██████████| 72/72 [00:27<00:00,  2.66it/s]\n"
     ]
    },
    {
     "name": "stdout",
     "output_type": "stream",
     "text": [
      "train Loss: 0.2361 Acc: 0.9119\n"
     ]
    },
    {
     "name": "stderr",
     "output_type": "stream",
     "text": [
      "100%|██████████| 16/16 [00:04<00:00,  3.43it/s]\n"
     ]
    },
    {
     "name": "stdout",
     "output_type": "stream",
     "text": [
      "val Loss: 0.6376 Acc: 0.7927\n",
      "\n",
      "Epoch 38/99\n",
      "----------\n"
     ]
    },
    {
     "name": "stderr",
     "output_type": "stream",
     "text": [
      "100%|██████████| 72/72 [00:26<00:00,  2.68it/s]\n"
     ]
    },
    {
     "name": "stdout",
     "output_type": "stream",
     "text": [
      "train Loss: 0.2097 Acc: 0.9246\n"
     ]
    },
    {
     "name": "stderr",
     "output_type": "stream",
     "text": [
      "100%|██████████| 16/16 [00:04<00:00,  3.48it/s]\n"
     ]
    },
    {
     "name": "stdout",
     "output_type": "stream",
     "text": [
      "val Loss: 0.7037 Acc: 0.7907\n",
      "\n",
      "Epoch 39/99\n",
      "----------\n"
     ]
    },
    {
     "name": "stderr",
     "output_type": "stream",
     "text": [
      "100%|██████████| 72/72 [00:26<00:00,  2.69it/s]\n"
     ]
    },
    {
     "name": "stdout",
     "output_type": "stream",
     "text": [
      "train Loss: 0.1970 Acc: 0.9263\n"
     ]
    },
    {
     "name": "stderr",
     "output_type": "stream",
     "text": [
      "100%|██████████| 16/16 [00:04<00:00,  3.40it/s]\n"
     ]
    },
    {
     "name": "stdout",
     "output_type": "stream",
     "text": [
      "val Loss: 0.6546 Acc: 0.8089\n",
      "\n",
      "Epoch 40/99\n",
      "----------\n"
     ]
    },
    {
     "name": "stderr",
     "output_type": "stream",
     "text": [
      "100%|██████████| 72/72 [00:26<00:00,  2.68it/s]\n"
     ]
    },
    {
     "name": "stdout",
     "output_type": "stream",
     "text": [
      "train Loss: 0.1905 Acc: 0.9307\n"
     ]
    },
    {
     "name": "stderr",
     "output_type": "stream",
     "text": [
      "100%|██████████| 16/16 [00:04<00:00,  3.47it/s]\n"
     ]
    },
    {
     "name": "stdout",
     "output_type": "stream",
     "text": [
      "val Loss: 0.6327 Acc: 0.7988\n",
      "\n",
      "Epoch 41/99\n",
      "----------\n"
     ]
    },
    {
     "name": "stderr",
     "output_type": "stream",
     "text": [
      "100%|██████████| 72/72 [00:26<00:00,  2.69it/s]\n"
     ]
    },
    {
     "name": "stdout",
     "output_type": "stream",
     "text": [
      "train Loss: 0.2124 Acc: 0.9207\n"
     ]
    },
    {
     "name": "stderr",
     "output_type": "stream",
     "text": [
      "100%|██████████| 16/16 [00:04<00:00,  3.40it/s]\n"
     ]
    },
    {
     "name": "stdout",
     "output_type": "stream",
     "text": [
      "val Loss: 0.7632 Acc: 0.7947\n",
      "\n",
      "Epoch 42/99\n",
      "----------\n"
     ]
    },
    {
     "name": "stderr",
     "output_type": "stream",
     "text": [
      "100%|██████████| 72/72 [00:26<00:00,  2.68it/s]\n"
     ]
    },
    {
     "name": "stdout",
     "output_type": "stream",
     "text": [
      "train Loss: 0.2004 Acc: 0.9233\n"
     ]
    },
    {
     "name": "stderr",
     "output_type": "stream",
     "text": [
      "100%|██████████| 16/16 [00:04<00:00,  3.48it/s]\n"
     ]
    },
    {
     "name": "stdout",
     "output_type": "stream",
     "text": [
      "val Loss: 0.7981 Acc: 0.7825\n",
      "\n",
      "Epoch 43/99\n",
      "----------\n"
     ]
    },
    {
     "name": "stderr",
     "output_type": "stream",
     "text": [
      "100%|██████████| 72/72 [00:26<00:00,  2.69it/s]\n"
     ]
    },
    {
     "name": "stdout",
     "output_type": "stream",
     "text": [
      "train Loss: 0.2086 Acc: 0.9237\n"
     ]
    },
    {
     "name": "stderr",
     "output_type": "stream",
     "text": [
      "100%|██████████| 16/16 [00:04<00:00,  3.39it/s]\n"
     ]
    },
    {
     "name": "stdout",
     "output_type": "stream",
     "text": [
      "val Loss: 0.7331 Acc: 0.7927\n",
      "\n",
      "Epoch 44/99\n",
      "----------\n"
     ]
    },
    {
     "name": "stderr",
     "output_type": "stream",
     "text": [
      "100%|██████████| 72/72 [00:26<00:00,  2.68it/s]\n"
     ]
    },
    {
     "name": "stdout",
     "output_type": "stream",
     "text": [
      "train Loss: 0.2053 Acc: 0.9241\n"
     ]
    },
    {
     "name": "stderr",
     "output_type": "stream",
     "text": [
      "100%|██████████| 16/16 [00:04<00:00,  3.47it/s]\n"
     ]
    },
    {
     "name": "stdout",
     "output_type": "stream",
     "text": [
      "val Loss: 0.6877 Acc: 0.7988\n",
      "\n",
      "Epoch 45/99\n",
      "----------\n"
     ]
    },
    {
     "name": "stderr",
     "output_type": "stream",
     "text": [
      "100%|██████████| 72/72 [00:26<00:00,  2.69it/s]\n"
     ]
    },
    {
     "name": "stdout",
     "output_type": "stream",
     "text": [
      "train Loss: 0.2053 Acc: 0.9281\n"
     ]
    },
    {
     "name": "stderr",
     "output_type": "stream",
     "text": [
      "100%|██████████| 16/16 [00:04<00:00,  3.43it/s]\n"
     ]
    },
    {
     "name": "stdout",
     "output_type": "stream",
     "text": [
      "val Loss: 0.7454 Acc: 0.7805\n",
      "\n",
      "Epoch 46/99\n",
      "----------\n"
     ]
    },
    {
     "name": "stderr",
     "output_type": "stream",
     "text": [
      "100%|██████████| 72/72 [00:26<00:00,  2.70it/s]\n"
     ]
    },
    {
     "name": "stdout",
     "output_type": "stream",
     "text": [
      "train Loss: 0.2448 Acc: 0.9093\n"
     ]
    },
    {
     "name": "stderr",
     "output_type": "stream",
     "text": [
      "100%|██████████| 16/16 [00:04<00:00,  3.44it/s]\n"
     ]
    },
    {
     "name": "stdout",
     "output_type": "stream",
     "text": [
      "val Loss: 0.7205 Acc: 0.7866\n",
      "\n",
      "Epoch 47/99\n",
      "----------\n"
     ]
    },
    {
     "name": "stderr",
     "output_type": "stream",
     "text": [
      "100%|██████████| 72/72 [00:26<00:00,  2.69it/s]\n"
     ]
    },
    {
     "name": "stdout",
     "output_type": "stream",
     "text": [
      "train Loss: 0.1795 Acc: 0.9368\n"
     ]
    },
    {
     "name": "stderr",
     "output_type": "stream",
     "text": [
      "100%|██████████| 16/16 [00:04<00:00,  3.44it/s]\n"
     ]
    },
    {
     "name": "stdout",
     "output_type": "stream",
     "text": [
      "val Loss: 0.7222 Acc: 0.7866\n",
      "\n",
      "Epoch 48/99\n",
      "----------\n"
     ]
    },
    {
     "name": "stderr",
     "output_type": "stream",
     "text": [
      "100%|██████████| 72/72 [00:26<00:00,  2.69it/s]\n"
     ]
    },
    {
     "name": "stdout",
     "output_type": "stream",
     "text": [
      "train Loss: 0.1788 Acc: 0.9316\n"
     ]
    },
    {
     "name": "stderr",
     "output_type": "stream",
     "text": [
      "100%|██████████| 16/16 [00:04<00:00,  3.27it/s]\n"
     ]
    },
    {
     "name": "stdout",
     "output_type": "stream",
     "text": [
      "val Loss: 0.7374 Acc: 0.7866\n",
      "\n",
      "Epoch 49/99\n",
      "----------\n"
     ]
    },
    {
     "name": "stderr",
     "output_type": "stream",
     "text": [
      "100%|██████████| 72/72 [00:26<00:00,  2.68it/s]\n"
     ]
    },
    {
     "name": "stdout",
     "output_type": "stream",
     "text": [
      "train Loss: 0.1815 Acc: 0.9381\n"
     ]
    },
    {
     "name": "stderr",
     "output_type": "stream",
     "text": [
      "100%|██████████| 16/16 [00:04<00:00,  3.40it/s]\n"
     ]
    },
    {
     "name": "stdout",
     "output_type": "stream",
     "text": [
      "val Loss: 0.6777 Acc: 0.8049\n",
      "\n",
      "Epoch 50/99\n",
      "----------\n"
     ]
    },
    {
     "name": "stderr",
     "output_type": "stream",
     "text": [
      "100%|██████████| 72/72 [00:26<00:00,  2.68it/s]\n"
     ]
    },
    {
     "name": "stdout",
     "output_type": "stream",
     "text": [
      "train Loss: 0.1695 Acc: 0.9385\n"
     ]
    },
    {
     "name": "stderr",
     "output_type": "stream",
     "text": [
      "100%|██████████| 16/16 [00:04<00:00,  3.48it/s]\n"
     ]
    },
    {
     "name": "stdout",
     "output_type": "stream",
     "text": [
      "val Loss: 0.7401 Acc: 0.7967\n",
      "\n",
      "Epoch 51/99\n",
      "----------\n"
     ]
    },
    {
     "name": "stderr",
     "output_type": "stream",
     "text": [
      "100%|██████████| 72/72 [00:26<00:00,  2.69it/s]\n"
     ]
    },
    {
     "name": "stdout",
     "output_type": "stream",
     "text": [
      "train Loss: 0.1762 Acc: 0.9377\n"
     ]
    },
    {
     "name": "stderr",
     "output_type": "stream",
     "text": [
      "100%|██████████| 16/16 [00:04<00:00,  3.41it/s]\n"
     ]
    },
    {
     "name": "stdout",
     "output_type": "stream",
     "text": [
      "val Loss: 0.6965 Acc: 0.8089\n",
      "\n",
      "Epoch 52/99\n",
      "----------\n"
     ]
    },
    {
     "name": "stderr",
     "output_type": "stream",
     "text": [
      "100%|██████████| 72/72 [00:26<00:00,  2.68it/s]\n"
     ]
    },
    {
     "name": "stdout",
     "output_type": "stream",
     "text": [
      "train Loss: 0.1856 Acc: 0.9324\n"
     ]
    },
    {
     "name": "stderr",
     "output_type": "stream",
     "text": [
      "100%|██████████| 16/16 [00:04<00:00,  3.46it/s]\n"
     ]
    },
    {
     "name": "stdout",
     "output_type": "stream",
     "text": [
      "val Loss: 0.7165 Acc: 0.7907\n",
      "\n",
      "Epoch 53/99\n",
      "----------\n"
     ]
    },
    {
     "name": "stderr",
     "output_type": "stream",
     "text": [
      "100%|██████████| 72/72 [00:26<00:00,  2.69it/s]\n"
     ]
    },
    {
     "name": "stdout",
     "output_type": "stream",
     "text": [
      "train Loss: 0.1420 Acc: 0.9481\n"
     ]
    },
    {
     "name": "stderr",
     "output_type": "stream",
     "text": [
      "100%|██████████| 16/16 [00:04<00:00,  3.41it/s]\n"
     ]
    },
    {
     "name": "stdout",
     "output_type": "stream",
     "text": [
      "val Loss: 0.7597 Acc: 0.7866\n",
      "\n",
      "Epoch 54/99\n",
      "----------\n"
     ]
    },
    {
     "name": "stderr",
     "output_type": "stream",
     "text": [
      "100%|██████████| 72/72 [00:26<00:00,  2.70it/s]\n"
     ]
    },
    {
     "name": "stdout",
     "output_type": "stream",
     "text": [
      "train Loss: 0.1760 Acc: 0.9320\n"
     ]
    },
    {
     "name": "stderr",
     "output_type": "stream",
     "text": [
      "100%|██████████| 16/16 [00:04<00:00,  3.45it/s]\n"
     ]
    },
    {
     "name": "stdout",
     "output_type": "stream",
     "text": [
      "val Loss: 0.6794 Acc: 0.8130\n",
      "\n",
      "Epoch 55/99\n",
      "----------\n"
     ]
    },
    {
     "name": "stderr",
     "output_type": "stream",
     "text": [
      "100%|██████████| 72/72 [00:26<00:00,  2.69it/s]\n"
     ]
    },
    {
     "name": "stdout",
     "output_type": "stream",
     "text": [
      "train Loss: 0.1675 Acc: 0.9372\n"
     ]
    },
    {
     "name": "stderr",
     "output_type": "stream",
     "text": [
      "100%|██████████| 16/16 [00:04<00:00,  3.47it/s]\n"
     ]
    },
    {
     "name": "stdout",
     "output_type": "stream",
     "text": [
      "val Loss: 0.7765 Acc: 0.7724\n",
      "\n",
      "Epoch 56/99\n",
      "----------\n"
     ]
    },
    {
     "name": "stderr",
     "output_type": "stream",
     "text": [
      "100%|██████████| 72/72 [00:26<00:00,  2.69it/s]\n"
     ]
    },
    {
     "name": "stdout",
     "output_type": "stream",
     "text": [
      "train Loss: 0.1675 Acc: 0.9394\n"
     ]
    },
    {
     "name": "stderr",
     "output_type": "stream",
     "text": [
      "100%|██████████| 16/16 [00:04<00:00,  3.40it/s]\n"
     ]
    },
    {
     "name": "stdout",
     "output_type": "stream",
     "text": [
      "val Loss: 0.8162 Acc: 0.7785\n",
      "\n",
      "Epoch 57/99\n",
      "----------\n"
     ]
    },
    {
     "name": "stderr",
     "output_type": "stream",
     "text": [
      "100%|██████████| 72/72 [00:26<00:00,  2.68it/s]\n"
     ]
    },
    {
     "name": "stdout",
     "output_type": "stream",
     "text": [
      "train Loss: 0.1813 Acc: 0.9285\n"
     ]
    },
    {
     "name": "stderr",
     "output_type": "stream",
     "text": [
      "100%|██████████| 16/16 [00:04<00:00,  3.47it/s]\n"
     ]
    },
    {
     "name": "stdout",
     "output_type": "stream",
     "text": [
      "val Loss: 0.6355 Acc: 0.8171\n",
      "\n",
      "Epoch 58/99\n",
      "----------\n"
     ]
    },
    {
     "name": "stderr",
     "output_type": "stream",
     "text": [
      "100%|██████████| 72/72 [00:26<00:00,  2.69it/s]\n"
     ]
    },
    {
     "name": "stdout",
     "output_type": "stream",
     "text": [
      "train Loss: 0.1358 Acc: 0.9547\n"
     ]
    },
    {
     "name": "stderr",
     "output_type": "stream",
     "text": [
      "100%|██████████| 16/16 [00:04<00:00,  3.42it/s]\n"
     ]
    },
    {
     "name": "stdout",
     "output_type": "stream",
     "text": [
      "val Loss: 0.7729 Acc: 0.8008\n",
      "\n",
      "Epoch 59/99\n",
      "----------\n"
     ]
    },
    {
     "name": "stderr",
     "output_type": "stream",
     "text": [
      "100%|██████████| 72/72 [00:26<00:00,  2.68it/s]\n"
     ]
    },
    {
     "name": "stdout",
     "output_type": "stream",
     "text": [
      "train Loss: 0.1629 Acc: 0.9368\n"
     ]
    },
    {
     "name": "stderr",
     "output_type": "stream",
     "text": [
      "100%|██████████| 16/16 [00:04<00:00,  3.47it/s]\n"
     ]
    },
    {
     "name": "stdout",
     "output_type": "stream",
     "text": [
      "val Loss: 0.7636 Acc: 0.8028\n",
      "\n",
      "Epoch 60/99\n",
      "----------\n"
     ]
    },
    {
     "name": "stderr",
     "output_type": "stream",
     "text": [
      "100%|██████████| 72/72 [00:26<00:00,  2.69it/s]\n"
     ]
    },
    {
     "name": "stdout",
     "output_type": "stream",
     "text": [
      "train Loss: 0.1316 Acc: 0.9547\n"
     ]
    },
    {
     "name": "stderr",
     "output_type": "stream",
     "text": [
      "100%|██████████| 16/16 [00:04<00:00,  3.41it/s]\n"
     ]
    },
    {
     "name": "stdout",
     "output_type": "stream",
     "text": [
      "val Loss: 0.6797 Acc: 0.8089\n",
      "\n",
      "Epoch 61/99\n",
      "----------\n"
     ]
    },
    {
     "name": "stderr",
     "output_type": "stream",
     "text": [
      "100%|██████████| 72/72 [00:26<00:00,  2.68it/s]\n"
     ]
    },
    {
     "name": "stdout",
     "output_type": "stream",
     "text": [
      "train Loss: 0.1372 Acc: 0.9516\n"
     ]
    },
    {
     "name": "stderr",
     "output_type": "stream",
     "text": [
      "100%|██████████| 16/16 [00:04<00:00,  3.46it/s]\n"
     ]
    },
    {
     "name": "stdout",
     "output_type": "stream",
     "text": [
      "val Loss: 0.6551 Acc: 0.8272\n",
      "\n",
      "Epoch 62/99\n",
      "----------\n"
     ]
    },
    {
     "name": "stderr",
     "output_type": "stream",
     "text": [
      "100%|██████████| 72/72 [00:26<00:00,  2.69it/s]\n"
     ]
    },
    {
     "name": "stdout",
     "output_type": "stream",
     "text": [
      "train Loss: 0.1449 Acc: 0.9477\n"
     ]
    },
    {
     "name": "stderr",
     "output_type": "stream",
     "text": [
      "100%|██████████| 16/16 [00:04<00:00,  3.42it/s]\n"
     ]
    },
    {
     "name": "stdout",
     "output_type": "stream",
     "text": [
      "val Loss: 0.7500 Acc: 0.8130\n",
      "\n",
      "Epoch 63/99\n",
      "----------\n"
     ]
    },
    {
     "name": "stderr",
     "output_type": "stream",
     "text": [
      "100%|██████████| 72/72 [00:26<00:00,  2.68it/s]\n"
     ]
    },
    {
     "name": "stdout",
     "output_type": "stream",
     "text": [
      "train Loss: 0.1585 Acc: 0.9433\n"
     ]
    },
    {
     "name": "stderr",
     "output_type": "stream",
     "text": [
      "100%|██████████| 16/16 [00:04<00:00,  3.48it/s]\n"
     ]
    },
    {
     "name": "stdout",
     "output_type": "stream",
     "text": [
      "val Loss: 0.7025 Acc: 0.8028\n",
      "\n",
      "Epoch 64/99\n",
      "----------\n"
     ]
    },
    {
     "name": "stderr",
     "output_type": "stream",
     "text": [
      "100%|██████████| 72/72 [00:26<00:00,  2.69it/s]\n"
     ]
    },
    {
     "name": "stdout",
     "output_type": "stream",
     "text": [
      "train Loss: 0.1398 Acc: 0.9455\n"
     ]
    },
    {
     "name": "stderr",
     "output_type": "stream",
     "text": [
      "100%|██████████| 16/16 [00:04<00:00,  3.40it/s]\n"
     ]
    },
    {
     "name": "stdout",
     "output_type": "stream",
     "text": [
      "val Loss: 0.6756 Acc: 0.8150\n",
      "\n",
      "Epoch 65/99\n",
      "----------\n"
     ]
    },
    {
     "name": "stderr",
     "output_type": "stream",
     "text": [
      "100%|██████████| 72/72 [00:26<00:00,  2.68it/s]\n"
     ]
    },
    {
     "name": "stdout",
     "output_type": "stream",
     "text": [
      "train Loss: 0.1344 Acc: 0.9507\n"
     ]
    },
    {
     "name": "stderr",
     "output_type": "stream",
     "text": [
      "100%|██████████| 16/16 [00:04<00:00,  3.48it/s]\n"
     ]
    },
    {
     "name": "stdout",
     "output_type": "stream",
     "text": [
      "val Loss: 0.6711 Acc: 0.8191\n",
      "\n",
      "Epoch 66/99\n",
      "----------\n"
     ]
    },
    {
     "name": "stderr",
     "output_type": "stream",
     "text": [
      "100%|██████████| 72/72 [00:26<00:00,  2.69it/s]\n"
     ]
    },
    {
     "name": "stdout",
     "output_type": "stream",
     "text": [
      "train Loss: 0.1474 Acc: 0.9420\n"
     ]
    },
    {
     "name": "stderr",
     "output_type": "stream",
     "text": [
      "100%|██████████| 16/16 [00:04<00:00,  3.40it/s]\n"
     ]
    },
    {
     "name": "stdout",
     "output_type": "stream",
     "text": [
      "val Loss: 0.7115 Acc: 0.8232\n",
      "\n",
      "Epoch 67/99\n",
      "----------\n"
     ]
    },
    {
     "name": "stderr",
     "output_type": "stream",
     "text": [
      "100%|██████████| 72/72 [00:26<00:00,  2.68it/s]\n"
     ]
    },
    {
     "name": "stdout",
     "output_type": "stream",
     "text": [
      "train Loss: 0.1515 Acc: 0.9398\n"
     ]
    },
    {
     "name": "stderr",
     "output_type": "stream",
     "text": [
      "100%|██████████| 16/16 [00:04<00:00,  3.48it/s]\n"
     ]
    },
    {
     "name": "stdout",
     "output_type": "stream",
     "text": [
      "val Loss: 0.7110 Acc: 0.7947\n",
      "\n",
      "Epoch 68/99\n",
      "----------\n"
     ]
    },
    {
     "name": "stderr",
     "output_type": "stream",
     "text": [
      "100%|██████████| 72/72 [00:26<00:00,  2.69it/s]\n"
     ]
    },
    {
     "name": "stdout",
     "output_type": "stream",
     "text": [
      "train Loss: 0.1364 Acc: 0.9516\n"
     ]
    },
    {
     "name": "stderr",
     "output_type": "stream",
     "text": [
      "100%|██████████| 16/16 [00:04<00:00,  3.41it/s]\n"
     ]
    },
    {
     "name": "stdout",
     "output_type": "stream",
     "text": [
      "val Loss: 0.6988 Acc: 0.7947\n",
      "\n",
      "Epoch 69/99\n",
      "----------\n"
     ]
    },
    {
     "name": "stderr",
     "output_type": "stream",
     "text": [
      "100%|██████████| 72/72 [00:26<00:00,  2.68it/s]\n"
     ]
    },
    {
     "name": "stdout",
     "output_type": "stream",
     "text": [
      "train Loss: 0.1135 Acc: 0.9595\n"
     ]
    },
    {
     "name": "stderr",
     "output_type": "stream",
     "text": [
      "100%|██████████| 16/16 [00:04<00:00,  3.45it/s]\n"
     ]
    },
    {
     "name": "stdout",
     "output_type": "stream",
     "text": [
      "val Loss: 0.6829 Acc: 0.8008\n",
      "\n",
      "Epoch 70/99\n",
      "----------\n"
     ]
    },
    {
     "name": "stderr",
     "output_type": "stream",
     "text": [
      "100%|██████████| 72/72 [00:26<00:00,  2.67it/s]\n"
     ]
    },
    {
     "name": "stdout",
     "output_type": "stream",
     "text": [
      "train Loss: 0.1450 Acc: 0.9446\n"
     ]
    },
    {
     "name": "stderr",
     "output_type": "stream",
     "text": [
      "100%|██████████| 16/16 [00:04<00:00,  3.47it/s]\n"
     ]
    },
    {
     "name": "stdout",
     "output_type": "stream",
     "text": [
      "val Loss: 0.7310 Acc: 0.7846\n",
      "\n",
      "Epoch 71/99\n",
      "----------\n"
     ]
    },
    {
     "name": "stderr",
     "output_type": "stream",
     "text": [
      "100%|██████████| 72/72 [00:26<00:00,  2.69it/s]\n"
     ]
    },
    {
     "name": "stdout",
     "output_type": "stream",
     "text": [
      "train Loss: 0.1242 Acc: 0.9582\n"
     ]
    },
    {
     "name": "stderr",
     "output_type": "stream",
     "text": [
      "100%|██████████| 16/16 [00:04<00:00,  3.47it/s]\n"
     ]
    },
    {
     "name": "stdout",
     "output_type": "stream",
     "text": [
      "val Loss: 0.7801 Acc: 0.7886\n",
      "\n",
      "Epoch 72/99\n",
      "----------\n"
     ]
    },
    {
     "name": "stderr",
     "output_type": "stream",
     "text": [
      "100%|██████████| 72/72 [00:26<00:00,  2.69it/s]\n"
     ]
    },
    {
     "name": "stdout",
     "output_type": "stream",
     "text": [
      "train Loss: 0.1284 Acc: 0.9516\n"
     ]
    },
    {
     "name": "stderr",
     "output_type": "stream",
     "text": [
      "100%|██████████| 16/16 [00:04<00:00,  3.39it/s]\n"
     ]
    },
    {
     "name": "stdout",
     "output_type": "stream",
     "text": [
      "val Loss: 0.7322 Acc: 0.8252\n",
      "\n",
      "Epoch 73/99\n",
      "----------\n"
     ]
    },
    {
     "name": "stderr",
     "output_type": "stream",
     "text": [
      "100%|██████████| 72/72 [00:26<00:00,  2.68it/s]\n"
     ]
    },
    {
     "name": "stdout",
     "output_type": "stream",
     "text": [
      "train Loss: 0.1201 Acc: 0.9577\n"
     ]
    },
    {
     "name": "stderr",
     "output_type": "stream",
     "text": [
      "100%|██████████| 16/16 [00:04<00:00,  3.47it/s]\n"
     ]
    },
    {
     "name": "stdout",
     "output_type": "stream",
     "text": [
      "val Loss: 0.7250 Acc: 0.8049\n",
      "\n",
      "Epoch 74/99\n",
      "----------\n"
     ]
    },
    {
     "name": "stderr",
     "output_type": "stream",
     "text": [
      "100%|██████████| 72/72 [00:26<00:00,  2.69it/s]\n"
     ]
    },
    {
     "name": "stdout",
     "output_type": "stream",
     "text": [
      "train Loss: 0.1346 Acc: 0.9534\n"
     ]
    },
    {
     "name": "stderr",
     "output_type": "stream",
     "text": [
      "100%|██████████| 16/16 [00:04<00:00,  3.40it/s]\n"
     ]
    },
    {
     "name": "stdout",
     "output_type": "stream",
     "text": [
      "val Loss: 0.6425 Acc: 0.8232\n",
      "\n",
      "Epoch 75/99\n",
      "----------\n"
     ]
    },
    {
     "name": "stderr",
     "output_type": "stream",
     "text": [
      "100%|██████████| 72/72 [00:26<00:00,  2.68it/s]\n"
     ]
    },
    {
     "name": "stdout",
     "output_type": "stream",
     "text": [
      "train Loss: 0.1412 Acc: 0.9446\n"
     ]
    },
    {
     "name": "stderr",
     "output_type": "stream",
     "text": [
      "100%|██████████| 16/16 [00:04<00:00,  3.47it/s]\n"
     ]
    },
    {
     "name": "stdout",
     "output_type": "stream",
     "text": [
      "val Loss: 0.7032 Acc: 0.8110\n",
      "\n",
      "Epoch 76/99\n",
      "----------\n"
     ]
    },
    {
     "name": "stderr",
     "output_type": "stream",
     "text": [
      "100%|██████████| 72/72 [00:26<00:00,  2.69it/s]\n"
     ]
    },
    {
     "name": "stdout",
     "output_type": "stream",
     "text": [
      "train Loss: 0.1268 Acc: 0.9595\n"
     ]
    },
    {
     "name": "stderr",
     "output_type": "stream",
     "text": [
      "100%|██████████| 16/16 [00:04<00:00,  3.41it/s]\n"
     ]
    },
    {
     "name": "stdout",
     "output_type": "stream",
     "text": [
      "val Loss: 0.7854 Acc: 0.7846\n",
      "\n",
      "Epoch 77/99\n",
      "----------\n"
     ]
    },
    {
     "name": "stderr",
     "output_type": "stream",
     "text": [
      "100%|██████████| 72/72 [00:26<00:00,  2.68it/s]\n"
     ]
    },
    {
     "name": "stdout",
     "output_type": "stream",
     "text": [
      "train Loss: 0.1188 Acc: 0.9564\n"
     ]
    },
    {
     "name": "stderr",
     "output_type": "stream",
     "text": [
      "100%|██████████| 16/16 [00:04<00:00,  3.45it/s]\n"
     ]
    },
    {
     "name": "stdout",
     "output_type": "stream",
     "text": [
      "val Loss: 0.7277 Acc: 0.8110\n",
      "\n",
      "Epoch 78/99\n",
      "----------\n"
     ]
    },
    {
     "name": "stderr",
     "output_type": "stream",
     "text": [
      "100%|██████████| 72/72 [00:26<00:00,  2.69it/s]\n"
     ]
    },
    {
     "name": "stdout",
     "output_type": "stream",
     "text": [
      "train Loss: 0.1215 Acc: 0.9568\n"
     ]
    },
    {
     "name": "stderr",
     "output_type": "stream",
     "text": [
      "100%|██████████| 16/16 [00:04<00:00,  3.40it/s]\n"
     ]
    },
    {
     "name": "stdout",
     "output_type": "stream",
     "text": [
      "val Loss: 0.7203 Acc: 0.8171\n",
      "\n",
      "Epoch 79/99\n",
      "----------\n"
     ]
    },
    {
     "name": "stderr",
     "output_type": "stream",
     "text": [
      "100%|██████████| 72/72 [00:26<00:00,  2.68it/s]\n"
     ]
    },
    {
     "name": "stdout",
     "output_type": "stream",
     "text": [
      "train Loss: 0.1225 Acc: 0.9577\n"
     ]
    },
    {
     "name": "stderr",
     "output_type": "stream",
     "text": [
      "100%|██████████| 16/16 [00:04<00:00,  3.47it/s]\n"
     ]
    },
    {
     "name": "stdout",
     "output_type": "stream",
     "text": [
      "val Loss: 0.7940 Acc: 0.7825\n",
      "\n",
      "Epoch 80/99\n",
      "----------\n"
     ]
    },
    {
     "name": "stderr",
     "output_type": "stream",
     "text": [
      "100%|██████████| 72/72 [00:26<00:00,  2.69it/s]\n"
     ]
    },
    {
     "name": "stdout",
     "output_type": "stream",
     "text": [
      "train Loss: 0.1149 Acc: 0.9529\n"
     ]
    },
    {
     "name": "stderr",
     "output_type": "stream",
     "text": [
      "100%|██████████| 16/16 [00:04<00:00,  3.38it/s]\n"
     ]
    },
    {
     "name": "stdout",
     "output_type": "stream",
     "text": [
      "val Loss: 0.7511 Acc: 0.8110\n",
      "\n",
      "Epoch 81/99\n",
      "----------\n"
     ]
    },
    {
     "name": "stderr",
     "output_type": "stream",
     "text": [
      "100%|██████████| 72/72 [00:26<00:00,  2.68it/s]\n"
     ]
    },
    {
     "name": "stdout",
     "output_type": "stream",
     "text": [
      "train Loss: 0.1325 Acc: 0.9547\n"
     ]
    },
    {
     "name": "stderr",
     "output_type": "stream",
     "text": [
      "100%|██████████| 16/16 [00:04<00:00,  3.47it/s]\n"
     ]
    },
    {
     "name": "stdout",
     "output_type": "stream",
     "text": [
      "val Loss: 0.7792 Acc: 0.7744\n",
      "\n",
      "Epoch 82/99\n",
      "----------\n"
     ]
    },
    {
     "name": "stderr",
     "output_type": "stream",
     "text": [
      "100%|██████████| 72/72 [00:26<00:00,  2.67it/s]\n"
     ]
    },
    {
     "name": "stdout",
     "output_type": "stream",
     "text": [
      "train Loss: 0.1535 Acc: 0.9459\n"
     ]
    },
    {
     "name": "stderr",
     "output_type": "stream",
     "text": [
      "100%|██████████| 16/16 [00:04<00:00,  3.46it/s]\n"
     ]
    },
    {
     "name": "stdout",
     "output_type": "stream",
     "text": [
      "val Loss: 0.7260 Acc: 0.7825\n",
      "\n",
      "Epoch 83/99\n",
      "----------\n"
     ]
    },
    {
     "name": "stderr",
     "output_type": "stream",
     "text": [
      "100%|██████████| 72/72 [00:26<00:00,  2.69it/s]\n"
     ]
    },
    {
     "name": "stdout",
     "output_type": "stream",
     "text": [
      "train Loss: 0.1380 Acc: 0.9494\n"
     ]
    },
    {
     "name": "stderr",
     "output_type": "stream",
     "text": [
      "100%|██████████| 16/16 [00:04<00:00,  3.48it/s]\n"
     ]
    },
    {
     "name": "stdout",
     "output_type": "stream",
     "text": [
      "val Loss: 0.6776 Acc: 0.8130\n",
      "\n",
      "Epoch 84/99\n",
      "----------\n"
     ]
    },
    {
     "name": "stderr",
     "output_type": "stream",
     "text": [
      "100%|██████████| 72/72 [00:26<00:00,  2.69it/s]\n"
     ]
    },
    {
     "name": "stdout",
     "output_type": "stream",
     "text": [
      "train Loss: 0.1079 Acc: 0.9621\n"
     ]
    },
    {
     "name": "stderr",
     "output_type": "stream",
     "text": [
      "100%|██████████| 16/16 [00:04<00:00,  3.41it/s]\n"
     ]
    },
    {
     "name": "stdout",
     "output_type": "stream",
     "text": [
      "val Loss: 0.7143 Acc: 0.8089\n",
      "\n",
      "Epoch 85/99\n",
      "----------\n"
     ]
    },
    {
     "name": "stderr",
     "output_type": "stream",
     "text": [
      "100%|██████████| 72/72 [00:26<00:00,  2.70it/s]\n"
     ]
    },
    {
     "name": "stdout",
     "output_type": "stream",
     "text": [
      "train Loss: 0.1150 Acc: 0.9595\n"
     ]
    },
    {
     "name": "stderr",
     "output_type": "stream",
     "text": [
      "100%|██████████| 16/16 [00:04<00:00,  3.47it/s]\n"
     ]
    },
    {
     "name": "stdout",
     "output_type": "stream",
     "text": [
      "val Loss: 0.7649 Acc: 0.8171\n",
      "\n",
      "Epoch 86/99\n",
      "----------\n"
     ]
    },
    {
     "name": "stderr",
     "output_type": "stream",
     "text": [
      "100%|██████████| 72/72 [00:26<00:00,  2.69it/s]\n"
     ]
    },
    {
     "name": "stdout",
     "output_type": "stream",
     "text": [
      "train Loss: 0.1179 Acc: 0.9612\n"
     ]
    },
    {
     "name": "stderr",
     "output_type": "stream",
     "text": [
      "100%|██████████| 16/16 [00:04<00:00,  3.45it/s]\n"
     ]
    },
    {
     "name": "stdout",
     "output_type": "stream",
     "text": [
      "val Loss: 0.7984 Acc: 0.7927\n",
      "\n",
      "Epoch 87/99\n",
      "----------\n"
     ]
    },
    {
     "name": "stderr",
     "output_type": "stream",
     "text": [
      "100%|██████████| 72/72 [00:26<00:00,  2.69it/s]\n"
     ]
    },
    {
     "name": "stdout",
     "output_type": "stream",
     "text": [
      "train Loss: 0.1157 Acc: 0.9599\n"
     ]
    },
    {
     "name": "stderr",
     "output_type": "stream",
     "text": [
      "100%|██████████| 16/16 [00:04<00:00,  3.42it/s]\n"
     ]
    },
    {
     "name": "stdout",
     "output_type": "stream",
     "text": [
      "val Loss: 0.7675 Acc: 0.8293\n",
      "\n",
      "Epoch 88/99\n",
      "----------\n"
     ]
    },
    {
     "name": "stderr",
     "output_type": "stream",
     "text": [
      "100%|██████████| 72/72 [00:26<00:00,  2.68it/s]\n"
     ]
    },
    {
     "name": "stdout",
     "output_type": "stream",
     "text": [
      "train Loss: 0.1195 Acc: 0.9608\n"
     ]
    },
    {
     "name": "stderr",
     "output_type": "stream",
     "text": [
      "100%|██████████| 16/16 [00:04<00:00,  3.47it/s]\n"
     ]
    },
    {
     "name": "stdout",
     "output_type": "stream",
     "text": [
      "val Loss: 0.7572 Acc: 0.8110\n",
      "\n",
      "Epoch 89/99\n",
      "----------\n"
     ]
    },
    {
     "name": "stderr",
     "output_type": "stream",
     "text": [
      "100%|██████████| 72/72 [00:26<00:00,  2.69it/s]\n"
     ]
    },
    {
     "name": "stdout",
     "output_type": "stream",
     "text": [
      "train Loss: 0.1095 Acc: 0.9590\n"
     ]
    },
    {
     "name": "stderr",
     "output_type": "stream",
     "text": [
      "100%|██████████| 16/16 [00:04<00:00,  3.43it/s]\n"
     ]
    },
    {
     "name": "stdout",
     "output_type": "stream",
     "text": [
      "val Loss: 0.8706 Acc: 0.7907\n",
      "\n",
      "Epoch 90/99\n",
      "----------\n"
     ]
    },
    {
     "name": "stderr",
     "output_type": "stream",
     "text": [
      "100%|██████████| 72/72 [00:26<00:00,  2.68it/s]\n"
     ]
    },
    {
     "name": "stdout",
     "output_type": "stream",
     "text": [
      "train Loss: 0.1181 Acc: 0.9560\n"
     ]
    },
    {
     "name": "stderr",
     "output_type": "stream",
     "text": [
      "100%|██████████| 16/16 [00:04<00:00,  3.48it/s]\n"
     ]
    },
    {
     "name": "stdout",
     "output_type": "stream",
     "text": [
      "val Loss: 0.7129 Acc: 0.8089\n",
      "\n",
      "Epoch 91/99\n",
      "----------\n"
     ]
    },
    {
     "name": "stderr",
     "output_type": "stream",
     "text": [
      "100%|██████████| 72/72 [00:26<00:00,  2.69it/s]\n"
     ]
    },
    {
     "name": "stdout",
     "output_type": "stream",
     "text": [
      "train Loss: 0.1059 Acc: 0.9599\n"
     ]
    },
    {
     "name": "stderr",
     "output_type": "stream",
     "text": [
      "100%|██████████| 16/16 [00:04<00:00,  3.40it/s]\n"
     ]
    },
    {
     "name": "stdout",
     "output_type": "stream",
     "text": [
      "val Loss: 0.7764 Acc: 0.8049\n",
      "\n",
      "Epoch 92/99\n",
      "----------\n"
     ]
    },
    {
     "name": "stderr",
     "output_type": "stream",
     "text": [
      "100%|██████████| 72/72 [00:26<00:00,  2.68it/s]\n"
     ]
    },
    {
     "name": "stdout",
     "output_type": "stream",
     "text": [
      "train Loss: 0.1029 Acc: 0.9629\n"
     ]
    },
    {
     "name": "stderr",
     "output_type": "stream",
     "text": [
      "100%|██████████| 16/16 [00:04<00:00,  3.44it/s]\n"
     ]
    },
    {
     "name": "stdout",
     "output_type": "stream",
     "text": [
      "val Loss: 0.7244 Acc: 0.8089\n",
      "\n",
      "Epoch 93/99\n",
      "----------\n"
     ]
    },
    {
     "name": "stderr",
     "output_type": "stream",
     "text": [
      "100%|██████████| 72/72 [00:26<00:00,  2.67it/s]\n"
     ]
    },
    {
     "name": "stdout",
     "output_type": "stream",
     "text": [
      "train Loss: 0.1187 Acc: 0.9582\n"
     ]
    },
    {
     "name": "stderr",
     "output_type": "stream",
     "text": [
      "100%|██████████| 16/16 [00:04<00:00,  3.47it/s]\n"
     ]
    },
    {
     "name": "stdout",
     "output_type": "stream",
     "text": [
      "val Loss: 0.7530 Acc: 0.8272\n",
      "\n",
      "Epoch 94/99\n",
      "----------\n"
     ]
    },
    {
     "name": "stderr",
     "output_type": "stream",
     "text": [
      "100%|██████████| 72/72 [00:26<00:00,  2.69it/s]\n"
     ]
    },
    {
     "name": "stdout",
     "output_type": "stream",
     "text": [
      "train Loss: 0.1113 Acc: 0.9599\n"
     ]
    },
    {
     "name": "stderr",
     "output_type": "stream",
     "text": [
      "100%|██████████| 16/16 [00:04<00:00,  3.46it/s]\n"
     ]
    },
    {
     "name": "stdout",
     "output_type": "stream",
     "text": [
      "val Loss: 0.9426 Acc: 0.7866\n",
      "\n",
      "Epoch 95/99\n",
      "----------\n"
     ]
    },
    {
     "name": "stderr",
     "output_type": "stream",
     "text": [
      "100%|██████████| 72/72 [00:26<00:00,  2.69it/s]\n"
     ]
    },
    {
     "name": "stdout",
     "output_type": "stream",
     "text": [
      "train Loss: 0.1170 Acc: 0.9590\n"
     ]
    },
    {
     "name": "stderr",
     "output_type": "stream",
     "text": [
      "100%|██████████| 16/16 [00:04<00:00,  3.41it/s]\n"
     ]
    },
    {
     "name": "stdout",
     "output_type": "stream",
     "text": [
      "val Loss: 0.8354 Acc: 0.7988\n",
      "\n",
      "Epoch 96/99\n",
      "----------\n"
     ]
    },
    {
     "name": "stderr",
     "output_type": "stream",
     "text": [
      "100%|██████████| 72/72 [00:27<00:00,  2.66it/s]\n"
     ]
    },
    {
     "name": "stdout",
     "output_type": "stream",
     "text": [
      "train Loss: 0.1033 Acc: 0.9634\n"
     ]
    },
    {
     "name": "stderr",
     "output_type": "stream",
     "text": [
      "100%|██████████| 16/16 [00:04<00:00,  3.40it/s]\n"
     ]
    },
    {
     "name": "stdout",
     "output_type": "stream",
     "text": [
      "val Loss: 0.8042 Acc: 0.7907\n",
      "\n",
      "Epoch 97/99\n",
      "----------\n"
     ]
    },
    {
     "name": "stderr",
     "output_type": "stream",
     "text": [
      "100%|██████████| 72/72 [00:26<00:00,  2.67it/s]\n"
     ]
    },
    {
     "name": "stdout",
     "output_type": "stream",
     "text": [
      "train Loss: 0.1195 Acc: 0.9560\n"
     ]
    },
    {
     "name": "stderr",
     "output_type": "stream",
     "text": [
      "100%|██████████| 16/16 [00:04<00:00,  3.46it/s]\n"
     ]
    },
    {
     "name": "stdout",
     "output_type": "stream",
     "text": [
      "val Loss: 0.8050 Acc: 0.8150\n",
      "\n",
      "Epoch 98/99\n",
      "----------\n"
     ]
    },
    {
     "name": "stderr",
     "output_type": "stream",
     "text": [
      "100%|██████████| 72/72 [00:26<00:00,  2.69it/s]\n"
     ]
    },
    {
     "name": "stdout",
     "output_type": "stream",
     "text": [
      "train Loss: 0.1109 Acc: 0.9586\n"
     ]
    },
    {
     "name": "stderr",
     "output_type": "stream",
     "text": [
      "100%|██████████| 16/16 [00:04<00:00,  3.40it/s]\n"
     ]
    },
    {
     "name": "stdout",
     "output_type": "stream",
     "text": [
      "val Loss: 0.8464 Acc: 0.8069\n",
      "\n",
      "Epoch 99/99\n",
      "----------\n"
     ]
    },
    {
     "name": "stderr",
     "output_type": "stream",
     "text": [
      "100%|██████████| 72/72 [00:26<00:00,  2.68it/s]\n"
     ]
    },
    {
     "name": "stdout",
     "output_type": "stream",
     "text": [
      "train Loss: 0.1301 Acc: 0.9573\n"
     ]
    },
    {
     "name": "stderr",
     "output_type": "stream",
     "text": [
      "100%|██████████| 16/16 [00:04<00:00,  3.48it/s]\n"
     ]
    },
    {
     "name": "stdout",
     "output_type": "stream",
     "text": [
      "val Loss: 0.7879 Acc: 0.8069\n",
      "\n",
      "Best val Acc: 0.8333\n"
     ]
    },
    {
     "name": "stderr",
     "output_type": "stream",
     "text": [
      "100%|██████████| 16/16 [00:04<00:00,  3.46it/s]"
     ]
    },
    {
     "name": "stdout",
     "output_type": "stream",
     "text": [
      "Test Accuracy: 81.01%\n"
     ]
    },
    {
     "name": "stderr",
     "output_type": "stream",
     "text": [
      "\n"
     ]
    }
   ],
   "source": [
    "import torch\n",
    "import torch.nn as nn\n",
    "import torch.optim as optim\n",
    "from torchvision import models, transforms\n",
    "from torch.utils.data import DataLoader\n",
    "from torchvision.datasets import ImageFolder\n",
    "from tqdm import tqdm\n",
    "import os\n",
    "\n",
    "# Set device\n",
    "device = torch.device(\"cuda\" if torch.cuda.is_available() else \"cpu\")\n",
    "\n",
    "# Define data transforms\n",
    "data_transforms = {\n",
    "    'train': transforms.Compose([\n",
    "        transforms.RandomResizedCrop(224),\n",
    "        transforms.RandomHorizontalFlip(),\n",
    "        transforms.ColorJitter(brightness=0.2, contrast=0.2, saturation=0.2),\n",
    "        transforms.ToTensor(),\n",
    "        transforms.Normalize([0.485, 0.456, 0.406], [0.229, 0.224, 0.225])\n",
    "    ]),\n",
    "    'val': transforms.Compose([\n",
    "        transforms.Resize(256),\n",
    "        transforms.CenterCrop(224),\n",
    "        transforms.ToTensor(),\n",
    "        transforms.Normalize([0.485, 0.456, 0.406], [0.229, 0.224, 0.225])\n",
    "    ]),\n",
    "    'test': transforms.Compose([\n",
    "        transforms.Resize(256),\n",
    "        transforms.CenterCrop(224),\n",
    "        transforms.ToTensor(),\n",
    "        transforms.Normalize([0.485, 0.456, 0.406], [0.229, 0.224, 0.225])\n",
    "    ])\n",
    "}\n",
    "\n",
    "# Create datasets\n",
    "def load_datasets(data_dir):\n",
    "    image_datasets = {x: ImageFolder(os.path.join(data_dir, x), data_transforms[x])\n",
    "                     for x in ['train', 'val', 'test']}\n",
    "    \n",
    "    dataloaders = {x: DataLoader(image_datasets[x], batch_size=32,\n",
    "                                shuffle=True if x == 'train' else False,\n",
    "                                num_workers=4)\n",
    "                  for x in ['train', 'val', 'test']}\n",
    "    \n",
    "    dataset_sizes = {x: len(image_datasets[x]) for x in ['train', 'val', 'test']}\n",
    "    class_names = image_datasets['train'].classes\n",
    "    \n",
    "    return dataloaders, dataset_sizes, class_names\n",
    "\n",
    "# Modified ResNet50 for 7 classes\n",
    "def create_model():\n",
    "    model = models.resnet50(pretrained=True)\n",
    "    num_ftrs = model.fc.in_features\n",
    "    model.fc = nn.Linear(num_ftrs, 7)  # 7 classes\n",
    "    return model\n",
    "\n",
    "# Training function\n",
    "def train_model(model, dataloaders, criterion, optimizer, num_epochs=10):\n",
    "    best_model_wts = model.state_dict()\n",
    "    best_acc = 0.0\n",
    "    \n",
    "    for epoch in range(num_epochs):\n",
    "        print(f'Epoch {epoch}/{num_epochs - 1}')\n",
    "        print('-' * 10)\n",
    "        \n",
    "        for phase in ['train', 'val']:\n",
    "            if phase == 'train':\n",
    "                model.train()\n",
    "            else:\n",
    "                model.eval()\n",
    "                \n",
    "            running_loss = 0.0\n",
    "            running_corrects = 0\n",
    "            \n",
    "            for inputs, labels in tqdm(dataloaders[phase]):\n",
    "                inputs = inputs.to(device)\n",
    "                labels = labels.to(device)\n",
    "                \n",
    "                optimizer.zero_grad()\n",
    "                \n",
    "                with torch.set_grad_enabled(phase == 'train'):\n",
    "                    outputs = model(inputs)\n",
    "                    _, preds = torch.max(outputs, 1)\n",
    "                    loss = criterion(outputs, labels)\n",
    "                    \n",
    "                    if phase == 'train':\n",
    "                        loss.backward()\n",
    "                        optimizer.step()\n",
    "                \n",
    "                running_loss += loss.item() * inputs.size(0)\n",
    "                running_corrects += torch.sum(preds == labels.data)\n",
    "            \n",
    "            epoch_loss = running_loss / dataset_sizes[phase]\n",
    "            epoch_acc = running_corrects.double() / dataset_sizes[phase]\n",
    "            \n",
    "            print(f'{phase} Loss: {epoch_loss:.4f} Acc: {epoch_acc:.4f}')\n",
    "            \n",
    "            if phase == 'val' and epoch_acc > best_acc:\n",
    "                best_acc = epoch_acc\n",
    "                best_model_wts = model.state_dict()\n",
    "        \n",
    "        print()\n",
    "    \n",
    "    print(f'Best val Acc: {best_acc:.4f}')\n",
    "    model.load_state_dict(best_model_wts)\n",
    "    return model\n",
    "\n",
    "# Evaluation function\n",
    "def evaluate_model(model, test_loader):\n",
    "    model.eval()\n",
    "    correct = 0\n",
    "    total = 0\n",
    "    \n",
    "    with torch.no_grad():\n",
    "        for inputs, labels in tqdm(test_loader):\n",
    "            inputs = inputs.to(device)\n",
    "            labels = labels.to(device)\n",
    "            \n",
    "            outputs = model(inputs)\n",
    "            _, predicted = torch.max(outputs.data, 1)\n",
    "            \n",
    "            total += labels.size(0)\n",
    "            correct += (predicted == labels).sum().item()\n",
    "    \n",
    "    print(f'Test Accuracy: {100 * correct / total:.2f}%')\n",
    "\n",
    "# Main execution\n",
    "if __name__ == '__main__':\n",
    "    # Set your data directory\n",
    "    data_dir = r'D:\\Engineering\\SEM7\\COMPUTER VISION\\proj_imp\\DATASET\\org_datahistopath_img_data'\n",
    "    \n",
    "    # Load datasets\n",
    "    dataloaders, dataset_sizes, class_names = load_datasets(data_dir)\n",
    "    print(f\"Classes: {class_names}\")\n",
    "    \n",
    "    # Create and move model to device\n",
    "    model = create_model()\n",
    "    model = model.to(device)\n",
    "    \n",
    "    # Define loss function and optimizer\n",
    "    criterion = nn.CrossEntropyLoss()\n",
    "    optimizer = optim.SGD(model.parameters(), lr=0.001, momentum=0.9)\n",
    "    \n",
    "    # Train the model\n",
    "    model = train_model(model, dataloaders, criterion, optimizer, num_epochs=100)\n",
    "    \n",
    "    # Evaluate on test set\n",
    "    evaluate_model(model, dataloaders['test'])\n",
    "    \n",
    "    # Save the model\n",
    "    torch.save(model.state_dict(), 'resnet50_custom_model.pth')"
   ]
  },
  {
   "cell_type": "code",
   "execution_count": 31,
   "metadata": {},
   "outputs": [
    {
     "name": "stderr",
     "output_type": "stream",
     "text": [
      "c:\\Python312\\Lib\\site-packages\\torchvision\\models\\_utils.py:208: UserWarning: The parameter 'pretrained' is deprecated since 0.13 and may be removed in the future, please use 'weights' instead.\n",
      "  warnings.warn(\n",
      "c:\\Python312\\Lib\\site-packages\\torchvision\\models\\_utils.py:223: UserWarning: Arguments other than a weight enum or `None` for 'weights' are deprecated since 0.13 and may be removed in the future. The current behavior is equivalent to passing `weights=ResNet50_Weights.IMAGENET1K_V1`. You can also use `weights=ResNet50_Weights.DEFAULT` to get the most up-to-date weights.\n",
      "  warnings.warn(msg)\n",
      "C:\\Users\\user\\AppData\\Local\\Temp\\ipykernel_2876\\438476542.py:54: FutureWarning: You are using `torch.load` with `weights_only=False` (the current default value), which uses the default pickle module implicitly. It is possible to construct malicious pickle data which will execute arbitrary code during unpickling (See https://github.com/pytorch/pytorch/blob/main/SECURITY.md#untrusted-models for more details). In a future release, the default value for `weights_only` will be flipped to `True`. This limits the functions that could be executed during unpickling. Arbitrary objects will no longer be allowed to be loaded via this mode unless they are explicitly allowlisted by the user via `torch.serialization.add_safe_globals`. We recommend you start setting `weights_only=True` for any use case where you don't have full control of the loaded file. Please open an issue on GitHub for any issues related to this experimental feature.\n",
      "  model.load_state_dict(torch.load(model_path))\n",
      "100%|██████████| 16/16 [00:05<00:00,  2.92it/s]\n"
     ]
    },
    {
     "data": {
      "image/png": "[encoded data removed]",
      "text/plain": [
       "<Figure size 800x600 with 2 Axes>"
      ]
     },
     "metadata": {},
     "output_type": "display_data"
    },
    {
     "name": "stdout",
     "output_type": "stream",
     "text": [
      "Classification Report:\n",
      "EA: Precision: 0.95, Recall: 0.94, F1-Score: 0.94, Support: 80.0\n",
      "EH_Complex: Precision: 0.85, Recall: 0.79, F1-Score: 0.82, Support: 43.0\n",
      "EH_Simple: Precision: 0.86, Recall: 0.78, F1-Score: 0.82, Support: 78.0\n",
      "EP: Precision: 0.67, Recall: 0.68, F1-Score: 0.67, Support: 96.0\n",
      "NE_Follicular: Precision: 0.75, Recall: 0.78, F1-Score: 0.76, Support: 107.0\n",
      "NE_Luteal: Precision: 0.86, Recall: 0.92, F1-Score: 0.89, Support: 91.0\n",
      "accuracy: 0.81\n",
      "macro avg: Precision: 0.82, Recall: 0.81, F1-Score: 0.82, Support: 495.0\n",
      "weighted avg: Precision: 0.81, Recall: 0.81, F1-Score: 0.81, Support: 495.0\n",
      "               precision    recall  f1-score     support\n",
      "EA              0.949367  0.937500  0.943396   80.000000\n",
      "EH_Complex      0.850000  0.790698  0.819277   43.000000\n",
      "EH_Simple       0.859155  0.782051  0.818792   78.000000\n",
      "EP              0.670103  0.677083  0.673575   96.000000\n",
      "NE_Follicular   0.754545  0.775701  0.764977  107.000000\n",
      "NE_Luteal       0.857143  0.923077  0.888889   91.000000\n",
      "accuracy        0.812121  0.812121  0.812121    0.812121\n",
      "macro avg       0.823386  0.814352  0.818151  495.000000\n",
      "weighted avg    0.813292  0.812121  0.812063  495.000000\n"
     ]
    }
   ],
   "source": [
    "import torch\n",
    "import numpy as np\n",
    "import matplotlib.pyplot as plt\n",
    "import seaborn as sns\n",
    "from sklearn.metrics import confusion_matrix, classification_report\n",
    "from tqdm import tqdm\n",
    "import torch\n",
    "import torch.nn as nn\n",
    "import torch.optim as optim\n",
    "from torchvision import models, transforms\n",
    "from torch.utils.data import DataLoader\n",
    "from torchvision.datasets import ImageFolder\n",
    "from tqdm import tqdm\n",
    "import os\n",
    "import pandas as pd\n",
    "\n",
    "torch.cuda.empty_cache()\n",
    "\n",
    "device = torch.device(\"cuda\" if torch.cuda.is_available() else \"cpu\")\n",
    "\n",
    "# Define data transforms\n",
    "data_transforms = {\n",
    "    'train': transforms.Compose([\n",
    "        transforms.RandomResizedCrop(224),\n",
    "        transforms.RandomHorizontalFlip(),\n",
    "        transforms.ColorJitter(brightness=0.2, contrast=0.2, saturation=0.2),\n",
    "        transforms.ToTensor(),\n",
    "        transforms.Normalize([0.485, 0.456, 0.406], [0.229, 0.224, 0.225])\n",
    "    ]),\n",
    "    'val': transforms.Compose([\n",
    "        transforms.Resize(256),\n",
    "        transforms.CenterCrop(224),\n",
    "        transforms.ToTensor(),\n",
    "        transforms.Normalize([0.485, 0.456, 0.406], [0.229, 0.224, 0.225])\n",
    "    ]),\n",
    "    'test': transforms.Compose([\n",
    "        transforms.Resize(256),\n",
    "        transforms.CenterCrop(224),\n",
    "        transforms.ToTensor(),\n",
    "        transforms.Normalize([0.485, 0.456, 0.406], [0.229, 0.224, 0.225])\n",
    "    ])\n",
    "}\n",
    "\n",
    "def create_model():\n",
    "    model = models.resnet50(pretrained=True)\n",
    "    num_ftrs = model.fc.in_features\n",
    "    model.fc = nn.Linear(num_ftrs, 7)  # 7 classes\n",
    "    return model\n",
    "\n",
    "\n",
    "\n",
    "# Load the model\n",
    "def load_model(model, model_path):\n",
    "    model.load_state_dict(torch.load(model_path))\n",
    "    model.eval()  # Set the model to evaluation mode\n",
    "    return model\n",
    "\n",
    "# Evaluate function with confusion matrix\n",
    "def evaluate_model_and_confusion_matrix(model, dataloaders, class_names):\n",
    "    all_preds = []\n",
    "    all_labels = []\n",
    "    \n",
    "    with torch.no_grad():\n",
    "        for inputs, labels in tqdm(dataloaders['test']):\n",
    "            inputs = inputs.to(device)\n",
    "            labels = labels.to(device)\n",
    "            \n",
    "            outputs = model(inputs)\n",
    "            _, predicted = torch.max(outputs.data, 1)\n",
    "            \n",
    "            all_preds.extend(predicted.cpu().numpy())\n",
    "            all_labels.extend(labels.cpu().numpy())\n",
    "    \n",
    "    # Convert to numpy arrays\n",
    "    all_preds = np.array(all_preds)\n",
    "    all_labels = np.array(all_labels)\n",
    "\n",
    "    # Calculate confusion matrix\n",
    "    conf_matrix = confusion_matrix(all_labels, all_preds)\n",
    "    return conf_matrix\n",
    "\n",
    "\n",
    "def load_datasets(data_dir):\n",
    "    image_datasets = {x: ImageFolder(os.path.join(data_dir, x), data_transforms[x])\n",
    "                     for x in ['train', 'val', 'test']}\n",
    "    \n",
    "    dataloaders = {x: DataLoader(image_datasets[x], batch_size=32,\n",
    "                                shuffle=True if x == 'train' else False,\n",
    "                                num_workers=4)\n",
    "                  for x in ['train', 'val', 'test']}\n",
    "    \n",
    "    dataset_sizes = {x: len(image_datasets[x]) for x in ['train', 'val', 'test']}\n",
    "    class_names = image_datasets['train'].classes\n",
    "    \n",
    "    return dataloaders, dataset_sizes, class_names\n",
    "\n",
    "# Function to plot confusion matrix\n",
    "# Function to plot confusion matrix with the last row and column removed\n",
    "def plot_confusion_matrix(conf_matrix, class_names):\n",
    "    # Remove the last row and column\n",
    "    trimmed_conf_matrix = conf_matrix[:-1, :-1]\n",
    "    \n",
    "    \n",
    "    plt.figure(figsize=(8,6))\n",
    "    sns.heatmap(trimmed_conf_matrix, annot=True, fmt='d', cmap='Blues', \n",
    "                xticklabels=class_names, yticklabels=class_names)\n",
    "    plt.xlabel(\"Predicted Labels\")\n",
    "    plt.ylabel(\"True Labels\")\n",
    "    plt.title(\"Confusion Matrix (Trimmed)\")\n",
    "    plt.show()\n",
    "\n",
    "\n",
    "def calculate_metrics(all_labels, all_preds, class_names):\n",
    "    # Generate a classification report\n",
    "    report = classification_report(all_labels, all_preds, target_names=class_names, digits=2, output_dict=True)\n",
    "\n",
    "    # Print the classification report\n",
    "    print(\"Classification Report:\")\n",
    "    for label, metrics in report.items():\n",
    "        if isinstance(metrics, dict):\n",
    "            print(f\"{label}: Precision: {metrics['precision']:.2f}, Recall: {metrics['recall']:.2f}, F1-Score: {metrics['f1-score']:.2f}, Support: {metrics['support']}\")\n",
    "        else:\n",
    "            print(f\"{label}: {metrics:.2f}\")\n",
    "\n",
    "    # Convert the report to a DataFrame for easier visualization\n",
    "    metrics_df = pd.DataFrame(report).transpose()\n",
    "\n",
    "    return metrics_df\n",
    "\n",
    "\n",
    "\n",
    "# Main execution\n",
    "if __name__ == '__main__':\n",
    "    # Set your data directory and model path\n",
    "    data_dir = r'D:\\Engineering\\SEM7\\COMPUTER VISION\\proj_imp\\DATASET\\org_datahistopath_img_data'\n",
    "    model_path = r'D:\\Engineering\\SEM7\\COMPUTER VISION\\proj_imp\\resnet50_custom_model.pth'\n",
    "    \n",
    "    # Load datasets\n",
    "    dataloaders, dataset_sizes, class_names = load_datasets(data_dir)\n",
    "    \n",
    "    # Create and move model to device\n",
    "    model = create_model()\n",
    "    model = model.to(device)\n",
    "    \n",
    "    # Load the saved model\n",
    "    model = load_model(model, model_path)\n",
    "    \n",
    "    # Evaluate the model and get the confusion matrix\n",
    "    conf_matrix = evaluate_model_and_confusion_matrix(model, dataloaders, class_names)\n",
    "    \n",
    "    # Plot the confusion matrix\n",
    "    plot_confusion_matrix(conf_matrix, class_names)\n",
    "    metrics_df = calculate_metrics(all_labels, all_preds, class_names)\n",
    "    print(metrics_df)"
   ]
  },
  {
   "cell_type": "markdown",
   "metadata": {},
   "source": [
    "# RegNet"
   ]
  },
  {
   "cell_type": "code",
   "execution_count": 3,
   "metadata": {},
   "outputs": [
    {
     "name": "stdout",
     "output_type": "stream",
     "text": [
      "Using device: cuda\n",
      "Epoch [1/10], Loss: 1.2840, Accuracy: 52.51%\n",
      "Validation Loss: 0.8546, Validation Accuracy: 71.11%\n",
      "\n",
      "Epoch [2/10], Loss: 0.6187, Accuracy: 79.72%\n",
      "Validation Loss: 0.6421, Validation Accuracy: 76.77%\n",
      "\n",
      "Epoch [3/10], Loss: 0.3070, Accuracy: 90.64%\n",
      "Validation Loss: 0.5805, Validation Accuracy: 77.37%\n",
      "\n",
      "Epoch [4/10], Loss: 0.1410, Accuracy: 97.01%\n",
      "Validation Loss: 0.6074, Validation Accuracy: 75.96%\n",
      "\n",
      "Epoch [5/10], Loss: 0.0740, Accuracy: 98.48%\n",
      "Validation Loss: 0.5934, Validation Accuracy: 78.79%\n",
      "\n",
      "Epoch [6/10], Loss: 0.0529, Accuracy: 99.18%\n",
      "Validation Loss: 0.6654, Validation Accuracy: 75.76%\n",
      "\n",
      "Epoch [7/10], Loss: 0.0713, Accuracy: 98.22%\n",
      "Validation Loss: 0.6969, Validation Accuracy: 73.13%\n",
      "\n",
      "Epoch [8/10], Loss: 0.0565, Accuracy: 98.96%\n",
      "Validation Loss: 0.6576, Validation Accuracy: 79.19%\n",
      "\n",
      "Epoch [9/10], Loss: 0.0487, Accuracy: 98.61%\n",
      "Validation Loss: 0.7109, Validation Accuracy: 75.76%\n",
      "\n",
      "Epoch [10/10], Loss: 0.0332, Accuracy: 99.18%\n",
      "Validation Loss: 0.7930, Validation Accuracy: 76.36%\n",
      "\n"
     ]
    }
   ],
   "source": [
    "import torch\n",
    "import torch.nn as nn\n",
    "import timm\n",
    "from torch.utils.data import DataLoader\n",
    "from torchvision import datasets, transforms\n",
    "import os\n",
    "\n",
    "# Set device to GPU if available\n",
    "device = torch.device(\"cuda\" if torch.cuda.is_available() else \"cpu\")\n",
    "print(f\"Using device: {device}\")\n",
    "\n",
    "# Dataset path (update this with your actual dataset path)\n",
    "data_dir = r'D:\\Engineering\\SEM7\\COMPUTER VISION\\proj_imp\\DATASET\\org_datahistopath_img_data'  # Replace with your dataset path\n",
    "batch_size = 32\n",
    "img_size = 224  # You can adjust this if needed\n",
    "\n",
    "# Define image transformations\n",
    "transform = transforms.Compose([\n",
    "    transforms.Resize((img_size, img_size)),\n",
    "    transforms.ToTensor(),\n",
    "    transforms.Normalize(mean=[0.485, 0.456, 0.406], std=[0.229, 0.224, 0.225])\n",
    "])\n",
    "\n",
    "# Load dataset\n",
    "train_data = datasets.ImageFolder(root=os.path.join(data_dir, 'train'), transform=transform)\n",
    "val_data = datasets.ImageFolder(root=os.path.join(data_dir, 'val'), transform=transform)\n",
    "\n",
    "train_loader = DataLoader(train_data, batch_size=batch_size, shuffle=True, num_workers=4)\n",
    "val_loader = DataLoader(val_data, batch_size=batch_size, shuffle=False, num_workers=4)\n",
    "\n",
    "# Load pre-trained RegNet model and modify for our dataset\n",
    "# Load pre-trained RegNet model and modify for our dataset\n",
    "model = timm.create_model('regnetx_032', pretrained=True)  # Example with RegNetX-3.2GF\n",
    "model.head.fc = nn.Linear(model.head.fc.in_features, len(train_data.classes))  # Adjust to number of classes\n",
    "model = model.to(device)\n",
    "\n",
    "\n",
    "# Define loss function and optimizer\n",
    "criterion = nn.CrossEntropyLoss()\n",
    "optimizer = torch.optim.AdamW(model.parameters(), lr=1e-4)\n",
    "\n",
    "# Training loop\n",
    "def train_model(model, train_loader, val_loader, criterion, optimizer, num_epochs=10):\n",
    "    for epoch in range(num_epochs):\n",
    "        # Training phase\n",
    "        model.train()\n",
    "        running_loss = 0.0\n",
    "        correct = 0\n",
    "        total = 0\n",
    "\n",
    "        for images, labels in train_loader:\n",
    "            images, labels = images.to(device), labels.to(device)\n",
    "\n",
    "            optimizer.zero_grad()\n",
    "            outputs = model(images)\n",
    "            loss = criterion(outputs, labels)\n",
    "            loss.backward()\n",
    "            optimizer.step()\n",
    "\n",
    "            running_loss += loss.item() * images.size(0)\n",
    "            _, predicted = torch.max(outputs, 1)\n",
    "            total += labels.size(0)\n",
    "            correct += (predicted == labels).sum().item()\n",
    "\n",
    "        epoch_loss = running_loss / len(train_loader.dataset)\n",
    "        epoch_acc = 100 * correct / total\n",
    "        print(f\"Epoch [{epoch+1}/{num_epochs}], Loss: {epoch_loss:.4f}, Accuracy: {epoch_acc:.2f}%\")\n",
    "\n",
    "        # Validation phase\n",
    "        model.eval()\n",
    "        val_loss = 0.0\n",
    "        correct = 0\n",
    "        total = 0\n",
    "\n",
    "        with torch.no_grad():\n",
    "            for images, labels in val_loader:\n",
    "                images, labels = images.to(device), labels.to(device)\n",
    "\n",
    "                outputs = model(images)\n",
    "                loss = criterion(outputs, labels)\n",
    "\n",
    "                val_loss += loss.item() * images.size(0)\n",
    "                _, predicted = torch.max(outputs, 1)\n",
    "                total += labels.size(0)\n",
    "                correct += (predicted == labels).sum().item()\n",
    "\n",
    "        val_loss /= len(val_loader.dataset)\n",
    "        val_acc = 100 * correct / total\n",
    "        print(f\"Validation Loss: {val_loss:.4f}, Validation Accuracy: {val_acc:.2f}%\\n\")\n",
    "\n",
    "# Run training\n",
    "train_model(model, train_loader, val_loader, criterion, optimizer, num_epochs=10)\n",
    "\n",
    "# Save the trained model\n",
    "torch.save(model.state_dict(), 'regnet_model.pth')\n"
   ]
  },
  {
   "cell_type": "code",
   "execution_count": 1,
   "metadata": {},
   "outputs": [
    {
     "data": {
      "image/png": "[encoded data removed]",
      "text/plain": [
       "<Figure size 640x480 with 1 Axes>"
      ]
     },
     "metadata": {},
     "output_type": "display_data"
    }
   ],
   "source": [
    "from PIL import Image\n",
    "import torchvision.transforms as transforms\n",
    "import matplotlib.pyplot as plt\n",
    "\n",
    "# Load the image (replace 'path_to_your_image' with your actual file path)\n",
    "image = Image.open(r\"D:\\Engineering\\SEM7\\COMPUTER VISION\\proj_imp\\DATASET\\org_datahistopath_img_data\\train\\EA\\1509806.JPG\")\n",
    "# Define the preprocessing steps\n",
    "preprocess = transforms.Compose([\n",
    "    transforms.Resize((224, 224)),  # Resize to 224x224\n",
    "    transforms.ToTensor(),          # Convert to PyTorch tensor\n",
    "    transforms.Normalize(mean=[0.485, 0.456, 0.406], std=[0.229, 0.224, 0.225])  # Normalize using ImageNet stats\n",
    "])\n",
    "\n",
    "# Apply the preprocessing\n",
    "image_tensor = preprocess(image)\n",
    "\n",
    "# Convert tensor back to PIL image after unnormalizing for viewing\n",
    "unnormalize = transforms.Normalize(\n",
    "    mean=[-0.485 / 0.229, -0.456 / 0.224, -0.406 / 0.225],\n",
    "    std=[1 / 0.229, 1 / 0.224, 1 / 0.225]\n",
    ")\n",
    "\n",
    "image_display = transforms.ToPILImage()(unnormalize(image_tensor).clamp(0, 1))\n",
    "\n",
    "# Display the processed image\n",
    "plt.imshow(image_display)\n",
    "plt.title(\"Preprocessed Image (224x224, Normalized)\")\n",
    "plt.axis(\"off\")\n",
    "plt.show()"
   ]
  },
  {
   "cell_type": "markdown",
   "metadata": {},
   "source": [
    "# RegNet"
   ]
  },
  {
   "cell_type": "code",
   "execution_count": 1,
   "metadata": {},
   "outputs": [
    {
     "name": "stdout",
     "output_type": "stream",
     "text": [
      "Epoch 0/99\n",
      "----------\n"
     ]
    },
    {
     "name": "stderr",
     "output_type": "stream",
     "text": [
      "100%|██████████| 72/72 [09:15<00:00,  7.72s/it]\n"
     ]
    },
    {
     "name": "stdout",
     "output_type": "stream",
     "text": [
      "train Loss: 1.3024 Acc: 0.4826\n"
     ]
    },
    {
     "name": "stderr",
     "output_type": "stream",
     "text": [
      "100%|██████████| 16/16 [00:38<00:00,  2.40s/it]\n"
     ]
    },
    {
     "name": "stdout",
     "output_type": "stream",
     "text": [
      "val Loss: 1.0979 Acc: 0.5935\n",
      "Epoch 1/99\n",
      "----------\n"
     ]
    },
    {
     "name": "stderr",
     "output_type": "stream",
     "text": [
      "100%|██████████| 72/72 [09:15<00:00,  7.72s/it]\n"
     ]
    },
    {
     "name": "stdout",
     "output_type": "stream",
     "text": [
      "train Loss: 1.0989 Acc: 0.5867\n"
     ]
    },
    {
     "name": "stderr",
     "output_type": "stream",
     "text": [
      "100%|██████████| 16/16 [00:36<00:00,  2.26s/it]\n"
     ]
    },
    {
     "name": "stdout",
     "output_type": "stream",
     "text": [
      "val Loss: 1.7079 Acc: 0.5346\n",
      "Epoch 2/99\n",
      "----------\n"
     ]
    },
    {
     "name": "stderr",
     "output_type": "stream",
     "text": [
      "100%|██████████| 72/72 [09:16<00:00,  7.73s/it]\n"
     ]
    },
    {
     "name": "stdout",
     "output_type": "stream",
     "text": [
      "train Loss: 1.0171 Acc: 0.6068\n"
     ]
    },
    {
     "name": "stderr",
     "output_type": "stream",
     "text": [
      "100%|██████████| 16/16 [00:36<00:00,  2.28s/it]\n"
     ]
    },
    {
     "name": "stdout",
     "output_type": "stream",
     "text": [
      "val Loss: 1.2635 Acc: 0.6199\n",
      "Epoch 3/99\n",
      "----------\n"
     ]
    },
    {
     "name": "stderr",
     "output_type": "stream",
     "text": [
      "100%|██████████| 72/72 [09:15<00:00,  7.71s/it]\n"
     ]
    },
    {
     "name": "stdout",
     "output_type": "stream",
     "text": [
      "train Loss: 0.9951 Acc: 0.6186\n"
     ]
    },
    {
     "name": "stderr",
     "output_type": "stream",
     "text": [
      "100%|██████████| 16/16 [00:36<00:00,  2.27s/it]\n"
     ]
    },
    {
     "name": "stdout",
     "output_type": "stream",
     "text": [
      "val Loss: 0.8692 Acc: 0.6545\n",
      "Epoch 4/99\n",
      "----------\n"
     ]
    },
    {
     "name": "stderr",
     "output_type": "stream",
     "text": [
      "100%|██████████| 72/72 [09:15<00:00,  7.72s/it]\n"
     ]
    },
    {
     "name": "stdout",
     "output_type": "stream",
     "text": [
      "train Loss: 0.9735 Acc: 0.6203\n"
     ]
    },
    {
     "name": "stderr",
     "output_type": "stream",
     "text": [
      "100%|██████████| 16/16 [00:36<00:00,  2.28s/it]\n"
     ]
    },
    {
     "name": "stdout",
     "output_type": "stream",
     "text": [
      "val Loss: 0.9288 Acc: 0.6504\n",
      "Epoch 5/99\n",
      "----------\n"
     ]
    },
    {
     "name": "stderr",
     "output_type": "stream",
     "text": [
      "100%|██████████| 72/72 [09:15<00:00,  7.71s/it]\n"
     ]
    },
    {
     "name": "stdout",
     "output_type": "stream",
     "text": [
      "train Loss: 0.8847 Acc: 0.6578\n"
     ]
    },
    {
     "name": "stderr",
     "output_type": "stream",
     "text": [
      "100%|██████████| 16/16 [00:36<00:00,  2.27s/it]\n"
     ]
    },
    {
     "name": "stdout",
     "output_type": "stream",
     "text": [
      "val Loss: 0.8088 Acc: 0.6504\n",
      "Epoch 6/99\n",
      "----------\n"
     ]
    },
    {
     "name": "stderr",
     "output_type": "stream",
     "text": [
      "100%|██████████| 72/72 [09:16<00:00,  7.73s/it]\n"
     ]
    },
    {
     "name": "stdout",
     "output_type": "stream",
     "text": [
      "train Loss: 0.8448 Acc: 0.6661\n"
     ]
    },
    {
     "name": "stderr",
     "output_type": "stream",
     "text": [
      "100%|██████████| 16/16 [00:36<00:00,  2.26s/it]\n"
     ]
    },
    {
     "name": "stdout",
     "output_type": "stream",
     "text": [
      "val Loss: 0.8873 Acc: 0.6606\n",
      "Epoch 7/99\n",
      "----------\n"
     ]
    },
    {
     "name": "stderr",
     "output_type": "stream",
     "text": [
      "100%|██████████| 72/72 [09:05<00:00,  7.58s/it]\n"
     ]
    },
    {
     "name": "stdout",
     "output_type": "stream",
     "text": [
      "train Loss: 0.8197 Acc: 0.6783\n"
     ]
    },
    {
     "name": "stderr",
     "output_type": "stream",
     "text": [
      "100%|██████████| 16/16 [00:35<00:00,  2.25s/it]\n"
     ]
    },
    {
     "name": "stdout",
     "output_type": "stream",
     "text": [
      "val Loss: 0.8529 Acc: 0.7114\n",
      "Epoch 8/99\n",
      "----------\n"
     ]
    },
    {
     "name": "stderr",
     "output_type": "stream",
     "text": [
      "100%|██████████| 72/72 [09:06<00:00,  7.59s/it]\n"
     ]
    },
    {
     "name": "stdout",
     "output_type": "stream",
     "text": [
      "train Loss: 0.8250 Acc: 0.6918\n"
     ]
    },
    {
     "name": "stderr",
     "output_type": "stream",
     "text": [
      "100%|██████████| 16/16 [00:35<00:00,  2.24s/it]\n"
     ]
    },
    {
     "name": "stdout",
     "output_type": "stream",
     "text": [
      "val Loss: 0.9604 Acc: 0.6626\n",
      "Epoch 9/99\n",
      "----------\n"
     ]
    },
    {
     "name": "stderr",
     "output_type": "stream",
     "text": [
      "100%|██████████| 72/72 [09:06<00:00,  7.58s/it]\n"
     ]
    },
    {
     "name": "stdout",
     "output_type": "stream",
     "text": [
      "train Loss: 0.7987 Acc: 0.6953\n"
     ]
    },
    {
     "name": "stderr",
     "output_type": "stream",
     "text": [
      "100%|██████████| 16/16 [00:35<00:00,  2.24s/it]\n"
     ]
    },
    {
     "name": "stdout",
     "output_type": "stream",
     "text": [
      "val Loss: 0.7715 Acc: 0.6992\n",
      "Epoch 10/99\n",
      "----------\n"
     ]
    },
    {
     "name": "stderr",
     "output_type": "stream",
     "text": [
      "100%|██████████| 72/72 [09:08<00:00,  7.61s/it]\n"
     ]
    },
    {
     "name": "stdout",
     "output_type": "stream",
     "text": [
      "train Loss: 0.7902 Acc: 0.7014\n"
     ]
    },
    {
     "name": "stderr",
     "output_type": "stream",
     "text": [
      "100%|██████████| 16/16 [00:35<00:00,  2.25s/it]\n"
     ]
    },
    {
     "name": "stdout",
     "output_type": "stream",
     "text": [
      "val Loss: 0.7984 Acc: 0.7114\n",
      "Epoch 11/99\n",
      "----------\n"
     ]
    },
    {
     "name": "stderr",
     "output_type": "stream",
     "text": [
      "100%|██████████| 72/72 [09:07<00:00,  7.60s/it]\n"
     ]
    },
    {
     "name": "stdout",
     "output_type": "stream",
     "text": [
      "train Loss: 0.7512 Acc: 0.7097\n"
     ]
    },
    {
     "name": "stderr",
     "output_type": "stream",
     "text": [
      "100%|██████████| 16/16 [00:35<00:00,  2.24s/it]\n"
     ]
    },
    {
     "name": "stdout",
     "output_type": "stream",
     "text": [
      "val Loss: 0.7288 Acc: 0.7114\n",
      "Epoch 12/99\n",
      "----------\n"
     ]
    },
    {
     "name": "stderr",
     "output_type": "stream",
     "text": [
      "100%|██████████| 72/72 [09:07<00:00,  7.61s/it]\n"
     ]
    },
    {
     "name": "stdout",
     "output_type": "stream",
     "text": [
      "train Loss: 0.7389 Acc: 0.7075\n"
     ]
    },
    {
     "name": "stderr",
     "output_type": "stream",
     "text": [
      "100%|██████████| 16/16 [00:36<00:00,  2.26s/it]\n"
     ]
    },
    {
     "name": "stdout",
     "output_type": "stream",
     "text": [
      "val Loss: 0.8163 Acc: 0.6890\n",
      "Epoch 13/99\n",
      "----------\n"
     ]
    },
    {
     "name": "stderr",
     "output_type": "stream",
     "text": [
      "100%|██████████| 72/72 [09:09<00:00,  7.63s/it]\n"
     ]
    },
    {
     "name": "stdout",
     "output_type": "stream",
     "text": [
      "train Loss: 0.7273 Acc: 0.7075\n"
     ]
    },
    {
     "name": "stderr",
     "output_type": "stream",
     "text": [
      "100%|██████████| 16/16 [00:35<00:00,  2.23s/it]\n"
     ]
    },
    {
     "name": "stdout",
     "output_type": "stream",
     "text": [
      "val Loss: 0.7275 Acc: 0.7256\n",
      "Epoch 14/99\n",
      "----------\n"
     ]
    },
    {
     "name": "stderr",
     "output_type": "stream",
     "text": [
      "100%|██████████| 72/72 [09:05<00:00,  7.58s/it]\n"
     ]
    },
    {
     "name": "stdout",
     "output_type": "stream",
     "text": [
      "train Loss: 0.6918 Acc: 0.7280\n"
     ]
    },
    {
     "name": "stderr",
     "output_type": "stream",
     "text": [
      "100%|██████████| 16/16 [00:36<00:00,  2.25s/it]\n"
     ]
    },
    {
     "name": "stdout",
     "output_type": "stream",
     "text": [
      "val Loss: 0.9117 Acc: 0.7053\n",
      "Epoch 15/99\n",
      "----------\n"
     ]
    },
    {
     "name": "stderr",
     "output_type": "stream",
     "text": [
      "100%|██████████| 72/72 [09:07<00:00,  7.60s/it]\n"
     ]
    },
    {
     "name": "stdout",
     "output_type": "stream",
     "text": [
      "train Loss: 0.7055 Acc: 0.7289\n"
     ]
    },
    {
     "name": "stderr",
     "output_type": "stream",
     "text": [
      "100%|██████████| 16/16 [00:35<00:00,  2.24s/it]\n"
     ]
    },
    {
     "name": "stdout",
     "output_type": "stream",
     "text": [
      "val Loss: 0.7741 Acc: 0.7276\n",
      "Epoch 16/99\n",
      "----------\n"
     ]
    },
    {
     "name": "stderr",
     "output_type": "stream",
     "text": [
      "100%|██████████| 72/72 [09:11<00:00,  7.65s/it]\n"
     ]
    },
    {
     "name": "stdout",
     "output_type": "stream",
     "text": [
      "train Loss: 0.6785 Acc: 0.7402\n"
     ]
    },
    {
     "name": "stderr",
     "output_type": "stream",
     "text": [
      "100%|██████████| 16/16 [00:35<00:00,  2.23s/it]\n"
     ]
    },
    {
     "name": "stdout",
     "output_type": "stream",
     "text": [
      "val Loss: 0.6622 Acc: 0.7541\n",
      "Epoch 17/99\n",
      "----------\n"
     ]
    },
    {
     "name": "stderr",
     "output_type": "stream",
     "text": [
      "100%|██████████| 72/72 [09:07<00:00,  7.61s/it]\n"
     ]
    },
    {
     "name": "stdout",
     "output_type": "stream",
     "text": [
      "train Loss: 0.6558 Acc: 0.7572\n"
     ]
    },
    {
     "name": "stderr",
     "output_type": "stream",
     "text": [
      "100%|██████████| 16/16 [00:35<00:00,  2.23s/it]\n"
     ]
    },
    {
     "name": "stdout",
     "output_type": "stream",
     "text": [
      "val Loss: 0.6265 Acc: 0.7561\n",
      "Epoch 18/99\n",
      "----------\n"
     ]
    },
    {
     "name": "stderr",
     "output_type": "stream",
     "text": [
      "100%|██████████| 72/72 [09:08<00:00,  7.62s/it]\n"
     ]
    },
    {
     "name": "stdout",
     "output_type": "stream",
     "text": [
      "train Loss: 0.6594 Acc: 0.7533\n"
     ]
    },
    {
     "name": "stderr",
     "output_type": "stream",
     "text": [
      "100%|██████████| 16/16 [00:35<00:00,  2.24s/it]\n"
     ]
    },
    {
     "name": "stdout",
     "output_type": "stream",
     "text": [
      "val Loss: 0.6104 Acc: 0.7561\n",
      "Epoch 19/99\n",
      "----------\n"
     ]
    },
    {
     "name": "stderr",
     "output_type": "stream",
     "text": [
      "100%|██████████| 72/72 [09:13<00:00,  7.68s/it]\n"
     ]
    },
    {
     "name": "stdout",
     "output_type": "stream",
     "text": [
      "train Loss: 0.6372 Acc: 0.7559\n"
     ]
    },
    {
     "name": "stderr",
     "output_type": "stream",
     "text": [
      "100%|██████████| 16/16 [00:36<00:00,  2.27s/it]\n"
     ]
    },
    {
     "name": "stdout",
     "output_type": "stream",
     "text": [
      "val Loss: 0.6858 Acc: 0.7459\n",
      "Epoch 20/99\n",
      "----------\n"
     ]
    },
    {
     "name": "stderr",
     "output_type": "stream",
     "text": [
      "100%|██████████| 72/72 [09:15<00:00,  7.71s/it]\n"
     ]
    },
    {
     "name": "stdout",
     "output_type": "stream",
     "text": [
      "train Loss: 0.6166 Acc: 0.7524\n"
     ]
    },
    {
     "name": "stderr",
     "output_type": "stream",
     "text": [
      "100%|██████████| 16/16 [00:36<00:00,  2.26s/it]\n"
     ]
    },
    {
     "name": "stdout",
     "output_type": "stream",
     "text": [
      "val Loss: 0.7426 Acc: 0.7419\n",
      "Epoch 21/99\n",
      "----------\n"
     ]
    },
    {
     "name": "stderr",
     "output_type": "stream",
     "text": [
      "100%|██████████| 72/72 [09:14<00:00,  7.70s/it]\n"
     ]
    },
    {
     "name": "stdout",
     "output_type": "stream",
     "text": [
      "train Loss: 0.6161 Acc: 0.7716\n"
     ]
    },
    {
     "name": "stderr",
     "output_type": "stream",
     "text": [
      "100%|██████████| 16/16 [00:36<00:00,  2.27s/it]\n"
     ]
    },
    {
     "name": "stdout",
     "output_type": "stream",
     "text": [
      "val Loss: 0.6982 Acc: 0.7317\n",
      "Epoch 22/99\n",
      "----------\n"
     ]
    },
    {
     "name": "stderr",
     "output_type": "stream",
     "text": [
      "100%|██████████| 72/72 [09:13<00:00,  7.69s/it]\n"
     ]
    },
    {
     "name": "stdout",
     "output_type": "stream",
     "text": [
      "train Loss: 0.6029 Acc: 0.7642\n"
     ]
    },
    {
     "name": "stderr",
     "output_type": "stream",
     "text": [
      "100%|██████████| 16/16 [00:36<00:00,  2.26s/it]\n"
     ]
    },
    {
     "name": "stdout",
     "output_type": "stream",
     "text": [
      "val Loss: 0.7116 Acc: 0.7622\n",
      "Epoch 23/99\n",
      "----------\n"
     ]
    },
    {
     "name": "stderr",
     "output_type": "stream",
     "text": [
      "100%|██████████| 72/72 [09:07<00:00,  7.60s/it]\n"
     ]
    },
    {
     "name": "stdout",
     "output_type": "stream",
     "text": [
      "train Loss: 0.5596 Acc: 0.7759\n"
     ]
    },
    {
     "name": "stderr",
     "output_type": "stream",
     "text": [
      "100%|██████████| 16/16 [00:35<00:00,  2.24s/it]\n"
     ]
    },
    {
     "name": "stdout",
     "output_type": "stream",
     "text": [
      "val Loss: 0.6051 Acc: 0.7541\n",
      "Epoch 24/99\n",
      "----------\n"
     ]
    },
    {
     "name": "stderr",
     "output_type": "stream",
     "text": [
      "100%|██████████| 72/72 [09:10<00:00,  7.65s/it]\n"
     ]
    },
    {
     "name": "stdout",
     "output_type": "stream",
     "text": [
      "train Loss: 0.5585 Acc: 0.7694\n"
     ]
    },
    {
     "name": "stderr",
     "output_type": "stream",
     "text": [
      "100%|██████████| 16/16 [00:37<00:00,  2.34s/it]\n"
     ]
    },
    {
     "name": "stdout",
     "output_type": "stream",
     "text": [
      "val Loss: 0.6086 Acc: 0.7744\n",
      "Epoch 25/99\n",
      "----------\n"
     ]
    },
    {
     "name": "stderr",
     "output_type": "stream",
     "text": [
      "100%|██████████| 72/72 [09:12<00:00,  7.67s/it]\n"
     ]
    },
    {
     "name": "stdout",
     "output_type": "stream",
     "text": [
      "train Loss: 0.5382 Acc: 0.7899\n"
     ]
    },
    {
     "name": "stderr",
     "output_type": "stream",
     "text": [
      "100%|██████████| 16/16 [00:35<00:00,  2.24s/it]\n"
     ]
    },
    {
     "name": "stdout",
     "output_type": "stream",
     "text": [
      "val Loss: 0.8107 Acc: 0.7276\n",
      "Epoch 26/99\n",
      "----------\n"
     ]
    },
    {
     "name": "stderr",
     "output_type": "stream",
     "text": [
      "100%|██████████| 72/72 [09:08<00:00,  7.62s/it]\n"
     ]
    },
    {
     "name": "stdout",
     "output_type": "stream",
     "text": [
      "train Loss: 0.5508 Acc: 0.7899\n"
     ]
    },
    {
     "name": "stderr",
     "output_type": "stream",
     "text": [
      "100%|██████████| 16/16 [00:35<00:00,  2.24s/it]\n"
     ]
    },
    {
     "name": "stdout",
     "output_type": "stream",
     "text": [
      "val Loss: 0.9842 Acc: 0.7398\n",
      "Epoch 27/99\n",
      "----------\n"
     ]
    },
    {
     "name": "stderr",
     "output_type": "stream",
     "text": [
      "100%|██████████| 72/72 [09:09<00:00,  7.63s/it]\n"
     ]
    },
    {
     "name": "stdout",
     "output_type": "stream",
     "text": [
      "train Loss: 0.5166 Acc: 0.7912\n"
     ]
    },
    {
     "name": "stderr",
     "output_type": "stream",
     "text": [
      "100%|██████████| 16/16 [00:35<00:00,  2.24s/it]\n"
     ]
    },
    {
     "name": "stdout",
     "output_type": "stream",
     "text": [
      "val Loss: 0.5587 Acc: 0.8028\n",
      "Epoch 28/99\n",
      "----------\n"
     ]
    },
    {
     "name": "stderr",
     "output_type": "stream",
     "text": [
      "100%|██████████| 72/72 [09:10<00:00,  7.65s/it]\n"
     ]
    },
    {
     "name": "stdout",
     "output_type": "stream",
     "text": [
      "train Loss: 0.5187 Acc: 0.7982\n"
     ]
    },
    {
     "name": "stderr",
     "output_type": "stream",
     "text": [
      "100%|██████████| 16/16 [00:36<00:00,  2.25s/it]\n"
     ]
    },
    {
     "name": "stdout",
     "output_type": "stream",
     "text": [
      "val Loss: 0.5643 Acc: 0.7927\n",
      "Epoch 29/99\n",
      "----------\n"
     ]
    },
    {
     "name": "stderr",
     "output_type": "stream",
     "text": [
      "100%|██████████| 72/72 [09:11<00:00,  7.65s/it]\n"
     ]
    },
    {
     "name": "stdout",
     "output_type": "stream",
     "text": [
      "train Loss: 0.5234 Acc: 0.7969\n"
     ]
    },
    {
     "name": "stderr",
     "output_type": "stream",
     "text": [
      "100%|██████████| 16/16 [00:36<00:00,  2.25s/it]\n"
     ]
    },
    {
     "name": "stdout",
     "output_type": "stream",
     "text": [
      "val Loss: 0.5732 Acc: 0.7947\n",
      "Epoch 30/99\n",
      "----------\n"
     ]
    },
    {
     "name": "stderr",
     "output_type": "stream",
     "text": [
      "100%|██████████| 72/72 [09:10<00:00,  7.65s/it]\n"
     ]
    },
    {
     "name": "stdout",
     "output_type": "stream",
     "text": [
      "train Loss: 0.5022 Acc: 0.8060\n"
     ]
    },
    {
     "name": "stderr",
     "output_type": "stream",
     "text": [
      "100%|██████████| 16/16 [00:35<00:00,  2.24s/it]\n"
     ]
    },
    {
     "name": "stdout",
     "output_type": "stream",
     "text": [
      "val Loss: 0.6863 Acc: 0.7927\n",
      "Epoch 31/99\n",
      "----------\n"
     ]
    },
    {
     "name": "stderr",
     "output_type": "stream",
     "text": [
      "100%|██████████| 72/72 [09:10<00:00,  7.64s/it]\n"
     ]
    },
    {
     "name": "stdout",
     "output_type": "stream",
     "text": [
      "train Loss: 0.5196 Acc: 0.8099\n"
     ]
    },
    {
     "name": "stderr",
     "output_type": "stream",
     "text": [
      "100%|██████████| 16/16 [00:35<00:00,  2.24s/it]\n"
     ]
    },
    {
     "name": "stdout",
     "output_type": "stream",
     "text": [
      "val Loss: 0.5735 Acc: 0.8110\n",
      "Epoch 32/99\n",
      "----------\n"
     ]
    },
    {
     "name": "stderr",
     "output_type": "stream",
     "text": [
      "100%|██████████| 72/72 [09:10<00:00,  7.64s/it]\n"
     ]
    },
    {
     "name": "stdout",
     "output_type": "stream",
     "text": [
      "train Loss: 0.4637 Acc: 0.8230\n"
     ]
    },
    {
     "name": "stderr",
     "output_type": "stream",
     "text": [
      "100%|██████████| 16/16 [00:35<00:00,  2.24s/it]\n"
     ]
    },
    {
     "name": "stdout",
     "output_type": "stream",
     "text": [
      "val Loss: 0.5878 Acc: 0.8150\n",
      "Epoch 33/99\n",
      "----------\n"
     ]
    },
    {
     "name": "stderr",
     "output_type": "stream",
     "text": [
      "100%|██████████| 72/72 [09:09<00:00,  7.63s/it]\n"
     ]
    },
    {
     "name": "stdout",
     "output_type": "stream",
     "text": [
      "train Loss: 0.4742 Acc: 0.8195\n"
     ]
    },
    {
     "name": "stderr",
     "output_type": "stream",
     "text": [
      "100%|██████████| 16/16 [00:35<00:00,  2.24s/it]\n"
     ]
    },
    {
     "name": "stdout",
     "output_type": "stream",
     "text": [
      "val Loss: 0.6705 Acc: 0.7785\n",
      "Epoch 34/99\n",
      "----------\n"
     ]
    },
    {
     "name": "stderr",
     "output_type": "stream",
     "text": [
      "100%|██████████| 72/72 [09:08<00:00,  7.62s/it]\n"
     ]
    },
    {
     "name": "stdout",
     "output_type": "stream",
     "text": [
      "train Loss: 0.4380 Acc: 0.8374\n"
     ]
    },
    {
     "name": "stderr",
     "output_type": "stream",
     "text": [
      "100%|██████████| 16/16 [00:35<00:00,  2.24s/it]\n"
     ]
    },
    {
     "name": "stdout",
     "output_type": "stream",
     "text": [
      "val Loss: 0.5647 Acc: 0.8150\n",
      "Epoch 35/99\n",
      "----------\n"
     ]
    },
    {
     "name": "stderr",
     "output_type": "stream",
     "text": [
      "100%|██████████| 72/72 [09:08<00:00,  7.62s/it]\n"
     ]
    },
    {
     "name": "stdout",
     "output_type": "stream",
     "text": [
      "train Loss: 0.4383 Acc: 0.8296\n"
     ]
    },
    {
     "name": "stderr",
     "output_type": "stream",
     "text": [
      "100%|██████████| 16/16 [00:35<00:00,  2.24s/it]\n"
     ]
    },
    {
     "name": "stdout",
     "output_type": "stream",
     "text": [
      "val Loss: 0.5637 Acc: 0.7927\n",
      "Epoch 36/99\n",
      "----------\n"
     ]
    },
    {
     "name": "stderr",
     "output_type": "stream",
     "text": [
      "100%|██████████| 72/72 [09:08<00:00,  7.61s/it]\n"
     ]
    },
    {
     "name": "stdout",
     "output_type": "stream",
     "text": [
      "train Loss: 0.4530 Acc: 0.8330\n"
     ]
    },
    {
     "name": "stderr",
     "output_type": "stream",
     "text": [
      "100%|██████████| 16/16 [00:35<00:00,  2.24s/it]\n"
     ]
    },
    {
     "name": "stdout",
     "output_type": "stream",
     "text": [
      "val Loss: 0.5354 Acc: 0.8089\n",
      "Epoch 37/99\n",
      "----------\n"
     ]
    },
    {
     "name": "stderr",
     "output_type": "stream",
     "text": [
      "100%|██████████| 72/72 [09:09<00:00,  7.63s/it]\n"
     ]
    },
    {
     "name": "stdout",
     "output_type": "stream",
     "text": [
      "train Loss: 0.4045 Acc: 0.8426\n"
     ]
    },
    {
     "name": "stderr",
     "output_type": "stream",
     "text": [
      "100%|██████████| 16/16 [00:35<00:00,  2.23s/it]\n"
     ]
    },
    {
     "name": "stdout",
     "output_type": "stream",
     "text": [
      "val Loss: 0.5716 Acc: 0.8089\n",
      "Epoch 38/99\n",
      "----------\n"
     ]
    },
    {
     "name": "stderr",
     "output_type": "stream",
     "text": [
      "100%|██████████| 72/72 [09:08<00:00,  7.62s/it]\n"
     ]
    },
    {
     "name": "stdout",
     "output_type": "stream",
     "text": [
      "train Loss: 0.4039 Acc: 0.8400\n"
     ]
    },
    {
     "name": "stderr",
     "output_type": "stream",
     "text": [
      "100%|██████████| 16/16 [00:35<00:00,  2.23s/it]\n"
     ]
    },
    {
     "name": "stdout",
     "output_type": "stream",
     "text": [
      "val Loss: 0.6262 Acc: 0.7907\n",
      "Epoch 39/99\n",
      "----------\n"
     ]
    },
    {
     "name": "stderr",
     "output_type": "stream",
     "text": [
      "100%|██████████| 72/72 [09:08<00:00,  7.62s/it]\n"
     ]
    },
    {
     "name": "stdout",
     "output_type": "stream",
     "text": [
      "train Loss: 0.3740 Acc: 0.8544\n"
     ]
    },
    {
     "name": "stderr",
     "output_type": "stream",
     "text": [
      "100%|██████████| 16/16 [00:35<00:00,  2.24s/it]\n"
     ]
    },
    {
     "name": "stdout",
     "output_type": "stream",
     "text": [
      "val Loss: 0.6593 Acc: 0.8049\n",
      "Epoch 40/99\n",
      "----------\n"
     ]
    },
    {
     "name": "stderr",
     "output_type": "stream",
     "text": [
      "100%|██████████| 72/72 [09:13<00:00,  7.68s/it]\n"
     ]
    },
    {
     "name": "stdout",
     "output_type": "stream",
     "text": [
      "train Loss: 0.4021 Acc: 0.8479\n"
     ]
    },
    {
     "name": "stderr",
     "output_type": "stream",
     "text": [
      "100%|██████████| 16/16 [00:35<00:00,  2.24s/it]\n"
     ]
    },
    {
     "name": "stdout",
     "output_type": "stream",
     "text": [
      "val Loss: 0.5908 Acc: 0.8191\n",
      "Epoch 41/99\n",
      "----------\n"
     ]
    },
    {
     "name": "stderr",
     "output_type": "stream",
     "text": [
      "100%|██████████| 72/72 [09:13<00:00,  7.69s/it]\n"
     ]
    },
    {
     "name": "stdout",
     "output_type": "stream",
     "text": [
      "train Loss: 0.3725 Acc: 0.8601\n"
     ]
    },
    {
     "name": "stderr",
     "output_type": "stream",
     "text": [
      "100%|██████████| 16/16 [00:36<00:00,  2.26s/it]\n"
     ]
    },
    {
     "name": "stdout",
     "output_type": "stream",
     "text": [
      "val Loss: 0.6296 Acc: 0.7927\n",
      "Epoch 42/99\n",
      "----------\n"
     ]
    },
    {
     "name": "stderr",
     "output_type": "stream",
     "text": [
      "100%|██████████| 72/72 [09:14<00:00,  7.70s/it]\n"
     ]
    },
    {
     "name": "stdout",
     "output_type": "stream",
     "text": [
      "train Loss: 0.3672 Acc: 0.8553\n"
     ]
    },
    {
     "name": "stderr",
     "output_type": "stream",
     "text": [
      "100%|██████████| 16/16 [00:36<00:00,  2.26s/it]\n"
     ]
    },
    {
     "name": "stdout",
     "output_type": "stream",
     "text": [
      "val Loss: 0.6303 Acc: 0.8150\n",
      "Epoch 43/99\n",
      "----------\n"
     ]
    },
    {
     "name": "stderr",
     "output_type": "stream",
     "text": [
      "100%|██████████| 72/72 [09:16<00:00,  7.72s/it]\n"
     ]
    },
    {
     "name": "stdout",
     "output_type": "stream",
     "text": [
      "train Loss: 0.3824 Acc: 0.8588\n"
     ]
    },
    {
     "name": "stderr",
     "output_type": "stream",
     "text": [
      "100%|██████████| 16/16 [00:36<00:00,  2.26s/it]\n"
     ]
    },
    {
     "name": "stdout",
     "output_type": "stream",
     "text": [
      "val Loss: 0.5722 Acc: 0.8374\n",
      "Epoch 44/99\n",
      "----------\n"
     ]
    },
    {
     "name": "stderr",
     "output_type": "stream",
     "text": [
      "100%|██████████| 72/72 [09:16<00:00,  7.73s/it]\n"
     ]
    },
    {
     "name": "stdout",
     "output_type": "stream",
     "text": [
      "train Loss: 0.3782 Acc: 0.8627\n"
     ]
    },
    {
     "name": "stderr",
     "output_type": "stream",
     "text": [
      "100%|██████████| 16/16 [00:35<00:00,  2.24s/it]\n"
     ]
    },
    {
     "name": "stdout",
     "output_type": "stream",
     "text": [
      "val Loss: 0.5291 Acc: 0.8394\n",
      "Epoch 45/99\n",
      "----------\n"
     ]
    },
    {
     "name": "stderr",
     "output_type": "stream",
     "text": [
      "100%|██████████| 72/72 [09:14<00:00,  7.70s/it]\n"
     ]
    },
    {
     "name": "stdout",
     "output_type": "stream",
     "text": [
      "train Loss: 0.3341 Acc: 0.8692\n"
     ]
    },
    {
     "name": "stderr",
     "output_type": "stream",
     "text": [
      "100%|██████████| 16/16 [00:35<00:00,  2.25s/it]\n"
     ]
    },
    {
     "name": "stdout",
     "output_type": "stream",
     "text": [
      "val Loss: 0.6980 Acc: 0.8089\n",
      "Epoch 46/99\n",
      "----------\n"
     ]
    },
    {
     "name": "stderr",
     "output_type": "stream",
     "text": [
      "100%|██████████| 72/72 [09:14<00:00,  7.69s/it]\n"
     ]
    },
    {
     "name": "stdout",
     "output_type": "stream",
     "text": [
      "train Loss: 0.3443 Acc: 0.8640\n"
     ]
    },
    {
     "name": "stderr",
     "output_type": "stream",
     "text": [
      "100%|██████████| 16/16 [00:36<00:00,  2.26s/it]\n"
     ]
    },
    {
     "name": "stdout",
     "output_type": "stream",
     "text": [
      "val Loss: 0.6974 Acc: 0.8130\n",
      "Epoch 47/99\n",
      "----------\n"
     ]
    },
    {
     "name": "stderr",
     "output_type": "stream",
     "text": [
      "100%|██████████| 72/72 [09:12<00:00,  7.67s/it]\n"
     ]
    },
    {
     "name": "stdout",
     "output_type": "stream",
     "text": [
      "train Loss: 0.3168 Acc: 0.8819\n"
     ]
    },
    {
     "name": "stderr",
     "output_type": "stream",
     "text": [
      "100%|██████████| 16/16 [00:35<00:00,  2.25s/it]\n"
     ]
    },
    {
     "name": "stdout",
     "output_type": "stream",
     "text": [
      "val Loss: 0.6648 Acc: 0.8252\n",
      "Epoch 48/99\n",
      "----------\n"
     ]
    },
    {
     "name": "stderr",
     "output_type": "stream",
     "text": [
      "100%|██████████| 72/72 [09:13<00:00,  7.69s/it]\n"
     ]
    },
    {
     "name": "stdout",
     "output_type": "stream",
     "text": [
      "train Loss: 0.3310 Acc: 0.8736\n"
     ]
    },
    {
     "name": "stderr",
     "output_type": "stream",
     "text": [
      "100%|██████████| 16/16 [00:36<00:00,  2.26s/it]\n"
     ]
    },
    {
     "name": "stdout",
     "output_type": "stream",
     "text": [
      "val Loss: 0.7054 Acc: 0.7947\n",
      "Epoch 49/99\n",
      "----------\n"
     ]
    },
    {
     "name": "stderr",
     "output_type": "stream",
     "text": [
      "100%|██████████| 72/72 [09:12<00:00,  7.67s/it]\n"
     ]
    },
    {
     "name": "stdout",
     "output_type": "stream",
     "text": [
      "train Loss: 0.3023 Acc: 0.8840\n"
     ]
    },
    {
     "name": "stderr",
     "output_type": "stream",
     "text": [
      "100%|██████████| 16/16 [00:36<00:00,  2.26s/it]\n"
     ]
    },
    {
     "name": "stdout",
     "output_type": "stream",
     "text": [
      "val Loss: 0.6606 Acc: 0.8313\n",
      "Epoch 50/99\n",
      "----------\n"
     ]
    },
    {
     "name": "stderr",
     "output_type": "stream",
     "text": [
      "100%|██████████| 72/72 [09:08<00:00,  7.62s/it]\n"
     ]
    },
    {
     "name": "stdout",
     "output_type": "stream",
     "text": [
      "train Loss: 0.3135 Acc: 0.8784\n"
     ]
    },
    {
     "name": "stderr",
     "output_type": "stream",
     "text": [
      "100%|██████████| 16/16 [00:35<00:00,  2.23s/it]\n"
     ]
    },
    {
     "name": "stdout",
     "output_type": "stream",
     "text": [
      "val Loss: 0.6781 Acc: 0.8232\n",
      "Epoch 51/99\n",
      "----------\n"
     ]
    },
    {
     "name": "stderr",
     "output_type": "stream",
     "text": [
      "100%|██████████| 72/72 [09:08<00:00,  7.61s/it]\n"
     ]
    },
    {
     "name": "stdout",
     "output_type": "stream",
     "text": [
      "train Loss: 0.2856 Acc: 0.8936\n"
     ]
    },
    {
     "name": "stderr",
     "output_type": "stream",
     "text": [
      "100%|██████████| 16/16 [00:35<00:00,  2.25s/it]\n"
     ]
    },
    {
     "name": "stdout",
     "output_type": "stream",
     "text": [
      "val Loss: 0.6879 Acc: 0.8293\n",
      "Epoch 52/99\n",
      "----------\n"
     ]
    },
    {
     "name": "stderr",
     "output_type": "stream",
     "text": [
      "100%|██████████| 72/72 [09:08<00:00,  7.62s/it]\n"
     ]
    },
    {
     "name": "stdout",
     "output_type": "stream",
     "text": [
      "train Loss: 0.2687 Acc: 0.9037\n"
     ]
    },
    {
     "name": "stderr",
     "output_type": "stream",
     "text": [
      "100%|██████████| 16/16 [00:35<00:00,  2.23s/it]\n"
     ]
    },
    {
     "name": "stdout",
     "output_type": "stream",
     "text": [
      "val Loss: 0.5980 Acc: 0.8313\n",
      "Epoch 53/99\n",
      "----------\n"
     ]
    },
    {
     "name": "stderr",
     "output_type": "stream",
     "text": [
      "100%|██████████| 72/72 [09:08<00:00,  7.62s/it]\n"
     ]
    },
    {
     "name": "stdout",
     "output_type": "stream",
     "text": [
      "train Loss: 0.2644 Acc: 0.8923\n"
     ]
    },
    {
     "name": "stderr",
     "output_type": "stream",
     "text": [
      "100%|██████████| 16/16 [00:35<00:00,  2.24s/it]\n"
     ]
    },
    {
     "name": "stdout",
     "output_type": "stream",
     "text": [
      "val Loss: 0.6273 Acc: 0.8293\n",
      "Epoch 54/99\n",
      "----------\n"
     ]
    },
    {
     "name": "stderr",
     "output_type": "stream",
     "text": [
      "100%|██████████| 72/72 [09:08<00:00,  7.62s/it]\n"
     ]
    },
    {
     "name": "stdout",
     "output_type": "stream",
     "text": [
      "train Loss: 0.2791 Acc: 0.8932\n"
     ]
    },
    {
     "name": "stderr",
     "output_type": "stream",
     "text": [
      "100%|██████████| 16/16 [00:35<00:00,  2.23s/it]\n"
     ]
    },
    {
     "name": "stdout",
     "output_type": "stream",
     "text": [
      "val Loss: 0.7460 Acc: 0.8171\n",
      "Epoch 55/99\n",
      "----------\n"
     ]
    },
    {
     "name": "stderr",
     "output_type": "stream",
     "text": [
      "100%|██████████| 72/72 [09:09<00:00,  7.63s/it]\n"
     ]
    },
    {
     "name": "stdout",
     "output_type": "stream",
     "text": [
      "train Loss: 0.2614 Acc: 0.9019\n"
     ]
    },
    {
     "name": "stderr",
     "output_type": "stream",
     "text": [
      "100%|██████████| 16/16 [00:35<00:00,  2.24s/it]\n"
     ]
    },
    {
     "name": "stdout",
     "output_type": "stream",
     "text": [
      "val Loss: 0.6991 Acc: 0.8232\n",
      "Epoch 56/99\n",
      "----------\n"
     ]
    },
    {
     "name": "stderr",
     "output_type": "stream",
     "text": [
      "100%|██████████| 72/72 [09:08<00:00,  7.61s/it]\n"
     ]
    },
    {
     "name": "stdout",
     "output_type": "stream",
     "text": [
      "train Loss: 0.2218 Acc: 0.9124\n"
     ]
    },
    {
     "name": "stderr",
     "output_type": "stream",
     "text": [
      "100%|██████████| 16/16 [00:35<00:00,  2.24s/it]\n"
     ]
    },
    {
     "name": "stdout",
     "output_type": "stream",
     "text": [
      "val Loss: 0.8662 Acc: 0.8171\n",
      "Epoch 57/99\n",
      "----------\n"
     ]
    },
    {
     "name": "stderr",
     "output_type": "stream",
     "text": [
      "100%|██████████| 72/72 [09:07<00:00,  7.61s/it]\n"
     ]
    },
    {
     "name": "stdout",
     "output_type": "stream",
     "text": [
      "train Loss: 0.2249 Acc: 0.9202\n"
     ]
    },
    {
     "name": "stderr",
     "output_type": "stream",
     "text": [
      "100%|██████████| 16/16 [00:35<00:00,  2.23s/it]\n"
     ]
    },
    {
     "name": "stdout",
     "output_type": "stream",
     "text": [
      "val Loss: 0.6807 Acc: 0.8333\n",
      "Epoch 58/99\n",
      "----------\n"
     ]
    },
    {
     "name": "stderr",
     "output_type": "stream",
     "text": [
      "100%|██████████| 72/72 [09:08<00:00,  7.62s/it]\n"
     ]
    },
    {
     "name": "stdout",
     "output_type": "stream",
     "text": [
      "train Loss: 0.2114 Acc: 0.9137\n"
     ]
    },
    {
     "name": "stderr",
     "output_type": "stream",
     "text": [
      "100%|██████████| 16/16 [00:35<00:00,  2.22s/it]\n"
     ]
    },
    {
     "name": "stdout",
     "output_type": "stream",
     "text": [
      "val Loss: 0.7172 Acc: 0.8272\n",
      "Epoch 59/99\n",
      "----------\n"
     ]
    },
    {
     "name": "stderr",
     "output_type": "stream",
     "text": [
      "100%|██████████| 72/72 [09:06<00:00,  7.59s/it]\n"
     ]
    },
    {
     "name": "stdout",
     "output_type": "stream",
     "text": [
      "train Loss: 0.2133 Acc: 0.9154\n"
     ]
    },
    {
     "name": "stderr",
     "output_type": "stream",
     "text": [
      "100%|██████████| 16/16 [00:35<00:00,  2.23s/it]\n"
     ]
    },
    {
     "name": "stdout",
     "output_type": "stream",
     "text": [
      "val Loss: 0.7339 Acc: 0.8374\n",
      "Epoch 60/99\n",
      "----------\n"
     ]
    },
    {
     "name": "stderr",
     "output_type": "stream",
     "text": [
      "100%|██████████| 72/72 [09:07<00:00,  7.60s/it]\n"
     ]
    },
    {
     "name": "stdout",
     "output_type": "stream",
     "text": [
      "train Loss: 0.2097 Acc: 0.9241\n"
     ]
    },
    {
     "name": "stderr",
     "output_type": "stream",
     "text": [
      "100%|██████████| 16/16 [00:35<00:00,  2.24s/it]\n"
     ]
    },
    {
     "name": "stdout",
     "output_type": "stream",
     "text": [
      "val Loss: 0.6893 Acc: 0.8354\n",
      "Epoch 61/99\n",
      "----------\n"
     ]
    },
    {
     "name": "stderr",
     "output_type": "stream",
     "text": [
      "100%|██████████| 72/72 [09:10<00:00,  7.65s/it]\n"
     ]
    },
    {
     "name": "stdout",
     "output_type": "stream",
     "text": [
      "train Loss: 0.2070 Acc: 0.9198\n"
     ]
    },
    {
     "name": "stderr",
     "output_type": "stream",
     "text": [
      "100%|██████████| 16/16 [00:35<00:00,  2.24s/it]\n"
     ]
    },
    {
     "name": "stdout",
     "output_type": "stream",
     "text": [
      "val Loss: 0.7215 Acc: 0.8211\n",
      "Epoch 62/99\n",
      "----------\n"
     ]
    },
    {
     "name": "stderr",
     "output_type": "stream",
     "text": [
      "100%|██████████| 72/72 [09:09<00:00,  7.63s/it]\n"
     ]
    },
    {
     "name": "stdout",
     "output_type": "stream",
     "text": [
      "train Loss: 0.2055 Acc: 0.9263\n"
     ]
    },
    {
     "name": "stderr",
     "output_type": "stream",
     "text": [
      "100%|██████████| 16/16 [00:35<00:00,  2.25s/it]\n"
     ]
    },
    {
     "name": "stdout",
     "output_type": "stream",
     "text": [
      "val Loss: 0.7260 Acc: 0.8191\n",
      "Epoch 63/99\n",
      "----------\n"
     ]
    },
    {
     "name": "stderr",
     "output_type": "stream",
     "text": [
      "100%|██████████| 72/72 [09:09<00:00,  7.63s/it]\n"
     ]
    },
    {
     "name": "stdout",
     "output_type": "stream",
     "text": [
      "train Loss: 0.1854 Acc: 0.9281\n"
     ]
    },
    {
     "name": "stderr",
     "output_type": "stream",
     "text": [
      "100%|██████████| 16/16 [00:35<00:00,  2.24s/it]\n"
     ]
    },
    {
     "name": "stdout",
     "output_type": "stream",
     "text": [
      "val Loss: 0.7631 Acc: 0.8232\n",
      "Epoch 64/99\n",
      "----------\n"
     ]
    },
    {
     "name": "stderr",
     "output_type": "stream",
     "text": [
      "100%|██████████| 72/72 [09:11<00:00,  7.66s/it]\n"
     ]
    },
    {
     "name": "stdout",
     "output_type": "stream",
     "text": [
      "train Loss: 0.2017 Acc: 0.9316\n"
     ]
    },
    {
     "name": "stderr",
     "output_type": "stream",
     "text": [
      "100%|██████████| 16/16 [00:35<00:00,  2.24s/it]\n"
     ]
    },
    {
     "name": "stdout",
     "output_type": "stream",
     "text": [
      "val Loss: 0.7153 Acc: 0.8211\n",
      "Epoch 65/99\n",
      "----------\n"
     ]
    },
    {
     "name": "stderr",
     "output_type": "stream",
     "text": [
      "100%|██████████| 72/72 [09:10<00:00,  7.65s/it]\n"
     ]
    },
    {
     "name": "stdout",
     "output_type": "stream",
     "text": [
      "train Loss: 0.1962 Acc: 0.9294\n"
     ]
    },
    {
     "name": "stderr",
     "output_type": "stream",
     "text": [
      "100%|██████████| 16/16 [00:35<00:00,  2.23s/it]\n"
     ]
    },
    {
     "name": "stdout",
     "output_type": "stream",
     "text": [
      "val Loss: 0.8089 Acc: 0.8476\n",
      "Epoch 66/99\n",
      "----------\n"
     ]
    },
    {
     "name": "stderr",
     "output_type": "stream",
     "text": [
      "100%|██████████| 72/72 [09:10<00:00,  7.64s/it]\n"
     ]
    },
    {
     "name": "stdout",
     "output_type": "stream",
     "text": [
      "train Loss: 0.1777 Acc: 0.9372\n"
     ]
    },
    {
     "name": "stderr",
     "output_type": "stream",
     "text": [
      "100%|██████████| 16/16 [00:36<00:00,  2.25s/it]\n"
     ]
    },
    {
     "name": "stdout",
     "output_type": "stream",
     "text": [
      "val Loss: 0.8161 Acc: 0.8252\n",
      "Epoch 67/99\n",
      "----------\n"
     ]
    },
    {
     "name": "stderr",
     "output_type": "stream",
     "text": [
      "100%|██████████| 72/72 [09:10<00:00,  7.64s/it]\n"
     ]
    },
    {
     "name": "stdout",
     "output_type": "stream",
     "text": [
      "train Loss: 0.1670 Acc: 0.9359\n"
     ]
    },
    {
     "name": "stderr",
     "output_type": "stream",
     "text": [
      "100%|██████████| 16/16 [00:36<00:00,  2.25s/it]\n"
     ]
    },
    {
     "name": "stdout",
     "output_type": "stream",
     "text": [
      "val Loss: 0.8631 Acc: 0.8232\n",
      "Epoch 68/99\n",
      "----------\n"
     ]
    },
    {
     "name": "stderr",
     "output_type": "stream",
     "text": [
      "100%|██████████| 72/72 [09:08<00:00,  7.62s/it]\n"
     ]
    },
    {
     "name": "stdout",
     "output_type": "stream",
     "text": [
      "train Loss: 0.1594 Acc: 0.9425\n"
     ]
    },
    {
     "name": "stderr",
     "output_type": "stream",
     "text": [
      "100%|██████████| 16/16 [00:35<00:00,  2.23s/it]\n"
     ]
    },
    {
     "name": "stdout",
     "output_type": "stream",
     "text": [
      "val Loss: 0.7729 Acc: 0.8476\n",
      "Epoch 69/99\n",
      "----------\n"
     ]
    },
    {
     "name": "stderr",
     "output_type": "stream",
     "text": [
      "100%|██████████| 72/72 [09:10<00:00,  7.64s/it]\n"
     ]
    },
    {
     "name": "stdout",
     "output_type": "stream",
     "text": [
      "train Loss: 0.1694 Acc: 0.9407\n"
     ]
    },
    {
     "name": "stderr",
     "output_type": "stream",
     "text": [
      "100%|██████████| 16/16 [00:35<00:00,  2.24s/it]\n"
     ]
    },
    {
     "name": "stdout",
     "output_type": "stream",
     "text": [
      "val Loss: 0.8111 Acc: 0.8313\n",
      "Epoch 70/99\n",
      "----------\n"
     ]
    },
    {
     "name": "stderr",
     "output_type": "stream",
     "text": [
      "100%|██████████| 72/72 [09:10<00:00,  7.64s/it]\n"
     ]
    },
    {
     "name": "stdout",
     "output_type": "stream",
     "text": [
      "train Loss: 0.1576 Acc: 0.9412\n"
     ]
    },
    {
     "name": "stderr",
     "output_type": "stream",
     "text": [
      "100%|██████████| 16/16 [00:35<00:00,  2.24s/it]\n"
     ]
    },
    {
     "name": "stdout",
     "output_type": "stream",
     "text": [
      "val Loss: 0.7727 Acc: 0.8374\n",
      "Epoch 71/99\n",
      "----------\n"
     ]
    },
    {
     "name": "stderr",
     "output_type": "stream",
     "text": [
      "100%|██████████| 72/72 [09:11<00:00,  7.66s/it]\n"
     ]
    },
    {
     "name": "stdout",
     "output_type": "stream",
     "text": [
      "train Loss: 0.1439 Acc: 0.9464\n"
     ]
    },
    {
     "name": "stderr",
     "output_type": "stream",
     "text": [
      "100%|██████████| 16/16 [00:35<00:00,  2.24s/it]\n"
     ]
    },
    {
     "name": "stdout",
     "output_type": "stream",
     "text": [
      "val Loss: 0.8044 Acc: 0.8354\n",
      "Epoch 72/99\n",
      "----------\n"
     ]
    },
    {
     "name": "stderr",
     "output_type": "stream",
     "text": [
      "100%|██████████| 72/72 [09:10<00:00,  7.64s/it]\n"
     ]
    },
    {
     "name": "stdout",
     "output_type": "stream",
     "text": [
      "train Loss: 0.1500 Acc: 0.9468\n"
     ]
    },
    {
     "name": "stderr",
     "output_type": "stream",
     "text": [
      "100%|██████████| 16/16 [00:36<00:00,  2.26s/it]\n"
     ]
    },
    {
     "name": "stdout",
     "output_type": "stream",
     "text": [
      "val Loss: 0.7665 Acc: 0.8394\n",
      "Epoch 73/99\n",
      "----------\n"
     ]
    },
    {
     "name": "stderr",
     "output_type": "stream",
     "text": [
      "100%|██████████| 72/72 [09:11<00:00,  7.67s/it]\n"
     ]
    },
    {
     "name": "stdout",
     "output_type": "stream",
     "text": [
      "train Loss: 0.1534 Acc: 0.9499\n"
     ]
    },
    {
     "name": "stderr",
     "output_type": "stream",
     "text": [
      "100%|██████████| 16/16 [00:36<00:00,  2.25s/it]\n"
     ]
    },
    {
     "name": "stdout",
     "output_type": "stream",
     "text": [
      "val Loss: 0.8093 Acc: 0.8455\n",
      "Epoch 74/99\n",
      "----------\n"
     ]
    },
    {
     "name": "stderr",
     "output_type": "stream",
     "text": [
      "100%|██████████| 72/72 [09:12<00:00,  7.67s/it]\n"
     ]
    },
    {
     "name": "stdout",
     "output_type": "stream",
     "text": [
      "train Loss: 0.1617 Acc: 0.9398\n"
     ]
    },
    {
     "name": "stderr",
     "output_type": "stream",
     "text": [
      "100%|██████████| 16/16 [00:36<00:00,  2.26s/it]\n"
     ]
    },
    {
     "name": "stdout",
     "output_type": "stream",
     "text": [
      "val Loss: 0.8072 Acc: 0.8415\n",
      "Epoch 75/99\n",
      "----------\n"
     ]
    },
    {
     "name": "stderr",
     "output_type": "stream",
     "text": [
      "100%|██████████| 72/72 [09:16<00:00,  7.72s/it]\n"
     ]
    },
    {
     "name": "stdout",
     "output_type": "stream",
     "text": [
      "train Loss: 0.1311 Acc: 0.9529\n"
     ]
    },
    {
     "name": "stderr",
     "output_type": "stream",
     "text": [
      "100%|██████████| 16/16 [00:37<00:00,  2.34s/it]\n"
     ]
    },
    {
     "name": "stdout",
     "output_type": "stream",
     "text": [
      "val Loss: 0.8463 Acc: 0.8293\n",
      "Epoch 76/99\n",
      "----------\n"
     ]
    },
    {
     "name": "stderr",
     "output_type": "stream",
     "text": [
      "100%|██████████| 72/72 [09:12<00:00,  7.67s/it]\n"
     ]
    },
    {
     "name": "stdout",
     "output_type": "stream",
     "text": [
      "train Loss: 0.1253 Acc: 0.9542\n"
     ]
    },
    {
     "name": "stderr",
     "output_type": "stream",
     "text": [
      "100%|██████████| 16/16 [00:35<00:00,  2.24s/it]\n"
     ]
    },
    {
     "name": "stdout",
     "output_type": "stream",
     "text": [
      "val Loss: 0.8606 Acc: 0.8313\n",
      "Epoch 77/99\n",
      "----------\n"
     ]
    },
    {
     "name": "stderr",
     "output_type": "stream",
     "text": [
      "100%|██████████| 72/72 [09:13<00:00,  7.68s/it]\n"
     ]
    },
    {
     "name": "stdout",
     "output_type": "stream",
     "text": [
      "train Loss: 0.1333 Acc: 0.9494\n"
     ]
    },
    {
     "name": "stderr",
     "output_type": "stream",
     "text": [
      "100%|██████████| 16/16 [00:36<00:00,  2.25s/it]\n"
     ]
    },
    {
     "name": "stdout",
     "output_type": "stream",
     "text": [
      "val Loss: 0.7987 Acc: 0.8516\n",
      "Epoch 78/99\n",
      "----------\n"
     ]
    },
    {
     "name": "stderr",
     "output_type": "stream",
     "text": [
      "100%|██████████| 72/72 [09:12<00:00,  7.67s/it]\n"
     ]
    },
    {
     "name": "stdout",
     "output_type": "stream",
     "text": [
      "train Loss: 0.1345 Acc: 0.9516\n"
     ]
    },
    {
     "name": "stderr",
     "output_type": "stream",
     "text": [
      "100%|██████████| 16/16 [00:35<00:00,  2.24s/it]\n"
     ]
    },
    {
     "name": "stdout",
     "output_type": "stream",
     "text": [
      "val Loss: 0.8510 Acc: 0.8476\n",
      "Epoch 79/99\n",
      "----------\n"
     ]
    },
    {
     "name": "stderr",
     "output_type": "stream",
     "text": [
      "100%|██████████| 72/72 [09:10<00:00,  7.65s/it]\n"
     ]
    },
    {
     "name": "stdout",
     "output_type": "stream",
     "text": [
      "train Loss: 0.1079 Acc: 0.9599\n"
     ]
    },
    {
     "name": "stderr",
     "output_type": "stream",
     "text": [
      "100%|██████████| 16/16 [00:35<00:00,  2.22s/it]\n"
     ]
    },
    {
     "name": "stdout",
     "output_type": "stream",
     "text": [
      "val Loss: 0.8779 Acc: 0.8313\n",
      "Epoch 80/99\n",
      "----------\n"
     ]
    },
    {
     "name": "stderr",
     "output_type": "stream",
     "text": [
      "100%|██████████| 72/72 [09:10<00:00,  7.65s/it]\n"
     ]
    },
    {
     "name": "stdout",
     "output_type": "stream",
     "text": [
      "train Loss: 0.1233 Acc: 0.9542\n"
     ]
    },
    {
     "name": "stderr",
     "output_type": "stream",
     "text": [
      "100%|██████████| 16/16 [00:35<00:00,  2.22s/it]\n"
     ]
    },
    {
     "name": "stdout",
     "output_type": "stream",
     "text": [
      "val Loss: 0.8584 Acc: 0.8394\n",
      "Epoch 81/99\n",
      "----------\n"
     ]
    },
    {
     "name": "stderr",
     "output_type": "stream",
     "text": [
      "100%|██████████| 72/72 [09:11<00:00,  7.66s/it]\n"
     ]
    },
    {
     "name": "stdout",
     "output_type": "stream",
     "text": [
      "train Loss: 0.1117 Acc: 0.9603\n"
     ]
    },
    {
     "name": "stderr",
     "output_type": "stream",
     "text": [
      "100%|██████████| 16/16 [00:35<00:00,  2.25s/it]\n"
     ]
    },
    {
     "name": "stdout",
     "output_type": "stream",
     "text": [
      "val Loss: 0.8884 Acc: 0.8394\n",
      "Epoch 82/99\n",
      "----------\n"
     ]
    },
    {
     "name": "stderr",
     "output_type": "stream",
     "text": [
      "100%|██████████| 72/72 [09:09<00:00,  7.63s/it]\n"
     ]
    },
    {
     "name": "stdout",
     "output_type": "stream",
     "text": [
      "train Loss: 0.1026 Acc: 0.9608\n"
     ]
    },
    {
     "name": "stderr",
     "output_type": "stream",
     "text": [
      "100%|██████████| 16/16 [00:35<00:00,  2.23s/it]\n"
     ]
    },
    {
     "name": "stdout",
     "output_type": "stream",
     "text": [
      "val Loss: 0.8430 Acc: 0.8435\n",
      "Epoch 83/99\n",
      "----------\n"
     ]
    },
    {
     "name": "stderr",
     "output_type": "stream",
     "text": [
      "100%|██████████| 72/72 [09:09<00:00,  7.63s/it]\n"
     ]
    },
    {
     "name": "stdout",
     "output_type": "stream",
     "text": [
      "train Loss: 0.1048 Acc: 0.9573\n"
     ]
    },
    {
     "name": "stderr",
     "output_type": "stream",
     "text": [
      "100%|██████████| 16/16 [00:36<00:00,  2.26s/it]\n"
     ]
    },
    {
     "name": "stdout",
     "output_type": "stream",
     "text": [
      "val Loss: 0.8531 Acc: 0.8455\n",
      "Epoch 84/99\n",
      "----------\n"
     ]
    },
    {
     "name": "stderr",
     "output_type": "stream",
     "text": [
      "100%|██████████| 72/72 [09:11<00:00,  7.66s/it]\n"
     ]
    },
    {
     "name": "stdout",
     "output_type": "stream",
     "text": [
      "train Loss: 0.1100 Acc: 0.9555\n"
     ]
    },
    {
     "name": "stderr",
     "output_type": "stream",
     "text": [
      "100%|██████████| 16/16 [00:35<00:00,  2.23s/it]\n"
     ]
    },
    {
     "name": "stdout",
     "output_type": "stream",
     "text": [
      "val Loss: 0.9013 Acc: 0.8415\n",
      "Epoch 85/99\n",
      "----------\n"
     ]
    },
    {
     "name": "stderr",
     "output_type": "stream",
     "text": [
      "100%|██████████| 72/72 [09:10<00:00,  7.65s/it]\n"
     ]
    },
    {
     "name": "stdout",
     "output_type": "stream",
     "text": [
      "train Loss: 0.1056 Acc: 0.9595\n"
     ]
    },
    {
     "name": "stderr",
     "output_type": "stream",
     "text": [
      "100%|██████████| 16/16 [00:35<00:00,  2.23s/it]\n"
     ]
    },
    {
     "name": "stdout",
     "output_type": "stream",
     "text": [
      "val Loss: 0.8913 Acc: 0.8455\n",
      "Epoch 86/99\n",
      "----------\n"
     ]
    },
    {
     "name": "stderr",
     "output_type": "stream",
     "text": [
      "100%|██████████| 72/72 [09:09<00:00,  7.63s/it]\n"
     ]
    },
    {
     "name": "stdout",
     "output_type": "stream",
     "text": [
      "train Loss: 0.1084 Acc: 0.9582\n"
     ]
    },
    {
     "name": "stderr",
     "output_type": "stream",
     "text": [
      "100%|██████████| 16/16 [00:35<00:00,  2.25s/it]\n"
     ]
    },
    {
     "name": "stdout",
     "output_type": "stream",
     "text": [
      "val Loss: 0.8933 Acc: 0.8415\n",
      "Epoch 87/99\n",
      "----------\n"
     ]
    },
    {
     "name": "stderr",
     "output_type": "stream",
     "text": [
      "100%|██████████| 72/72 [09:12<00:00,  7.67s/it]\n"
     ]
    },
    {
     "name": "stdout",
     "output_type": "stream",
     "text": [
      "train Loss: 0.0997 Acc: 0.9638\n"
     ]
    },
    {
     "name": "stderr",
     "output_type": "stream",
     "text": [
      "100%|██████████| 16/16 [00:36<00:00,  2.25s/it]\n"
     ]
    },
    {
     "name": "stdout",
     "output_type": "stream",
     "text": [
      "val Loss: 0.8525 Acc: 0.8455\n",
      "Epoch 88/99\n",
      "----------\n"
     ]
    },
    {
     "name": "stderr",
     "output_type": "stream",
     "text": [
      "100%|██████████| 72/72 [09:10<00:00,  7.65s/it]\n"
     ]
    },
    {
     "name": "stdout",
     "output_type": "stream",
     "text": [
      "train Loss: 0.1062 Acc: 0.9582\n"
     ]
    },
    {
     "name": "stderr",
     "output_type": "stream",
     "text": [
      "100%|██████████| 16/16 [00:35<00:00,  2.24s/it]\n"
     ]
    },
    {
     "name": "stdout",
     "output_type": "stream",
     "text": [
      "val Loss: 0.8470 Acc: 0.8537\n",
      "Epoch 89/99\n",
      "----------\n"
     ]
    },
    {
     "name": "stderr",
     "output_type": "stream",
     "text": [
      "100%|██████████| 72/72 [09:11<00:00,  7.65s/it]\n"
     ]
    },
    {
     "name": "stdout",
     "output_type": "stream",
     "text": [
      "train Loss: 0.0898 Acc: 0.9660\n"
     ]
    },
    {
     "name": "stderr",
     "output_type": "stream",
     "text": [
      "100%|██████████| 16/16 [00:35<00:00,  2.25s/it]\n"
     ]
    },
    {
     "name": "stdout",
     "output_type": "stream",
     "text": [
      "val Loss: 0.8330 Acc: 0.8455\n",
      "Epoch 90/99\n",
      "----------\n"
     ]
    },
    {
     "name": "stderr",
     "output_type": "stream",
     "text": [
      "100%|██████████| 72/72 [09:10<00:00,  7.65s/it]\n"
     ]
    },
    {
     "name": "stdout",
     "output_type": "stream",
     "text": [
      "train Loss: 0.1069 Acc: 0.9603\n"
     ]
    },
    {
     "name": "stderr",
     "output_type": "stream",
     "text": [
      "100%|██████████| 16/16 [00:35<00:00,  2.24s/it]\n"
     ]
    },
    {
     "name": "stdout",
     "output_type": "stream",
     "text": [
      "val Loss: 0.8712 Acc: 0.8435\n",
      "Epoch 91/99\n",
      "----------\n"
     ]
    },
    {
     "name": "stderr",
     "output_type": "stream",
     "text": [
      "100%|██████████| 72/72 [09:13<00:00,  7.68s/it]\n"
     ]
    },
    {
     "name": "stdout",
     "output_type": "stream",
     "text": [
      "train Loss: 0.1135 Acc: 0.9582\n"
     ]
    },
    {
     "name": "stderr",
     "output_type": "stream",
     "text": [
      "100%|██████████| 16/16 [00:35<00:00,  2.25s/it]\n"
     ]
    },
    {
     "name": "stdout",
     "output_type": "stream",
     "text": [
      "val Loss: 0.8540 Acc: 0.8435\n",
      "Epoch 92/99\n",
      "----------\n"
     ]
    },
    {
     "name": "stderr",
     "output_type": "stream",
     "text": [
      "100%|██████████| 72/72 [09:12<00:00,  7.67s/it]\n"
     ]
    },
    {
     "name": "stdout",
     "output_type": "stream",
     "text": [
      "train Loss: 0.0945 Acc: 0.9660\n"
     ]
    },
    {
     "name": "stderr",
     "output_type": "stream",
     "text": [
      "100%|██████████| 16/16 [00:35<00:00,  2.25s/it]\n"
     ]
    },
    {
     "name": "stdout",
     "output_type": "stream",
     "text": [
      "val Loss: 0.8971 Acc: 0.8415\n",
      "Epoch 93/99\n",
      "----------\n"
     ]
    },
    {
     "name": "stderr",
     "output_type": "stream",
     "text": [
      "100%|██████████| 72/72 [09:10<00:00,  7.64s/it]\n"
     ]
    },
    {
     "name": "stdout",
     "output_type": "stream",
     "text": [
      "train Loss: 0.1048 Acc: 0.9625\n"
     ]
    },
    {
     "name": "stderr",
     "output_type": "stream",
     "text": [
      "100%|██████████| 16/16 [00:35<00:00,  2.23s/it]\n"
     ]
    },
    {
     "name": "stdout",
     "output_type": "stream",
     "text": [
      "val Loss: 0.9102 Acc: 0.8415\n",
      "Epoch 94/99\n",
      "----------\n"
     ]
    },
    {
     "name": "stderr",
     "output_type": "stream",
     "text": [
      "100%|██████████| 72/72 [09:10<00:00,  7.64s/it]\n"
     ]
    },
    {
     "name": "stdout",
     "output_type": "stream",
     "text": [
      "train Loss: 0.0942 Acc: 0.9651\n"
     ]
    },
    {
     "name": "stderr",
     "output_type": "stream",
     "text": [
      "100%|██████████| 16/16 [00:36<00:00,  2.25s/it]\n"
     ]
    },
    {
     "name": "stdout",
     "output_type": "stream",
     "text": [
      "val Loss: 0.8839 Acc: 0.8455\n",
      "Epoch 95/99\n",
      "----------\n"
     ]
    },
    {
     "name": "stderr",
     "output_type": "stream",
     "text": [
      "100%|██████████| 72/72 [09:12<00:00,  7.67s/it]\n"
     ]
    },
    {
     "name": "stdout",
     "output_type": "stream",
     "text": [
      "train Loss: 0.0864 Acc: 0.9660\n"
     ]
    },
    {
     "name": "stderr",
     "output_type": "stream",
     "text": [
      "100%|██████████| 16/16 [00:35<00:00,  2.24s/it]\n"
     ]
    },
    {
     "name": "stdout",
     "output_type": "stream",
     "text": [
      "val Loss: 0.9020 Acc: 0.8455\n",
      "Epoch 96/99\n",
      "----------\n"
     ]
    },
    {
     "name": "stderr",
     "output_type": "stream",
     "text": [
      "100%|██████████| 72/72 [09:12<00:00,  7.67s/it]\n"
     ]
    },
    {
     "name": "stdout",
     "output_type": "stream",
     "text": [
      "train Loss: 0.0977 Acc: 0.9629\n"
     ]
    },
    {
     "name": "stderr",
     "output_type": "stream",
     "text": [
      "100%|██████████| 16/16 [00:36<00:00,  2.25s/it]\n"
     ]
    },
    {
     "name": "stdout",
     "output_type": "stream",
     "text": [
      "val Loss: 0.8845 Acc: 0.8394\n",
      "Epoch 97/99\n",
      "----------\n"
     ]
    },
    {
     "name": "stderr",
     "output_type": "stream",
     "text": [
      "100%|██████████| 72/72 [09:11<00:00,  7.66s/it]\n"
     ]
    },
    {
     "name": "stdout",
     "output_type": "stream",
     "text": [
      "train Loss: 0.0853 Acc: 0.9669\n"
     ]
    },
    {
     "name": "stderr",
     "output_type": "stream",
     "text": [
      "100%|██████████| 16/16 [00:35<00:00,  2.25s/it]\n"
     ]
    },
    {
     "name": "stdout",
     "output_type": "stream",
     "text": [
      "val Loss: 0.8787 Acc: 0.8455\n",
      "Epoch 98/99\n",
      "----------\n"
     ]
    },
    {
     "name": "stderr",
     "output_type": "stream",
     "text": [
      "100%|██████████| 72/72 [09:11<00:00,  7.67s/it]\n"
     ]
    },
    {
     "name": "stdout",
     "output_type": "stream",
     "text": [
      "train Loss: 0.0975 Acc: 0.9625\n"
     ]
    },
    {
     "name": "stderr",
     "output_type": "stream",
     "text": [
      "100%|██████████| 16/16 [00:35<00:00,  2.23s/it]\n"
     ]
    },
    {
     "name": "stdout",
     "output_type": "stream",
     "text": [
      "val Loss: 0.8680 Acc: 0.8455\n",
      "Epoch 99/99\n",
      "----------\n"
     ]
    },
    {
     "name": "stderr",
     "output_type": "stream",
     "text": [
      "100%|██████████| 72/72 [09:10<00:00,  7.64s/it]\n"
     ]
    },
    {
     "name": "stdout",
     "output_type": "stream",
     "text": [
      "train Loss: 0.0818 Acc: 0.9677\n"
     ]
    },
    {
     "name": "stderr",
     "output_type": "stream",
     "text": [
      "100%|██████████| 16/16 [00:36<00:00,  2.25s/it]\n"
     ]
    },
    {
     "name": "stdout",
     "output_type": "stream",
     "text": [
      "val Loss: 0.8807 Acc: 0.8455\n",
      "Best val Acc: 0.8537\n",
      "Model and training state saved at: regnet_y_8gf_20241128_000540.pth\n",
      "\n",
      "Evaluating the model...\n"
     ]
    },
    {
     "name": "stderr",
     "output_type": "stream",
     "text": [
      "100%|██████████| 16/16 [00:36<00:00,  2.29s/it]\n"
     ]
    },
    {
     "name": "stdout",
     "output_type": "stream",
     "text": [
      "\n",
      "Classification Report:\n",
      "               precision    recall  f1-score   support\n",
      "\n",
      "           EA       0.89      0.94      0.91        80\n",
      "   EH_Complex       0.87      0.79      0.83        43\n",
      "    EH_Simple       0.87      0.87      0.87        78\n",
      "           EP       0.72      0.79      0.76        96\n",
      "NE_Follicular       0.82      0.79      0.80       107\n",
      "    NE_Luteal       0.94      0.89      0.92        91\n",
      "\n",
      "     accuracy                           0.84       495\n",
      "    macro avg       0.85      0.84      0.85       495\n",
      " weighted avg       0.85      0.84      0.85       495\n",
      "\n",
      "\n",
      "Confusion Matrix:\n"
     ]
    },
    {
     "data": {
      "image/png": "[encoded data removed]",
      "text/plain": [
       "<Figure size 800x600 with 2 Axes>"
      ]
     },
     "metadata": {},
     "output_type": "display_data"
    }
   ],
   "source": [
    "import torch\n",
    "import torch.nn as nn\n",
    "import torch.optim as optim\n",
    "from torchvision import transforms\n",
    "from torchvision.models import regnet_y_8gf, RegNet_Y_8GF_Weights\n",
    "from torch.utils.data import DataLoader\n",
    "from torchvision.datasets import ImageFolder\n",
    "from torch.optim.lr_scheduler import CosineAnnealingLR\n",
    "from tqdm import tqdm\n",
    "import os\n",
    "from sklearn.metrics import classification_report, confusion_matrix\n",
    "import seaborn as sns\n",
    "import matplotlib.pyplot as plt\n",
    "from datetime import datetime\n",
    "\n",
    "# Set device\n",
    "device = torch.device(\"cuda\" if torch.cuda.is_available() else \"cpu\")\n",
    "\n",
    "# Define data transforms\n",
    "data_transforms = {\n",
    "    'train': transforms.Compose([\n",
    "        transforms.RandomResizedCrop(224),\n",
    "        transforms.RandomHorizontalFlip(),\n",
    "        transforms.RandomRotation(15),\n",
    "        transforms.ColorJitter(brightness=0.2, contrast=0.2, saturation=0.2),\n",
    "        transforms.RandomAffine(degrees=0, translate=(0.1, 0.1)),\n",
    "        transforms.ToTensor(),\n",
    "        transforms.Normalize(mean=[0.485, 0.456, 0.406], std=[0.229, 0.224, 0.225])\n",
    "    ]),\n",
    "    'val': transforms.Compose([\n",
    "        transforms.Resize(256),\n",
    "        transforms.CenterCrop(224),\n",
    "        transforms.ToTensor(),\n",
    "        transforms.Normalize(mean=[0.485, 0.456, 0.406], std=[0.229, 0.224, 0.225])\n",
    "    ]),\n",
    "    'test': transforms.Compose([\n",
    "        transforms.Resize(256),\n",
    "        transforms.CenterCrop(224),\n",
    "        transforms.ToTensor(),\n",
    "        transforms.Normalize(mean=[0.485, 0.456, 0.406], std=[0.229, 0.224, 0.225])\n",
    "    ])\n",
    "}\n",
    "\n",
    "\n",
    "# Define a Custom RegNet_Y_8GF Model\n",
    "class CustomRegNet(nn.Module):\n",
    "    def __init__(self, num_classes=7):\n",
    "        super(CustomRegNet, self).__init__()\n",
    "        # Load RegNet_Y_8GF with pre-trained weights\n",
    "        self.regnet = regnet_y_8gf(weights=RegNet_Y_8GF_Weights.IMAGENET1K_V2)\n",
    "        \n",
    "        # Modify the final fully connected layer\n",
    "        num_ftrs = self.regnet.fc.in_features\n",
    "        self.regnet.fc = nn.Sequential(\n",
    "            nn.Dropout(0.5),\n",
    "            nn.Linear(num_ftrs, num_classes)\n",
    "        )\n",
    "    \n",
    "    def forward(self, x):\n",
    "        return self.regnet(x)\n",
    "\n",
    "\n",
    "# Training class\n",
    "class ModelTrainer:\n",
    "    def __init__(self, model, dataloaders, dataset_sizes, criterion, optimizer, scheduler):\n",
    "        self.model = model\n",
    "        self.dataloaders = dataloaders\n",
    "        self.dataset_sizes = dataset_sizes\n",
    "        self.criterion = criterion\n",
    "        self.optimizer = optimizer\n",
    "        self.scheduler = scheduler\n",
    "        self.history = {'train_loss': [], 'train_acc': [], 'val_loss': [], 'val_acc': []}\n",
    "    \n",
    "    def train(self, num_epochs=30, resume=False, checkpoint_path=None):\n",
    "        best_model_wts = self.model.state_dict()\n",
    "        best_acc = 0.0\n",
    "        \n",
    "        # Resume from checkpoint\n",
    "        if resume and checkpoint_path:\n",
    "            checkpoint = torch.load(checkpoint_path)\n",
    "            self.model.load_state_dict(checkpoint['model_state_dict'])\n",
    "            self.optimizer.load_state_dict(checkpoint['optimizer_state_dict'])\n",
    "            self.history = checkpoint['history']\n",
    "            print(f\"Resumed training from checkpoint at: {checkpoint_path}\")\n",
    "        \n",
    "        for epoch in range(num_epochs):\n",
    "            print(f'Epoch {epoch}/{num_epochs - 1}')\n",
    "            print('-' * 10)\n",
    "            \n",
    "            for phase in ['train', 'val']:\n",
    "                if phase == 'train':\n",
    "                    self.model.train()\n",
    "                else:\n",
    "                    self.model.eval()\n",
    "                \n",
    "                running_loss = 0.0\n",
    "                running_corrects = 0\n",
    "                \n",
    "                for inputs, labels in tqdm(self.dataloaders[phase]):\n",
    "                    inputs = inputs.to(device)\n",
    "                    labels = labels.to(device)\n",
    "                    \n",
    "                    self.optimizer.zero_grad()\n",
    "                    \n",
    "                    with torch.set_grad_enabled(phase == 'train'):\n",
    "                        outputs = self.model(inputs)\n",
    "                        _, preds = torch.max(outputs, 1)\n",
    "                        loss = self.criterion(outputs, labels)\n",
    "                        \n",
    "                        if phase == 'train':\n",
    "                            loss.backward()\n",
    "                            # Gradient clipping\n",
    "                            torch.nn.utils.clip_grad_norm_(self.model.parameters(), max_norm=1.0)\n",
    "                            self.optimizer.step()\n",
    "                \n",
    "                    running_loss += loss.item() * inputs.size(0)\n",
    "                    running_corrects += torch.sum(preds == labels.data)\n",
    "                \n",
    "                epoch_loss = running_loss / self.dataset_sizes[phase]\n",
    "                epoch_acc = running_corrects.double() / self.dataset_sizes[phase]\n",
    "                \n",
    "                # Store history\n",
    "                self.history[f'{phase}_loss'].append(epoch_loss)\n",
    "                self.history[f'{phase}_acc'].append(epoch_acc.item())\n",
    "                \n",
    "                if phase == 'train':\n",
    "                    self.scheduler.step()\n",
    "                \n",
    "                print(f'{phase} Loss: {epoch_loss:.4f} Acc: {epoch_acc:.4f}')\n",
    "                \n",
    "                if phase == 'val' and epoch_acc > best_acc:\n",
    "                    best_acc = epoch_acc\n",
    "                    best_model_wts = self.model.state_dict()\n",
    "        \n",
    "        print(f'Best val Acc: {best_acc:.4f}')\n",
    "        self.model.load_state_dict(best_model_wts)\n",
    "        return self.model, self.history\n",
    "\n",
    "# Evaluate the model with classification report and confusion matrix\n",
    "def evaluate_model(model, test_loader, class_names):\n",
    "    model.eval()\n",
    "    all_preds = []\n",
    "    all_labels = []\n",
    "    \n",
    "    with torch.no_grad():\n",
    "        for inputs, labels in tqdm(test_loader):\n",
    "            inputs = inputs.to(device)\n",
    "            labels = labels.to(device)\n",
    "            \n",
    "            outputs = model(inputs)\n",
    "            _, predicted = torch.max(outputs, 1)\n",
    "            \n",
    "            all_preds.extend(predicted.cpu().numpy())\n",
    "            all_labels.extend(labels.cpu().numpy())\n",
    "    \n",
    "    # Classification Report\n",
    "    print(\"\\nClassification Report:\")\n",
    "    report = classification_report(all_labels, all_preds, target_names=class_names)\n",
    "    print(report)\n",
    "    \n",
    "    # Confusion Matrix\n",
    "    conf_matrix = confusion_matrix(all_labels, all_preds)\n",
    "    print(\"\\nConfusion Matrix:\")\n",
    "    plt.figure(figsize=(8, 6))\n",
    "    sns.heatmap(conf_matrix, annot=True, fmt='d', cmap='Blues',\n",
    "                xticklabels=class_names, yticklabels=class_names)\n",
    "    plt.xlabel(\"Predicted\")\n",
    "    plt.ylabel(\"True\")\n",
    "    plt.title(\"Confusion Matrix\")\n",
    "    plt.show()\n",
    "    \n",
    "    return report, conf_matrix\n",
    "\n",
    "\n",
    "def load_checkpoint(checkpoint_path, model, optimizer=None):\n",
    "    \"\"\"Load model and optimizer state from checkpoint.\"\"\"\n",
    "    checkpoint = torch.load(checkpoint_path)\n",
    "    model.load_state_dict(checkpoint['model_state_dict'])\n",
    "    if optimizer:\n",
    "        optimizer.load_state_dict(checkpoint['optimizer_state_dict'])\n",
    "    print(f\"Loaded model from checkpoint: {checkpoint_path}\")\n",
    "    return model\n",
    "\n",
    "\n",
    "\n",
    "\n",
    "if __name__ == '__main__':\n",
    "    # Configuration\n",
    "    config = {\n",
    "        'model_name': 'regnety_8gf',\n",
    "        'batch_size': 32,\n",
    "        'learning_rate': 0.001,\n",
    "        'num_epochs': 100,\n",
    "        'num_classes': 6\n",
    "    }\n",
    "    \n",
    "    # Set your data directory\n",
    "    data_dir = 'D:/Engineering/SEM7/COMPUTER VISION/proj_imp/DATASET/org_datahistopath_img_data'\n",
    "    \n",
    "    # Load datasets\n",
    "    image_datasets = {x: ImageFolder(os.path.join(data_dir, x), data_transforms[x])\n",
    "                     for x in ['train', 'val', 'test']}\n",
    "    dataloaders = {x: DataLoader(image_datasets[x], batch_size=config['batch_size'],\n",
    "                                shuffle=True if x == 'train' else False, num_workers=4, pin_memory=True)\n",
    "                  for x in ['train', 'val', 'test']}\n",
    "    dataset_sizes = {x: len(image_datasets[x]) for x in ['train', 'val', 'test']}\n",
    "    class_names = image_datasets['train'].classes\n",
    "    \n",
    "    # Create model\n",
    "    model = CustomRegNet(num_classes=config['num_classes'])\n",
    "    model = model.to(device)\n",
    "    \n",
    "    # Loss function and optimizer\n",
    "    criterion = nn.CrossEntropyLoss()\n",
    "    optimizer = optim.AdamW(model.parameters(), lr=config['learning_rate'])\n",
    "    scheduler = CosineAnnealingLR(optimizer, T_max=config['num_epochs'])\n",
    "    \n",
    "    # Train the model (Fresh training or Resume training)\n",
    "    trainer = ModelTrainer(model, dataloaders, dataset_sizes, criterion, optimizer, scheduler)\n",
    "    \n",
    "    # Resume Training if checkpoint exists\n",
    "    resume_training = False\n",
    "    checkpoint_path = r\"D:\\Engineering\\SEM7\\COMPUTER VISION\\proj_imp\\DATASET\\regnet_y_8gf_20241126_230711.pth\"\n",
    "    \n",
    "    if resume_training and os.path.exists(checkpoint_path):\n",
    "        model, history = trainer.train(num_epochs=100, resume=True, checkpoint_path=checkpoint_path)\n",
    "    else:\n",
    "        model, history = trainer.train(num_epochs=config['num_epochs'])\n",
    "    \n",
    "    # Save the model and training state\n",
    "    timestamp = datetime.now().strftime('%Y%m%d_%H%M%S')\n",
    "    save_path = f\"regnet_y_8gf_{timestamp}.pth\"\n",
    "    torch.save({\n",
    "        'model_state_dict': model.state_dict(),\n",
    "        'optimizer_state_dict': optimizer.state_dict(),\n",
    "        'history': trainer.history\n",
    "    }, save_path)\n",
    "    print(f\"Model and training state saved at: {save_path}\")\n",
    "    \n",
    "    # Evaluate the model\n",
    "    print(\"\\nEvaluating the model...\")\n",
    "    evaluate_model(model, dataloaders['test'], class_names)\n"
   ]
  },
  {
   "cell_type": "markdown",
   "metadata": {},
   "source": [
    "# EfficientNet-b3"
   ]
  },
  {
   "cell_type": "code",
   "execution_count": 32,
   "metadata": {},
   "outputs": [
    {
     "name": "stdout",
     "output_type": "stream",
     "text": [
      "Using device: cuda\n",
      "Epoch [1/100], Loss: 1.7736, Accuracy: 24.98%\n",
      "Validation Loss: 1.9308, Validation Accuracy: 26.63%\n",
      "\n",
      "Epoch [2/100], Loss: 1.7156, Accuracy: 28.64%\n",
      "Validation Loss: 2.7065, Validation Accuracy: 27.85%\n",
      "\n",
      "Epoch [3/100], Loss: 1.6867, Accuracy: 29.47%\n",
      "Validation Loss: 1.9943, Validation Accuracy: 29.27%\n",
      "\n",
      "Epoch [4/100], Loss: 1.6114, Accuracy: 32.74%\n",
      "Validation Loss: 1.9811, Validation Accuracy: 31.50%\n",
      "\n",
      "Epoch [5/100], Loss: 1.5337, Accuracy: 38.97%\n",
      "Validation Loss: 2.5129, Validation Accuracy: 34.15%\n",
      "\n",
      "Epoch [6/100], Loss: 1.4146, Accuracy: 43.81%\n",
      "Validation Loss: 1.8130, Validation Accuracy: 32.32%\n",
      "\n",
      "Epoch [7/100], Loss: 1.2212, Accuracy: 52.40%\n",
      "Validation Loss: 1.9685, Validation Accuracy: 35.16%\n",
      "\n",
      "Epoch [8/100], Loss: 0.9916, Accuracy: 63.08%\n",
      "Validation Loss: 2.5027, Validation Accuracy: 36.59%\n",
      "\n",
      "Epoch [9/100], Loss: 0.8212, Accuracy: 69.66%\n",
      "Validation Loss: 2.7155, Validation Accuracy: 35.37%\n",
      "\n",
      "Epoch [10/100], Loss: 0.6350, Accuracy: 75.94%\n",
      "Validation Loss: 2.5007, Validation Accuracy: 33.94%\n",
      "\n",
      "Epoch [11/100], Loss: 0.4868, Accuracy: 82.43%\n",
      "Validation Loss: 2.9858, Validation Accuracy: 37.20%\n",
      "\n",
      "Epoch [12/100], Loss: 0.4036, Accuracy: 86.62%\n",
      "Validation Loss: 2.6857, Validation Accuracy: 36.79%\n",
      "\n",
      "Epoch [13/100], Loss: 0.3675, Accuracy: 86.57%\n",
      "Validation Loss: 2.7967, Validation Accuracy: 34.96%\n",
      "\n",
      "Epoch [14/100], Loss: 0.3244, Accuracy: 88.19%\n",
      "Validation Loss: 2.8300, Validation Accuracy: 37.60%\n",
      "\n",
      "Epoch [15/100], Loss: 0.2961, Accuracy: 89.23%\n",
      "Validation Loss: 2.5146, Validation Accuracy: 35.57%\n",
      "\n",
      "Epoch [16/100], Loss: 0.3058, Accuracy: 89.23%\n",
      "Validation Loss: 3.0896, Validation Accuracy: 38.41%\n",
      "\n",
      "Epoch [17/100], Loss: 0.2340, Accuracy: 92.50%\n",
      "Validation Loss: 3.0112, Validation Accuracy: 34.35%\n",
      "\n",
      "Epoch [18/100], Loss: 0.2040, Accuracy: 93.98%\n",
      "Validation Loss: 2.6188, Validation Accuracy: 34.55%\n",
      "\n",
      "Epoch [19/100], Loss: 0.1970, Accuracy: 93.29%\n",
      "Validation Loss: 3.1470, Validation Accuracy: 36.38%\n",
      "\n",
      "Epoch [20/100], Loss: 0.2013, Accuracy: 93.55%\n",
      "Validation Loss: 2.7585, Validation Accuracy: 35.37%\n",
      "\n",
      "Epoch [21/100], Loss: 0.1961, Accuracy: 92.85%\n",
      "Validation Loss: 3.7033, Validation Accuracy: 34.96%\n",
      "\n",
      "Epoch [22/100], Loss: 0.1822, Accuracy: 93.94%\n",
      "Validation Loss: 2.5707, Validation Accuracy: 38.41%\n",
      "\n",
      "Epoch [23/100], Loss: 0.2049, Accuracy: 93.16%\n",
      "Validation Loss: 3.7997, Validation Accuracy: 36.38%\n",
      "\n",
      "Epoch [24/100], Loss: 0.1598, Accuracy: 94.51%\n",
      "Validation Loss: 2.8009, Validation Accuracy: 36.38%\n",
      "\n",
      "Epoch [25/100], Loss: 0.1753, Accuracy: 93.64%\n",
      "Validation Loss: 3.0990, Validation Accuracy: 35.98%\n",
      "\n",
      "Epoch [26/100], Loss: 0.1582, Accuracy: 94.55%\n",
      "Validation Loss: 3.4147, Validation Accuracy: 36.59%\n",
      "\n",
      "Epoch [27/100], Loss: 0.1689, Accuracy: 94.33%\n",
      "Validation Loss: 2.9413, Validation Accuracy: 34.55%\n",
      "\n",
      "Epoch [28/100], Loss: 0.1257, Accuracy: 95.47%\n",
      "Validation Loss: 2.9861, Validation Accuracy: 36.99%\n",
      "\n",
      "Epoch [29/100], Loss: 0.1329, Accuracy: 95.34%\n",
      "Validation Loss: 3.0067, Validation Accuracy: 38.41%\n",
      "\n",
      "Epoch [30/100], Loss: 0.1314, Accuracy: 95.64%\n",
      "Validation Loss: 3.0335, Validation Accuracy: 36.38%\n",
      "\n",
      "Epoch [31/100], Loss: 0.1634, Accuracy: 93.72%\n",
      "Validation Loss: 4.1543, Validation Accuracy: 36.38%\n",
      "\n",
      "Epoch [32/100], Loss: 0.1398, Accuracy: 95.64%\n",
      "Validation Loss: 3.4636, Validation Accuracy: 39.63%\n",
      "\n",
      "Epoch [33/100], Loss: 0.1106, Accuracy: 96.16%\n",
      "Validation Loss: 3.3951, Validation Accuracy: 37.40%\n",
      "\n",
      "Epoch [34/100], Loss: 0.1133, Accuracy: 96.08%\n",
      "Validation Loss: 3.0203, Validation Accuracy: 40.04%\n",
      "\n",
      "Epoch [35/100], Loss: 0.1194, Accuracy: 95.99%\n",
      "Validation Loss: 3.5537, Validation Accuracy: 40.65%\n",
      "\n",
      "Epoch [36/100], Loss: 0.1012, Accuracy: 96.12%\n",
      "Validation Loss: 2.8166, Validation Accuracy: 38.82%\n",
      "\n",
      "Epoch [37/100], Loss: 0.1128, Accuracy: 96.34%\n",
      "Validation Loss: 2.8718, Validation Accuracy: 39.84%\n",
      "\n",
      "Epoch [38/100], Loss: 0.0928, Accuracy: 96.82%\n",
      "Validation Loss: 2.6947, Validation Accuracy: 36.99%\n",
      "\n",
      "Epoch [39/100], Loss: 0.1057, Accuracy: 96.64%\n",
      "Validation Loss: 3.1295, Validation Accuracy: 38.41%\n",
      "\n",
      "Epoch [40/100], Loss: 0.0960, Accuracy: 96.64%\n",
      "Validation Loss: 3.7129, Validation Accuracy: 38.01%\n",
      "\n",
      "Epoch [41/100], Loss: 0.0995, Accuracy: 96.60%\n",
      "Validation Loss: 3.7189, Validation Accuracy: 35.98%\n",
      "\n",
      "Epoch [42/100], Loss: 0.0839, Accuracy: 97.34%\n",
      "Validation Loss: 3.1766, Validation Accuracy: 38.01%\n",
      "\n",
      "Epoch [43/100], Loss: 0.0903, Accuracy: 96.77%\n",
      "Validation Loss: 3.5274, Validation Accuracy: 36.38%\n",
      "\n",
      "Epoch [44/100], Loss: 0.1090, Accuracy: 95.99%\n",
      "Validation Loss: 3.0723, Validation Accuracy: 36.79%\n",
      "\n",
      "Epoch [45/100], Loss: 0.0970, Accuracy: 96.86%\n",
      "Validation Loss: 2.7280, Validation Accuracy: 41.87%\n",
      "\n",
      "Epoch [46/100], Loss: 0.0697, Accuracy: 97.47%\n",
      "Validation Loss: 3.1683, Validation Accuracy: 39.43%\n",
      "\n",
      "Epoch [47/100], Loss: 0.0892, Accuracy: 96.73%\n",
      "Validation Loss: 3.3355, Validation Accuracy: 37.20%\n",
      "\n",
      "Epoch [48/100], Loss: 0.0907, Accuracy: 96.64%\n",
      "Validation Loss: 3.1110, Validation Accuracy: 36.38%\n",
      "\n",
      "Epoch [49/100], Loss: 0.0596, Accuracy: 97.73%\n",
      "Validation Loss: 3.0191, Validation Accuracy: 37.20%\n",
      "\n",
      "Epoch [50/100], Loss: 0.0629, Accuracy: 97.91%\n",
      "Validation Loss: 3.5861, Validation Accuracy: 34.76%\n",
      "\n",
      "Epoch [51/100], Loss: 0.0752, Accuracy: 97.17%\n",
      "Validation Loss: 3.2436, Validation Accuracy: 41.26%\n",
      "\n",
      "Epoch [52/100], Loss: 0.0834, Accuracy: 96.86%\n",
      "Validation Loss: 3.3802, Validation Accuracy: 33.74%\n",
      "\n",
      "Epoch [53/100], Loss: 0.0765, Accuracy: 97.12%\n",
      "Validation Loss: 3.3087, Validation Accuracy: 36.79%\n",
      "\n",
      "Epoch [54/100], Loss: 0.1142, Accuracy: 95.90%\n",
      "Validation Loss: 3.2335, Validation Accuracy: 34.76%\n",
      "\n",
      "Epoch [55/100], Loss: 0.0668, Accuracy: 98.08%\n",
      "Validation Loss: 3.1111, Validation Accuracy: 36.18%\n",
      "\n",
      "Epoch [56/100], Loss: 0.0718, Accuracy: 97.30%\n",
      "Validation Loss: 3.3265, Validation Accuracy: 37.60%\n",
      "\n",
      "Epoch [57/100], Loss: 0.0627, Accuracy: 97.69%\n",
      "Validation Loss: 3.5633, Validation Accuracy: 37.20%\n",
      "\n",
      "Epoch [58/100], Loss: 0.0568, Accuracy: 98.13%\n",
      "Validation Loss: 2.9996, Validation Accuracy: 36.79%\n",
      "\n",
      "Epoch [59/100], Loss: 0.0681, Accuracy: 97.52%\n",
      "Validation Loss: 3.5655, Validation Accuracy: 32.72%\n",
      "\n",
      "Epoch [60/100], Loss: 0.0537, Accuracy: 98.43%\n",
      "Validation Loss: 2.9461, Validation Accuracy: 37.80%\n",
      "\n",
      "Epoch [61/100], Loss: 0.0700, Accuracy: 97.69%\n",
      "Validation Loss: 3.3967, Validation Accuracy: 35.77%\n",
      "\n",
      "Epoch [62/100], Loss: 0.0646, Accuracy: 97.91%\n",
      "Validation Loss: 3.3155, Validation Accuracy: 33.13%\n",
      "\n",
      "Epoch [63/100], Loss: 0.0444, Accuracy: 98.26%\n",
      "Validation Loss: 3.0838, Validation Accuracy: 35.37%\n",
      "\n",
      "Epoch [64/100], Loss: 0.0602, Accuracy: 97.82%\n",
      "Validation Loss: 3.0326, Validation Accuracy: 35.98%\n",
      "\n",
      "Epoch [65/100], Loss: 0.0502, Accuracy: 98.47%\n",
      "Validation Loss: 3.1625, Validation Accuracy: 38.21%\n",
      "\n",
      "Epoch [66/100], Loss: 0.0494, Accuracy: 98.17%\n",
      "Validation Loss: 3.1165, Validation Accuracy: 38.82%\n",
      "\n",
      "Epoch [67/100], Loss: 0.0699, Accuracy: 97.30%\n",
      "Validation Loss: 2.9210, Validation Accuracy: 34.96%\n",
      "\n",
      "Epoch [68/100], Loss: 0.0328, Accuracy: 98.78%\n",
      "Validation Loss: 3.0311, Validation Accuracy: 37.80%\n",
      "\n",
      "Epoch [69/100], Loss: 0.0481, Accuracy: 98.17%\n",
      "Validation Loss: 3.3953, Validation Accuracy: 36.99%\n",
      "\n",
      "Epoch [70/100], Loss: 0.0638, Accuracy: 97.82%\n",
      "Validation Loss: 3.1202, Validation Accuracy: 36.38%\n",
      "\n",
      "Epoch [71/100], Loss: 0.0644, Accuracy: 97.60%\n",
      "Validation Loss: 3.1354, Validation Accuracy: 37.20%\n",
      "\n",
      "Epoch [72/100], Loss: 0.0469, Accuracy: 98.47%\n",
      "Validation Loss: 3.1145, Validation Accuracy: 34.76%\n",
      "\n",
      "Epoch [73/100], Loss: 0.0490, Accuracy: 98.26%\n",
      "Validation Loss: 3.2150, Validation Accuracy: 35.37%\n",
      "\n",
      "Epoch [74/100], Loss: 0.0420, Accuracy: 98.30%\n",
      "Validation Loss: 3.2272, Validation Accuracy: 39.23%\n",
      "\n",
      "Epoch [75/100], Loss: 0.0312, Accuracy: 98.82%\n",
      "Validation Loss: 3.1832, Validation Accuracy: 36.18%\n",
      "\n",
      "Epoch [76/100], Loss: 0.0359, Accuracy: 98.69%\n",
      "Validation Loss: 3.3721, Validation Accuracy: 33.74%\n",
      "\n",
      "Epoch [77/100], Loss: 0.0360, Accuracy: 98.43%\n",
      "Validation Loss: 3.4790, Validation Accuracy: 34.55%\n",
      "\n",
      "Epoch [78/100], Loss: 0.0330, Accuracy: 98.74%\n",
      "Validation Loss: 3.3507, Validation Accuracy: 37.20%\n",
      "\n",
      "Epoch [79/100], Loss: 0.0380, Accuracy: 98.61%\n",
      "Validation Loss: 3.9548, Validation Accuracy: 35.77%\n",
      "\n",
      "Epoch [80/100], Loss: 0.0421, Accuracy: 98.52%\n",
      "Validation Loss: 3.1442, Validation Accuracy: 37.40%\n",
      "\n",
      "Epoch [81/100], Loss: 0.0429, Accuracy: 98.39%\n",
      "Validation Loss: 3.2346, Validation Accuracy: 38.82%\n",
      "\n",
      "Epoch [82/100], Loss: 0.0441, Accuracy: 98.47%\n",
      "Validation Loss: 3.2146, Validation Accuracy: 35.77%\n",
      "\n",
      "Epoch [83/100], Loss: 0.0520, Accuracy: 98.04%\n",
      "Validation Loss: 3.1839, Validation Accuracy: 37.80%\n",
      "\n",
      "Epoch [84/100], Loss: 0.0520, Accuracy: 98.21%\n",
      "Validation Loss: 3.2903, Validation Accuracy: 36.99%\n",
      "\n",
      "Epoch [85/100], Loss: 0.0415, Accuracy: 98.69%\n",
      "Validation Loss: 3.4807, Validation Accuracy: 36.99%\n",
      "\n",
      "Epoch [86/100], Loss: 0.0362, Accuracy: 98.91%\n",
      "Validation Loss: 3.1738, Validation Accuracy: 36.79%\n",
      "\n",
      "Epoch [87/100], Loss: 0.0572, Accuracy: 97.86%\n",
      "Validation Loss: 3.2438, Validation Accuracy: 38.01%\n",
      "\n",
      "Epoch [88/100], Loss: 0.0531, Accuracy: 98.04%\n",
      "Validation Loss: 3.2066, Validation Accuracy: 33.74%\n",
      "\n",
      "Epoch [89/100], Loss: 0.0284, Accuracy: 98.95%\n",
      "Validation Loss: 3.1390, Validation Accuracy: 38.41%\n",
      "\n",
      "Epoch [90/100], Loss: 0.0372, Accuracy: 98.69%\n",
      "Validation Loss: 3.1012, Validation Accuracy: 38.62%\n",
      "\n",
      "Epoch [91/100], Loss: 0.0432, Accuracy: 98.21%\n",
      "Validation Loss: 3.1660, Validation Accuracy: 37.40%\n",
      "\n",
      "Epoch [92/100], Loss: 0.0374, Accuracy: 98.74%\n",
      "Validation Loss: 3.0977, Validation Accuracy: 39.23%\n",
      "\n",
      "Epoch [93/100], Loss: 0.0393, Accuracy: 98.74%\n",
      "Validation Loss: 3.1443, Validation Accuracy: 40.65%\n",
      "\n",
      "Epoch [94/100], Loss: 0.0485, Accuracy: 98.30%\n",
      "Validation Loss: 3.2238, Validation Accuracy: 42.07%\n",
      "\n",
      "Epoch [95/100], Loss: 0.0318, Accuracy: 98.74%\n",
      "Validation Loss: 3.3094, Validation Accuracy: 36.59%\n",
      "\n",
      "Epoch [96/100], Loss: 0.0344, Accuracy: 98.43%\n",
      "Validation Loss: 3.4907, Validation Accuracy: 38.01%\n",
      "\n",
      "Epoch [97/100], Loss: 0.0453, Accuracy: 98.34%\n",
      "Validation Loss: 3.7533, Validation Accuracy: 35.16%\n",
      "\n",
      "Epoch [98/100], Loss: 0.0409, Accuracy: 98.82%\n",
      "Validation Loss: 3.4570, Validation Accuracy: 38.41%\n",
      "\n",
      "Epoch [99/100], Loss: 0.0485, Accuracy: 98.13%\n",
      "Validation Loss: 3.6483, Validation Accuracy: 37.20%\n",
      "\n",
      "Epoch [100/100], Loss: 0.0357, Accuracy: 98.69%\n",
      "Validation Loss: 3.2965, Validation Accuracy: 38.01%\n",
      "\n"
     ]
    }
   ],
   "source": [
    "import torch\n",
    "import torch.nn as nn\n",
    "import timm\n",
    "from torch.utils.data import DataLoader\n",
    "from torchvision import datasets, transforms\n",
    "import os\n",
    "\n",
    "# Set device to GPU if available\n",
    "device = torch.device(\"cuda\" if torch.cuda.is_available() else \"cpu\")\n",
    "print(f\"Using device: {device}\")\n",
    "\n",
    "# Dataset path (update this with your actual dataset path)\n",
    "data_dir = r'D:\\Engineering\\SEM7\\COMPUTER VISION\\proj_imp\\DATASET\\org_datahistopath_img_data'  # Replace with your dataset path\n",
    "batch_size = 32\n",
    "img_size = 224  # Standard size for EfficientNet\n",
    "\n",
    "# Define image transformations\n",
    "transform = transforms.Compose([\n",
    "    transforms.Resize((img_size, img_size)),\n",
    "    transforms.ToTensor(),\n",
    "    transforms.Normalize(mean=[0.485, 0.456, 0.406], std=[0.229, 0.224, 0.225])\n",
    "])\n",
    "\n",
    "# Load dataset\n",
    "train_data = datasets.ImageFolder(root=os.path.join(data_dir, 'train'), transform=transform)\n",
    "val_data = datasets.ImageFolder(root=os.path.join(data_dir, 'val'), transform=transform)\n",
    "\n",
    "train_loader = DataLoader(train_data, batch_size=batch_size, shuffle=True, num_workers=4)\n",
    "val_loader = DataLoader(val_data, batch_size=batch_size, shuffle=False, num_workers=4)\n",
    "\n",
    "# Load pre-trained EfficientNet model and modify for our dataset\n",
    "model = timm.create_model('efficientnet_b3', pretrained=False)  # Using EfficientNet-B3 as an example\n",
    "model.classifier = nn.Linear(model.classifier.in_features, len(train_data.classes))  # Adjust to number of classes\n",
    "model = model.to(device)\n",
    "\n",
    "# Define loss function and optimizer\n",
    "criterion = nn.CrossEntropyLoss()\n",
    "optimizer = torch.optim.AdamW(model.parameters(), lr=1e-4)\n",
    "\n",
    "# Training loop\n",
    "def train_model(model, train_loader, val_loader, criterion, optimizer, num_epochs=10):\n",
    "    for epoch in range(num_epochs):\n",
    "        # Training phase\n",
    "        model.train()\n",
    "        running_loss = 0.0\n",
    "        correct = 0\n",
    "        total = 0\n",
    "\n",
    "        for images, labels in train_loader:\n",
    "            images, labels = images.to(device), labels.to(device)\n",
    "\n",
    "            optimizer.zero_grad()\n",
    "            outputs = model(images)\n",
    "            loss = criterion(outputs, labels)\n",
    "            loss.backward()\n",
    "            optimizer.step()\n",
    "\n",
    "            running_loss += loss.item() * images.size(0)\n",
    "            _, predicted = torch.max(outputs, 1)\n",
    "            total += labels.size(0)\n",
    "            correct += (predicted == labels).sum().item()\n",
    "\n",
    "        epoch_loss = running_loss / len(train_loader.dataset)\n",
    "        epoch_acc = 100 * correct / total\n",
    "        print(f\"Epoch [{epoch+1}/{num_epochs}], Loss: {epoch_loss:.4f}, Accuracy: {epoch_acc:.2f}%\")\n",
    "\n",
    "        # Validation phase\n",
    "        model.eval()\n",
    "        val_loss = 0.0\n",
    "        correct = 0\n",
    "        total = 0\n",
    "\n",
    "        with torch.no_grad():\n",
    "            for images, labels in val_loader:\n",
    "                images, labels = images.to(device), labels.to(device)\n",
    "\n",
    "                outputs = model(images)\n",
    "                loss = criterion(outputs, labels)\n",
    "\n",
    "                val_loss += loss.item() * images.size(0)\n",
    "                _, predicted = torch.max(outputs, 1)\n",
    "                total += labels.size(0)\n",
    "                correct += (predicted == labels).sum().item()\n",
    "\n",
    "        val_loss /= len(val_loader.dataset)\n",
    "        val_acc = 100 * correct / total\n",
    "        print(f\"Validation Loss: {val_loss:.4f}, Validation Accuracy: {val_acc:.2f}%\\n\")\n",
    "\n",
    "# Run training\n",
    "train_model(model, train_loader, val_loader, criterion, optimizer, num_epochs=100)\n",
    "\n",
    "# Save the trained model\n",
    "torch.save(model.state_dict(), 'efficientnet_model.pth')\n"
   ]
  },
  {
   "cell_type": "code",
   "execution_count": 33,
   "metadata": {},
   "outputs": [
    {
     "name": "stderr",
     "output_type": "stream",
     "text": [
      "C:\\Users\\user\\AppData\\Local\\Temp\\ipykernel_2876\\859376039.py:13: FutureWarning: You are using `torch.load` with `weights_only=False` (the current default value), which uses the default pickle module implicitly. It is possible to construct malicious pickle data which will execute arbitrary code during unpickling (See https://github.com/pytorch/pytorch/blob/main/SECURITY.md#untrusted-models for more details). In a future release, the default value for `weights_only` will be flipped to `True`. This limits the functions that could be executed during unpickling. Arbitrary objects will no longer be allowed to be loaded via this mode unless they are explicitly allowlisted by the user via `torch.serialization.add_safe_globals`. We recommend you start setting `weights_only=True` for any use case where you don't have full control of the loaded file. Please open an issue on GitHub for any issues related to this experimental feature.\n",
      "  model.load_state_dict(torch.load(path))\n"
     ]
    },
    {
     "name": "stdout",
     "output_type": "stream",
     "text": [
      "Precision: 0.39\n",
      "Recall: 0.38\n",
      "F1 Score: 0.38\n",
      "\n",
      "Classification Report:\n",
      "\n",
      "               precision    recall  f1-score   support\n",
      "\n",
      "           EA       0.35      0.56      0.43        80\n",
      "   EH_Complex       0.55      0.40      0.47        42\n",
      "    EH_Simple       0.41      0.38      0.39        78\n",
      "           EP       0.32      0.29      0.31        95\n",
      "NE_Follicular       0.40      0.38      0.39       107\n",
      "    NE_Luteal       0.37      0.29      0.33        90\n",
      "\n",
      "     accuracy                           0.38       492\n",
      "    macro avg       0.40      0.39      0.39       492\n",
      " weighted avg       0.39      0.38      0.38       492\n",
      "\n"
     ]
    },
    {
     "data": {
      "image/png": "[encoded data removed]",
      "text/plain": [
       "<Figure size 800x600 with 2 Axes>"
      ]
     },
     "metadata": {},
     "output_type": "display_data"
    },
    {
     "data": {
      "image/png": "[encoded data removed]",
      "text/plain": [
       "<Figure size 1000x600 with 1 Axes>"
      ]
     },
     "metadata": {},
     "output_type": "display_data"
    }
   ],
   "source": [
    "from sklearn.metrics import classification_report, confusion_matrix, precision_score, recall_score, f1_score\n",
    "import seaborn as sns\n",
    "import matplotlib.pyplot as plt\n",
    "import pandas as pd\n",
    "import numpy as np\n",
    "\n",
    "def load_model(path, num_classes):\n",
    "    # Initialize the model structure\n",
    "    model = timm.create_model('efficientnet_b3', pretrained=False)\n",
    "    model.classifier = nn.Linear(model.classifier.in_features, num_classes)\n",
    "    \n",
    "    # Load the saved model weights\n",
    "    model.load_state_dict(torch.load(path))\n",
    "    model = model.to(device)\n",
    "    model.eval()\n",
    "    return model\n",
    "\n",
    "def evaluate_model_with_report(model, dataloader, class_names):\n",
    "    all_labels = []\n",
    "    all_preds = []\n",
    "    \n",
    "    with torch.no_grad():\n",
    "        for images, labels in dataloader:\n",
    "            images, labels = images.to(device), labels.to(device)\n",
    "            outputs = model(images)\n",
    "            _, preds = torch.max(outputs, 1)\n",
    "            \n",
    "            # Collect the labels and predictions\n",
    "            all_labels.extend(labels.cpu().numpy())\n",
    "            all_preds.extend(preds.cpu().numpy())\n",
    "    \n",
    "    # Calculate metrics\n",
    "    precision = precision_score(all_labels, all_preds, average='weighted')\n",
    "    recall = recall_score(all_labels, all_preds, average='weighted')\n",
    "    f1 = f1_score(all_labels, all_preds, average='weighted')\n",
    "    conf_matrix = confusion_matrix(all_labels, all_preds)\n",
    "    \n",
    "    print(f\"Precision: {precision:.2f}\")\n",
    "    print(f\"Recall: {recall:.2f}\")\n",
    "    print(f\"F1 Score: {f1:.2f}\")\n",
    "    \n",
    "    # Generate classification report\n",
    "    report = classification_report(all_labels, all_preds, target_names=class_names, digits=2)\n",
    "    print(\"\\nClassification Report:\\n\")\n",
    "    print(report)\n",
    "    \n",
    "    # Convert classification report to a DataFrame for visualization\n",
    "    report_dict = classification_report(all_labels, all_preds, target_names=class_names, output_dict=True)\n",
    "    metrics_df = pd.DataFrame(report_dict).transpose()\n",
    "    \n",
    "    # Plot confusion matrix\n",
    "    plt.figure(figsize=(8, 6))\n",
    "    sns.heatmap(conf_matrix, annot=True, fmt=\"d\", cmap=\"Blues\",\n",
    "                xticklabels=class_names, yticklabels=class_names)\n",
    "    plt.xlabel(\"Predicted Labels\")\n",
    "    plt.ylabel(\"True Labels\")\n",
    "    plt.title(\"Confusion Matrix\")\n",
    "    plt.show()\n",
    "    \n",
    "    # Plot precision, recall, and F1-score for each class\n",
    "    metrics_df = metrics_df[:-3]  # Exclude 'accuracy', 'macro avg', and 'weighted avg' for per-class metrics\n",
    "    metrics_df[['precision', 'recall', 'f1-score']].plot(kind='bar', figsize=(10, 6))\n",
    "    plt.title(\"Precision, Recall, and F1-Score per Class\")\n",
    "    plt.xlabel(\"Classes\")\n",
    "    plt.ylabel(\"Score\")\n",
    "    plt.xticks(range(len(class_names)), class_names, rotation=45)\n",
    "    plt.legend(loc=\"lower right\")\n",
    "    plt.tight_layout()\n",
    "    plt.show()\n",
    "\n",
    "# Load the saved model\n",
    "model = load_model(r'D:\\Engineering\\SEM7\\COMPUTER VISION\\proj_imp\\DATASET\\efficientnet_model.pth', num_classes=len(train_data.classes))\n",
    "\n",
    "# Evaluate the model and generate the classification report\n",
    "evaluate_model_with_report(model, val_loader, train_data.classes)\n"
   ]
  },
  {
   "cell_type": "markdown",
   "metadata": {},
   "source": [
    "# EfficientNet-b1"
   ]
  },
  {
   "cell_type": "code",
   "execution_count": 34,
   "metadata": {},
   "outputs": [
    {
     "name": "stdout",
     "output_type": "stream",
     "text": [
      "Using device: cuda\n",
      "Epoch [1/100], Loss: 1.1450, Accuracy: 56.63%\n",
      "Validation Loss: 0.7964, Validation Accuracy: 69.51%\n",
      "\n",
      "Epoch [2/100], Loss: 0.5852, Accuracy: 78.68%\n",
      "Validation Loss: 0.6573, Validation Accuracy: 77.85%\n",
      "\n",
      "Epoch [3/100], Loss: 0.3374, Accuracy: 88.23%\n",
      "Validation Loss: 0.6682, Validation Accuracy: 74.59%\n",
      "\n",
      "Epoch [4/100], Loss: 0.1840, Accuracy: 94.03%\n",
      "Validation Loss: 0.7564, Validation Accuracy: 74.39%\n",
      "\n",
      "Epoch [5/100], Loss: 0.1445, Accuracy: 95.47%\n",
      "Validation Loss: 0.8060, Validation Accuracy: 75.81%\n",
      "\n",
      "Epoch [6/100], Loss: 0.1114, Accuracy: 96.29%\n",
      "Validation Loss: 0.7051, Validation Accuracy: 78.86%\n",
      "\n",
      "Epoch [7/100], Loss: 0.0692, Accuracy: 97.91%\n",
      "Validation Loss: 0.8624, Validation Accuracy: 76.22%\n",
      "\n",
      "Epoch [8/100], Loss: 0.0806, Accuracy: 97.38%\n",
      "Validation Loss: 0.8755, Validation Accuracy: 76.22%\n",
      "\n",
      "Epoch [9/100], Loss: 0.1016, Accuracy: 96.69%\n",
      "Validation Loss: 0.9428, Validation Accuracy: 75.41%\n",
      "\n",
      "Epoch [10/100], Loss: 0.0899, Accuracy: 96.95%\n",
      "Validation Loss: 0.8929, Validation Accuracy: 77.44%\n",
      "\n",
      "Epoch [11/100], Loss: 0.0716, Accuracy: 97.60%\n",
      "Validation Loss: 0.8282, Validation Accuracy: 76.83%\n",
      "\n",
      "Epoch [12/100], Loss: 0.0699, Accuracy: 97.38%\n",
      "Validation Loss: 1.0045, Validation Accuracy: 72.97%\n",
      "\n",
      "Epoch [13/100], Loss: 0.0476, Accuracy: 98.43%\n",
      "Validation Loss: 0.9073, Validation Accuracy: 76.42%\n",
      "\n",
      "Epoch [14/100], Loss: 0.0665, Accuracy: 97.69%\n",
      "Validation Loss: 0.8644, Validation Accuracy: 75.81%\n",
      "\n",
      "Epoch [15/100], Loss: 0.0494, Accuracy: 98.13%\n",
      "Validation Loss: 0.8497, Validation Accuracy: 74.80%\n",
      "\n",
      "Epoch [16/100], Loss: 0.0413, Accuracy: 98.56%\n",
      "Validation Loss: 0.8640, Validation Accuracy: 74.59%\n",
      "\n",
      "Epoch [17/100], Loss: 0.0644, Accuracy: 98.04%\n",
      "Validation Loss: 0.9446, Validation Accuracy: 74.59%\n",
      "\n",
      "Epoch [18/100], Loss: 0.0465, Accuracy: 98.43%\n",
      "Validation Loss: 0.8677, Validation Accuracy: 75.20%\n",
      "\n",
      "Epoch [19/100], Loss: 0.0463, Accuracy: 98.39%\n",
      "Validation Loss: 0.8916, Validation Accuracy: 76.63%\n",
      "\n",
      "Epoch [20/100], Loss: 0.0475, Accuracy: 98.17%\n",
      "Validation Loss: 1.0494, Validation Accuracy: 73.17%\n",
      "\n",
      "Epoch [21/100], Loss: 0.0368, Accuracy: 98.43%\n",
      "Validation Loss: 0.9685, Validation Accuracy: 73.98%\n",
      "\n",
      "Epoch [22/100], Loss: 0.0382, Accuracy: 98.87%\n",
      "Validation Loss: 0.8994, Validation Accuracy: 75.00%\n",
      "\n",
      "Epoch [23/100], Loss: 0.0203, Accuracy: 99.08%\n",
      "Validation Loss: 0.9291, Validation Accuracy: 74.19%\n",
      "\n",
      "Epoch [24/100], Loss: 0.0325, Accuracy: 98.87%\n",
      "Validation Loss: 0.8849, Validation Accuracy: 77.24%\n",
      "\n",
      "Epoch [25/100], Loss: 0.0364, Accuracy: 98.56%\n",
      "Validation Loss: 0.9199, Validation Accuracy: 77.64%\n",
      "\n",
      "Epoch [26/100], Loss: 0.0313, Accuracy: 98.91%\n",
      "Validation Loss: 0.9502, Validation Accuracy: 76.42%\n",
      "\n",
      "Epoch [27/100], Loss: 0.0258, Accuracy: 99.00%\n",
      "Validation Loss: 0.9446, Validation Accuracy: 77.85%\n",
      "\n",
      "Epoch [28/100], Loss: 0.0303, Accuracy: 98.87%\n",
      "Validation Loss: 1.1005, Validation Accuracy: 74.80%\n",
      "\n",
      "Epoch [29/100], Loss: 0.0216, Accuracy: 99.08%\n",
      "Validation Loss: 0.9353, Validation Accuracy: 76.63%\n",
      "\n",
      "Epoch [30/100], Loss: 0.0248, Accuracy: 99.13%\n",
      "Validation Loss: 0.9531, Validation Accuracy: 76.02%\n",
      "\n",
      "Epoch [31/100], Loss: 0.0360, Accuracy: 98.69%\n",
      "Validation Loss: 1.0151, Validation Accuracy: 76.02%\n",
      "\n",
      "Epoch [32/100], Loss: 0.0376, Accuracy: 98.65%\n",
      "Validation Loss: 1.1342, Validation Accuracy: 72.36%\n",
      "\n",
      "Epoch [33/100], Loss: 0.0615, Accuracy: 97.73%\n",
      "Validation Loss: 0.9220, Validation Accuracy: 74.39%\n",
      "\n",
      "Epoch [34/100], Loss: 0.0436, Accuracy: 98.47%\n",
      "Validation Loss: 0.8050, Validation Accuracy: 78.25%\n",
      "\n",
      "Epoch [35/100], Loss: 0.0254, Accuracy: 98.91%\n",
      "Validation Loss: 0.8853, Validation Accuracy: 77.24%\n",
      "\n",
      "Epoch [36/100], Loss: 0.0247, Accuracy: 98.95%\n",
      "Validation Loss: 1.0628, Validation Accuracy: 76.02%\n",
      "\n",
      "Epoch [37/100], Loss: 0.0332, Accuracy: 98.87%\n",
      "Validation Loss: 0.9850, Validation Accuracy: 74.19%\n",
      "\n",
      "Epoch [38/100], Loss: 0.0332, Accuracy: 99.04%\n",
      "Validation Loss: 0.9218, Validation Accuracy: 77.44%\n",
      "\n",
      "Epoch [39/100], Loss: 0.0162, Accuracy: 99.26%\n",
      "Validation Loss: 0.8961, Validation Accuracy: 77.44%\n",
      "\n",
      "Epoch [40/100], Loss: 0.0156, Accuracy: 99.17%\n",
      "Validation Loss: 1.0228, Validation Accuracy: 73.78%\n",
      "\n",
      "Epoch [41/100], Loss: 0.0201, Accuracy: 99.13%\n",
      "Validation Loss: 1.1211, Validation Accuracy: 75.00%\n",
      "\n",
      "Epoch [42/100], Loss: 0.0332, Accuracy: 98.69%\n",
      "Validation Loss: 1.1190, Validation Accuracy: 75.41%\n",
      "\n",
      "Epoch [43/100], Loss: 0.0339, Accuracy: 98.91%\n",
      "Validation Loss: 1.2075, Validation Accuracy: 75.61%\n",
      "\n",
      "Epoch [44/100], Loss: 0.0455, Accuracy: 98.34%\n",
      "Validation Loss: 1.1753, Validation Accuracy: 76.42%\n",
      "\n",
      "Epoch [45/100], Loss: 0.0529, Accuracy: 97.95%\n",
      "Validation Loss: 1.1617, Validation Accuracy: 72.97%\n",
      "\n",
      "Epoch [46/100], Loss: 0.0788, Accuracy: 97.47%\n",
      "Validation Loss: 1.1646, Validation Accuracy: 75.20%\n",
      "\n",
      "Epoch [47/100], Loss: 0.0798, Accuracy: 97.43%\n",
      "Validation Loss: 1.0901, Validation Accuracy: 72.36%\n",
      "\n",
      "Epoch [48/100], Loss: 0.0435, Accuracy: 98.61%\n",
      "Validation Loss: 0.9358, Validation Accuracy: 75.00%\n",
      "\n",
      "Epoch [49/100], Loss: 0.0191, Accuracy: 99.08%\n",
      "Validation Loss: 1.0067, Validation Accuracy: 76.22%\n",
      "\n",
      "Epoch [50/100], Loss: 0.0154, Accuracy: 99.08%\n",
      "Validation Loss: 1.0010, Validation Accuracy: 75.61%\n",
      "\n",
      "Epoch [51/100], Loss: 0.0158, Accuracy: 99.13%\n",
      "Validation Loss: 0.9599, Validation Accuracy: 76.42%\n",
      "\n",
      "Epoch [52/100], Loss: 0.0097, Accuracy: 99.56%\n",
      "Validation Loss: 0.8600, Validation Accuracy: 76.22%\n",
      "\n",
      "Epoch [53/100], Loss: 0.0073, Accuracy: 99.56%\n",
      "Validation Loss: 0.9342, Validation Accuracy: 78.05%\n",
      "\n",
      "Epoch [54/100], Loss: 0.0094, Accuracy: 99.35%\n",
      "Validation Loss: 0.8867, Validation Accuracy: 77.44%\n",
      "\n",
      "Epoch [55/100], Loss: 0.0091, Accuracy: 99.52%\n",
      "Validation Loss: 0.9723, Validation Accuracy: 75.20%\n",
      "\n",
      "Epoch [56/100], Loss: 0.0066, Accuracy: 99.65%\n",
      "Validation Loss: 0.9904, Validation Accuracy: 75.61%\n",
      "\n",
      "Epoch [57/100], Loss: 0.0087, Accuracy: 99.56%\n",
      "Validation Loss: 0.9196, Validation Accuracy: 76.42%\n",
      "\n",
      "Epoch [58/100], Loss: 0.0066, Accuracy: 99.65%\n",
      "Validation Loss: 0.9245, Validation Accuracy: 77.03%\n",
      "\n",
      "Epoch [59/100], Loss: 0.0304, Accuracy: 99.13%\n",
      "Validation Loss: 1.1425, Validation Accuracy: 73.78%\n",
      "\n",
      "Epoch [60/100], Loss: 0.0275, Accuracy: 99.04%\n",
      "Validation Loss: 1.0446, Validation Accuracy: 77.44%\n",
      "\n",
      "Epoch [61/100], Loss: 0.0201, Accuracy: 99.22%\n",
      "Validation Loss: 1.0755, Validation Accuracy: 76.63%\n",
      "\n",
      "Epoch [62/100], Loss: 0.0423, Accuracy: 98.52%\n",
      "Validation Loss: 1.1870, Validation Accuracy: 73.78%\n",
      "\n",
      "Epoch [63/100], Loss: 0.0541, Accuracy: 97.73%\n",
      "Validation Loss: 1.2301, Validation Accuracy: 72.56%\n",
      "\n",
      "Epoch [64/100], Loss: 0.0695, Accuracy: 97.25%\n",
      "Validation Loss: 1.1546, Validation Accuracy: 73.58%\n",
      "\n",
      "Epoch [65/100], Loss: 0.0369, Accuracy: 98.61%\n",
      "Validation Loss: 1.2218, Validation Accuracy: 75.81%\n",
      "\n",
      "Epoch [66/100], Loss: 0.0248, Accuracy: 98.95%\n",
      "Validation Loss: 1.2861, Validation Accuracy: 74.80%\n",
      "\n",
      "Epoch [67/100], Loss: 0.0314, Accuracy: 98.87%\n",
      "Validation Loss: 1.2308, Validation Accuracy: 73.58%\n",
      "\n",
      "Epoch [68/100], Loss: 0.0633, Accuracy: 98.13%\n",
      "Validation Loss: 1.1427, Validation Accuracy: 72.56%\n",
      "\n",
      "Epoch [69/100], Loss: 0.0258, Accuracy: 99.17%\n",
      "Validation Loss: 0.9377, Validation Accuracy: 76.63%\n",
      "\n",
      "Epoch [70/100], Loss: 0.0165, Accuracy: 99.30%\n",
      "Validation Loss: 1.0367, Validation Accuracy: 76.22%\n",
      "\n",
      "Epoch [71/100], Loss: 0.0132, Accuracy: 99.26%\n",
      "Validation Loss: 1.0363, Validation Accuracy: 75.20%\n",
      "\n",
      "Epoch [72/100], Loss: 0.0114, Accuracy: 99.43%\n",
      "Validation Loss: 0.9877, Validation Accuracy: 77.85%\n",
      "\n",
      "Epoch [73/100], Loss: 0.0216, Accuracy: 99.08%\n",
      "Validation Loss: 1.2023, Validation Accuracy: 73.78%\n",
      "\n",
      "Epoch [74/100], Loss: 0.0200, Accuracy: 99.08%\n",
      "Validation Loss: 1.2087, Validation Accuracy: 73.78%\n",
      "\n",
      "Epoch [75/100], Loss: 0.0109, Accuracy: 99.48%\n",
      "Validation Loss: 1.1445, Validation Accuracy: 73.37%\n",
      "\n",
      "Epoch [76/100], Loss: 0.0144, Accuracy: 99.35%\n",
      "Validation Loss: 1.0382, Validation Accuracy: 73.78%\n",
      "\n",
      "Epoch [77/100], Loss: 0.0178, Accuracy: 99.22%\n",
      "Validation Loss: 1.1104, Validation Accuracy: 76.22%\n",
      "\n",
      "Epoch [78/100], Loss: 0.0118, Accuracy: 99.43%\n",
      "Validation Loss: 1.0691, Validation Accuracy: 76.42%\n",
      "\n",
      "Epoch [79/100], Loss: 0.0097, Accuracy: 99.48%\n",
      "Validation Loss: 1.1094, Validation Accuracy: 74.80%\n",
      "\n",
      "Epoch [80/100], Loss: 0.0075, Accuracy: 99.56%\n",
      "Validation Loss: 1.1537, Validation Accuracy: 75.41%\n",
      "\n",
      "Epoch [81/100], Loss: 0.0068, Accuracy: 99.48%\n",
      "Validation Loss: 1.1855, Validation Accuracy: 73.37%\n",
      "\n",
      "Epoch [82/100], Loss: 0.0100, Accuracy: 99.43%\n",
      "Validation Loss: 1.2048, Validation Accuracy: 75.41%\n",
      "\n",
      "Epoch [83/100], Loss: 0.0258, Accuracy: 98.91%\n",
      "Validation Loss: 1.1322, Validation Accuracy: 73.58%\n",
      "\n",
      "Epoch [84/100], Loss: 0.0236, Accuracy: 99.17%\n",
      "Validation Loss: 1.1520, Validation Accuracy: 74.59%\n",
      "\n",
      "Epoch [85/100], Loss: 0.0210, Accuracy: 99.22%\n",
      "Validation Loss: 1.0993, Validation Accuracy: 74.19%\n",
      "\n",
      "Epoch [86/100], Loss: 0.0244, Accuracy: 99.00%\n",
      "Validation Loss: 1.3216, Validation Accuracy: 71.54%\n",
      "\n",
      "Epoch [87/100], Loss: 0.0478, Accuracy: 98.34%\n",
      "Validation Loss: 1.3665, Validation Accuracy: 72.76%\n",
      "\n",
      "Epoch [88/100], Loss: 0.0833, Accuracy: 97.04%\n",
      "Validation Loss: 1.1658, Validation Accuracy: 72.76%\n",
      "\n",
      "Epoch [89/100], Loss: 0.0348, Accuracy: 98.39%\n",
      "Validation Loss: 1.2694, Validation Accuracy: 73.98%\n",
      "\n",
      "Epoch [90/100], Loss: 0.0164, Accuracy: 99.22%\n",
      "Validation Loss: 1.2655, Validation Accuracy: 74.59%\n",
      "\n",
      "Epoch [91/100], Loss: 0.0133, Accuracy: 99.35%\n",
      "Validation Loss: 1.2061, Validation Accuracy: 73.37%\n",
      "\n",
      "Epoch [92/100], Loss: 0.0174, Accuracy: 99.26%\n",
      "Validation Loss: 1.3529, Validation Accuracy: 71.54%\n",
      "\n",
      "Epoch [93/100], Loss: 0.0267, Accuracy: 98.95%\n",
      "Validation Loss: 1.3612, Validation Accuracy: 73.58%\n",
      "\n",
      "Epoch [94/100], Loss: 0.0226, Accuracy: 99.26%\n",
      "Validation Loss: 1.1839, Validation Accuracy: 76.02%\n",
      "\n",
      "Epoch [95/100], Loss: 0.0141, Accuracy: 99.35%\n",
      "Validation Loss: 1.1117, Validation Accuracy: 77.03%\n",
      "\n",
      "Epoch [96/100], Loss: 0.0174, Accuracy: 99.13%\n",
      "Validation Loss: 1.1599, Validation Accuracy: 75.41%\n",
      "\n",
      "Epoch [97/100], Loss: 0.0104, Accuracy: 99.30%\n",
      "Validation Loss: 1.1252, Validation Accuracy: 76.02%\n",
      "\n",
      "Epoch [98/100], Loss: 0.0180, Accuracy: 99.13%\n",
      "Validation Loss: 1.1218, Validation Accuracy: 75.41%\n",
      "\n",
      "Epoch [99/100], Loss: 0.0120, Accuracy: 99.30%\n",
      "Validation Loss: 1.0284, Validation Accuracy: 76.42%\n",
      "\n",
      "Epoch [100/100], Loss: 0.0072, Accuracy: 99.61%\n",
      "Validation Loss: 1.0493, Validation Accuracy: 77.64%\n",
      "\n"
     ]
    }
   ],
   "source": [
    "import torch\n",
    "import torch.nn as nn\n",
    "import timm\n",
    "from torch.utils.data import DataLoader\n",
    "from torchvision import datasets, transforms\n",
    "import os\n",
    "\n",
    "# Set device to GPU if available\n",
    "device = torch.device(\"cuda\" if torch.cuda.is_available() else \"cpu\")\n",
    "print(f\"Using device: {device}\")\n",
    "\n",
    "# Dataset path (update this with your actual dataset path)\n",
    "data_dir = r'D:\\Engineering\\SEM7\\COMPUTER VISION\\proj_imp\\DATASET\\org_datahistopath_img_data'  # Replace with your dataset path\n",
    "batch_size = 32\n",
    "img_size = 224  # Standard size for EfficientNet\n",
    "\n",
    "# Define image transformations\n",
    "transform = transforms.Compose([\n",
    "    transforms.Resize((img_size, img_size)),\n",
    "    transforms.ToTensor(),\n",
    "    transforms.Normalize(mean=[0.485, 0.456, 0.406], std=[0.229, 0.224, 0.225])\n",
    "])\n",
    "\n",
    "# Load dataset\n",
    "train_data = datasets.ImageFolder(root=os.path.join(data_dir, 'train'), transform=transform)\n",
    "val_data = datasets.ImageFolder(root=os.path.join(data_dir, 'val'), transform=transform)\n",
    "\n",
    "train_loader = DataLoader(train_data, batch_size=batch_size, shuffle=True, num_workers=4)\n",
    "val_loader = DataLoader(val_data, batch_size=batch_size, shuffle=False, num_workers=4)\n",
    "\n",
    "# Load pre-trained EfficientNet model and modify for our dataset\n",
    "model = timm.create_model('efficientnet_b1', pretrained=True)  # Using EfficientNet-B3 as an example\n",
    "model.classifier = nn.Linear(model.classifier.in_features, len(train_data.classes))  # Adjust to number of classes\n",
    "model = model.to(device)\n",
    "\n",
    "# Define loss function and optimizer\n",
    "criterion = nn.CrossEntropyLoss()\n",
    "optimizer = torch.optim.AdamW(model.parameters(), lr=1e-4)\n",
    "\n",
    "# Training loop\n",
    "def train_model(model, train_loader, val_loader, criterion, optimizer, num_epochs=10):\n",
    "    for epoch in range(num_epochs):\n",
    "        # Training phase\n",
    "        model.train()\n",
    "        running_loss = 0.0\n",
    "        correct = 0\n",
    "        total = 0\n",
    "\n",
    "        for images, labels in train_loader:\n",
    "            images, labels = images.to(device), labels.to(device)\n",
    "\n",
    "            optimizer.zero_grad()\n",
    "            outputs = model(images)\n",
    "            loss = criterion(outputs, labels)\n",
    "            loss.backward()\n",
    "            optimizer.step()\n",
    "\n",
    "            running_loss += loss.item() * images.size(0)\n",
    "            _, predicted = torch.max(outputs, 1)\n",
    "            total += labels.size(0)\n",
    "            correct += (predicted == labels).sum().item()\n",
    "\n",
    "        epoch_loss = running_loss / len(train_loader.dataset)\n",
    "        epoch_acc = 100 * correct / total\n",
    "        print(f\"Epoch [{epoch+1}/{num_epochs}], Loss: {epoch_loss:.4f}, Accuracy: {epoch_acc:.2f}%\")\n",
    "\n",
    "        # Validation phase\n",
    "        model.eval()\n",
    "        val_loss = 0.0\n",
    "        correct = 0\n",
    "        total = 0\n",
    "\n",
    "        with torch.no_grad():\n",
    "            for images, labels in val_loader:\n",
    "                images, labels = images.to(device), labels.to(device)\n",
    "\n",
    "                outputs = model(images)\n",
    "                loss = criterion(outputs, labels)\n",
    "\n",
    "                val_loss += loss.item() * images.size(0)\n",
    "                _, predicted = torch.max(outputs, 1)\n",
    "                total += labels.size(0)\n",
    "                correct += (predicted == labels).sum().item()\n",
    "\n",
    "        val_loss /= len(val_loader.dataset)\n",
    "        val_acc = 100 * correct / total\n",
    "        print(f\"Validation Loss: {val_loss:.4f}, Validation Accuracy: {val_acc:.2f}%\\n\")\n",
    "\n",
    "# Run training\n",
    "train_model(model, train_loader, val_loader, criterion, optimizer, num_epochs=100)\n",
    "\n",
    "# Save the trained model\n",
    "torch.save(model.state_dict(), 'efficientnetb1_model.pth')\n"
   ]
  },
  {
   "cell_type": "code",
   "execution_count": 37,
   "metadata": {},
   "outputs": [
    {
     "name": "stderr",
     "output_type": "stream",
     "text": [
      "C:\\Users\\user\\AppData\\Local\\Temp\\ipykernel_2876\\1727709341.py:13: FutureWarning: You are using `torch.load` with `weights_only=False` (the current default value), which uses the default pickle module implicitly. It is possible to construct malicious pickle data which will execute arbitrary code during unpickling (See https://github.com/pytorch/pytorch/blob/main/SECURITY.md#untrusted-models for more details). In a future release, the default value for `weights_only` will be flipped to `True`. This limits the functions that could be executed during unpickling. Arbitrary objects will no longer be allowed to be loaded via this mode unless they are explicitly allowlisted by the user via `torch.serialization.add_safe_globals`. We recommend you start setting `weights_only=True` for any use case where you don't have full control of the loaded file. Please open an issue on GitHub for any issues related to this experimental feature.\n",
      "  model.load_state_dict(torch.load(path))\n"
     ]
    },
    {
     "name": "stdout",
     "output_type": "stream",
     "text": [
      "Precision: 0.78\n",
      "Recall: 0.78\n",
      "F1 Score: 0.78\n",
      "\n",
      "Classification Report:\n",
      "\n",
      "               precision    recall  f1-score   support\n",
      "\n",
      "           EA       0.81      0.88      0.84        80\n",
      "   EH_Complex       0.71      0.69      0.70        42\n",
      "    EH_Simple       0.83      0.74      0.78        78\n",
      "           EP       0.66      0.71      0.68        95\n",
      "NE_Follicular       0.76      0.75      0.75       107\n",
      "    NE_Luteal       0.88      0.87      0.87        90\n",
      "\n",
      "     accuracy                           0.78       492\n",
      "    macro avg       0.78      0.77      0.77       492\n",
      " weighted avg       0.78      0.78      0.78       492\n",
      "\n"
     ]
    },
    {
     "data": {
      "image/png": "[encoded data removed]",
      "text/plain": [
       "<Figure size 800x600 with 2 Axes>"
      ]
     },
     "metadata": {},
     "output_type": "display_data"
    },
    {
     "data": {
      "image/png": "[encoded data removed]",
      "text/plain": [
       "<Figure size 1000x600 with 1 Axes>"
      ]
     },
     "metadata": {},
     "output_type": "display_data"
    }
   ],
   "source": [
    "from sklearn.metrics import classification_report, confusion_matrix, precision_score, recall_score, f1_score\n",
    "import seaborn as sns\n",
    "import matplotlib.pyplot as plt\n",
    "import pandas as pd\n",
    "import numpy as np\n",
    "\n",
    "def load_model(path, num_classes):\n",
    "    # Initialize the model structure\n",
    "    model = timm.create_model('efficientnet_b1', pretrained=False)\n",
    "    model.classifier = nn.Linear(model.classifier.in_features, num_classes)\n",
    "    \n",
    "    # Load the saved model weights\n",
    "    model.load_state_dict(torch.load(path))\n",
    "    model = model.to(device)\n",
    "    model.eval()\n",
    "    return model\n",
    "\n",
    "def evaluate_model_with_report(model, dataloader, class_names):\n",
    "    all_labels = []\n",
    "    all_preds = []\n",
    "    \n",
    "    with torch.no_grad():\n",
    "        for images, labels in dataloader:\n",
    "            images, labels = images.to(device), labels.to(device)\n",
    "            outputs = model(images)\n",
    "            _, preds = torch.max(outputs, 1)\n",
    "            \n",
    "            # Collect the labels and predictions\n",
    "            all_labels.extend(labels.cpu().numpy())\n",
    "            all_preds.extend(preds.cpu().numpy())\n",
    "    \n",
    "    # Calculate metrics\n",
    "    precision = precision_score(all_labels, all_preds, average='weighted')\n",
    "    recall = recall_score(all_labels, all_preds, average='weighted')\n",
    "    f1 = f1_score(all_labels, all_preds, average='weighted')\n",
    "    conf_matrix = confusion_matrix(all_labels, all_preds)\n",
    "    \n",
    "    print(f\"Precision: {precision:.2f}\")\n",
    "    print(f\"Recall: {recall:.2f}\")\n",
    "    print(f\"F1 Score: {f1:.2f}\")\n",
    "    \n",
    "    # Generate classification report\n",
    "    report = classification_report(all_labels, all_preds, target_names=class_names, digits=2)\n",
    "    print(\"\\nClassification Report:\\n\")\n",
    "    print(report)\n",
    "    \n",
    "    # Convert classification report to a DataFrame for visualization\n",
    "    report_dict = classification_report(all_labels, all_preds, target_names=class_names, output_dict=True)\n",
    "    metrics_df = pd.DataFrame(report_dict).transpose()\n",
    "    \n",
    "    # Plot confusion matrix\n",
    "    plt.figure(figsize=(8, 6))\n",
    "    sns.heatmap(conf_matrix, annot=True, fmt=\"d\", cmap=\"Blues\",\n",
    "                xticklabels=class_names, yticklabels=class_names)\n",
    "    plt.xlabel(\"Predicted Labels\")\n",
    "    plt.ylabel(\"True Labels\")\n",
    "    plt.title(\"Confusion Matrix\")\n",
    "    plt.show()\n",
    "    \n",
    "    # Plot precision, recall, and F1-score for each class\n",
    "    metrics_df = metrics_df[:-3]  # Exclude 'accuracy', 'macro avg', and 'weighted avg' for per-class metrics\n",
    "    metrics_df[['precision', 'recall', 'f1-score']].plot(kind='bar', figsize=(10, 6))\n",
    "    plt.title(\"Precision, Recall, and F1-Score per Class\")\n",
    "    plt.xlabel(\"Classes\")\n",
    "    plt.ylabel(\"Score\")\n",
    "    plt.xticks(range(len(class_names)), class_names, rotation=45)\n",
    "    plt.legend(loc=\"lower right\")\n",
    "    plt.tight_layout()\n",
    "    plt.show()\n",
    "\n",
    "# Load the saved model\n",
    "model = load_model(r'D:\\Engineering\\SEM7\\COMPUTER VISION\\proj_imp\\DATASET\\efficientnetb1_model.pth', num_classes=len(train_data.classes))\n",
    "\n",
    "# Evaluate the model and generate the classification report\n",
    "evaluate_model_with_report(model, val_loader, train_data.classes)"
   ]
  }
 ],
 "metadata": {
  "kernelspec": {
   "display_name": "Python 3",
   "language": "python",
   "name": "python3"
  },
  "language_info": {
   "codemirror_mode": {
    "name": "ipython",
    "version": 3
   },
   "file_extension": ".py",
   "mimetype": "text/x-python",
   "name": "python",
   "nbconvert_exporter": "python",
   "pygments_lexer": "ipython3",
   "version": "3.12.3"
  }
 },
 "nbformat": 4,
 "nbformat_minor": 2
}
